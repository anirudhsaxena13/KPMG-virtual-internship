{
  "nbformat": 4,
  "nbformat_minor": 0,
  "metadata": {
    "colab": {
      "name": "KPMGDataAnalysis_Module1Task.ipynb",
      "provenance": []
    },
    "kernelspec": {
      "name": "python3",
      "display_name": "Python 3"
    },
    "language_info": {
      "name": "python"
    }
  },
  "cells": [
    {
      "cell_type": "code",
      "metadata": {
        "id": "HBDdFj3xBk9P"
      },
      "source": [
        "import numpy as np\n",
        "import pandas as pd\n",
        "import matplotlib.pyplot as plt"
      ],
      "execution_count": 18,
      "outputs": []
    },
    {
      "cell_type": "code",
      "metadata": {
        "id": "HIa_4WTICw6B"
      },
      "source": [
        "import os\n",
        "for dirname, _, filenames in os.walk('../data'):\n",
        "    for filename in filenames:\n",
        "        print(os.path.join(dirname, filename))"
      ],
      "execution_count": 19,
      "outputs": []
    },
    {
      "cell_type": "code",
      "metadata": {
        "colab": {
          "base_uri": "https://localhost:8080/"
        },
        "id": "gtsztbr1Cw9J",
        "outputId": "5a3bcc1b-0997-4167-f84a-09430075c289"
      },
      "source": [
        "file_name = '/content/KPMG_VI_New_raw_data_update_final.xlsx'\n",
        "print(pd.ExcelFile(file_name).sheet_names)"
      ],
      "execution_count": 20,
      "outputs": [
        {
          "output_type": "stream",
          "text": [
            "['Title Sheet', 'Transactions', 'NewCustomerList', 'CustomerDemographic', 'CustomerAddress']\n"
          ],
          "name": "stdout"
        }
      ]
    },
    {
      "cell_type": "markdown",
      "metadata": {
        "id": "wwZCcolUDGWE"
      },
      "source": [
        "# ***Exploring CustomerDemographic***"
      ]
    },
    {
      "cell_type": "code",
      "metadata": {
        "colab": {
          "base_uri": "https://localhost:8080/",
          "height": 326
        },
        "id": "nBwpjcgWCw_Q",
        "outputId": "8a6b4b32-e47a-483c-835f-28146f3f07ff"
      },
      "source": [
        "cust_demo_df = pd.read_excel(file_name, header=1, sheet_name='CustomerDemographic')\n",
        "cust_demo_df.head()"
      ],
      "execution_count": 21,
      "outputs": [
        {
          "output_type": "execute_result",
          "data": {
            "text/html": [
              "<div>\n",
              "<style scoped>\n",
              "    .dataframe tbody tr th:only-of-type {\n",
              "        vertical-align: middle;\n",
              "    }\n",
              "\n",
              "    .dataframe tbody tr th {\n",
              "        vertical-align: top;\n",
              "    }\n",
              "\n",
              "    .dataframe thead th {\n",
              "        text-align: right;\n",
              "    }\n",
              "</style>\n",
              "<table border=\"1\" class=\"dataframe\">\n",
              "  <thead>\n",
              "    <tr style=\"text-align: right;\">\n",
              "      <th></th>\n",
              "      <th>customer_id</th>\n",
              "      <th>first_name</th>\n",
              "      <th>last_name</th>\n",
              "      <th>gender</th>\n",
              "      <th>past_3_years_bike_related_purchases</th>\n",
              "      <th>DOB</th>\n",
              "      <th>job_title</th>\n",
              "      <th>job_industry_category</th>\n",
              "      <th>wealth_segment</th>\n",
              "      <th>deceased_indicator</th>\n",
              "      <th>default</th>\n",
              "      <th>owns_car</th>\n",
              "      <th>tenure</th>\n",
              "    </tr>\n",
              "  </thead>\n",
              "  <tbody>\n",
              "    <tr>\n",
              "      <th>0</th>\n",
              "      <td>1</td>\n",
              "      <td>Laraine</td>\n",
              "      <td>Medendorp</td>\n",
              "      <td>F</td>\n",
              "      <td>93</td>\n",
              "      <td>1953-10-12</td>\n",
              "      <td>Executive Secretary</td>\n",
              "      <td>Health</td>\n",
              "      <td>Mass Customer</td>\n",
              "      <td>N</td>\n",
              "      <td>\"'</td>\n",
              "      <td>Yes</td>\n",
              "      <td>11.0</td>\n",
              "    </tr>\n",
              "    <tr>\n",
              "      <th>1</th>\n",
              "      <td>2</td>\n",
              "      <td>Eli</td>\n",
              "      <td>Bockman</td>\n",
              "      <td>Male</td>\n",
              "      <td>81</td>\n",
              "      <td>1980-12-16</td>\n",
              "      <td>Administrative Officer</td>\n",
              "      <td>Financial Services</td>\n",
              "      <td>Mass Customer</td>\n",
              "      <td>N</td>\n",
              "      <td>&lt;script&gt;alert('hi')&lt;/script&gt;</td>\n",
              "      <td>Yes</td>\n",
              "      <td>16.0</td>\n",
              "    </tr>\n",
              "    <tr>\n",
              "      <th>2</th>\n",
              "      <td>3</td>\n",
              "      <td>Arlin</td>\n",
              "      <td>Dearle</td>\n",
              "      <td>Male</td>\n",
              "      <td>61</td>\n",
              "      <td>1954-01-20</td>\n",
              "      <td>Recruiting Manager</td>\n",
              "      <td>Property</td>\n",
              "      <td>Mass Customer</td>\n",
              "      <td>N</td>\n",
              "      <td>2018-02-01 00:00:00</td>\n",
              "      <td>Yes</td>\n",
              "      <td>15.0</td>\n",
              "    </tr>\n",
              "    <tr>\n",
              "      <th>3</th>\n",
              "      <td>4</td>\n",
              "      <td>Talbot</td>\n",
              "      <td>NaN</td>\n",
              "      <td>Male</td>\n",
              "      <td>33</td>\n",
              "      <td>1961-10-03</td>\n",
              "      <td>NaN</td>\n",
              "      <td>IT</td>\n",
              "      <td>Mass Customer</td>\n",
              "      <td>N</td>\n",
              "      <td>() { _; } &gt;_[$($())] { touch /tmp/blns.shellsh...</td>\n",
              "      <td>No</td>\n",
              "      <td>7.0</td>\n",
              "    </tr>\n",
              "    <tr>\n",
              "      <th>4</th>\n",
              "      <td>5</td>\n",
              "      <td>Sheila-kathryn</td>\n",
              "      <td>Calton</td>\n",
              "      <td>Female</td>\n",
              "      <td>56</td>\n",
              "      <td>1977-05-13</td>\n",
              "      <td>Senior Editor</td>\n",
              "      <td>NaN</td>\n",
              "      <td>Affluent Customer</td>\n",
              "      <td>N</td>\n",
              "      <td>NIL</td>\n",
              "      <td>Yes</td>\n",
              "      <td>8.0</td>\n",
              "    </tr>\n",
              "  </tbody>\n",
              "</table>\n",
              "</div>"
            ],
            "text/plain": [
              "   customer_id      first_name  ... owns_car tenure\n",
              "0            1         Laraine  ...      Yes   11.0\n",
              "1            2             Eli  ...      Yes   16.0\n",
              "2            3           Arlin  ...      Yes   15.0\n",
              "3            4          Talbot  ...       No    7.0\n",
              "4            5  Sheila-kathryn  ...      Yes    8.0\n",
              "\n",
              "[5 rows x 13 columns]"
            ]
          },
          "metadata": {
            "tags": []
          },
          "execution_count": 21
        }
      ]
    },
    {
      "cell_type": "code",
      "metadata": {
        "colab": {
          "base_uri": "https://localhost:8080/"
        },
        "id": "rKfdiHndCxBh",
        "outputId": "d0b33895-37c8-4b54-c9ef-c63b723e2eae"
      },
      "source": [
        "cust_demo_df.shape"
      ],
      "execution_count": 22,
      "outputs": [
        {
          "output_type": "execute_result",
          "data": {
            "text/plain": [
              "(4000, 13)"
            ]
          },
          "metadata": {
            "tags": []
          },
          "execution_count": 22
        }
      ]
    },
    {
      "cell_type": "code",
      "metadata": {
        "colab": {
          "base_uri": "https://localhost:8080/"
        },
        "id": "44GsP3W0Hb8k",
        "outputId": "5a772f12-aa72-4bfd-b110-59494d09deba"
      },
      "source": [
        "cust_demo_df.info()"
      ],
      "execution_count": 35,
      "outputs": [
        {
          "output_type": "stream",
          "text": [
            "<class 'pandas.core.frame.DataFrame'>\n",
            "RangeIndex: 4000 entries, 0 to 3999\n",
            "Data columns (total 13 columns):\n",
            " #   Column                               Non-Null Count  Dtype         \n",
            "---  ------                               --------------  -----         \n",
            " 0   customer_id                          4000 non-null   int64         \n",
            " 1   first_name                           4000 non-null   object        \n",
            " 2   last_name                            3875 non-null   object        \n",
            " 3   gender                               4000 non-null   object        \n",
            " 4   past_3_years_bike_related_purchases  4000 non-null   int64         \n",
            " 5   DOB                                  3913 non-null   datetime64[ns]\n",
            " 6   job_title                            3494 non-null   object        \n",
            " 7   job_industry_category                3344 non-null   object        \n",
            " 8   wealth_segment                       4000 non-null   object        \n",
            " 9   deceased_indicator                   4000 non-null   object        \n",
            " 10  default                              3698 non-null   object        \n",
            " 11  owns_car                             4000 non-null   object        \n",
            " 12  tenure                               3913 non-null   float64       \n",
            "dtypes: datetime64[ns](1), float64(1), int64(2), object(9)\n",
            "memory usage: 406.4+ KB\n"
          ],
          "name": "stdout"
        }
      ]
    },
    {
      "cell_type": "code",
      "metadata": {
        "colab": {
          "base_uri": "https://localhost:8080/"
        },
        "id": "PGc54v9ZCxDZ",
        "outputId": "ba68752e-de82-4b03-e2e9-af4fa7bd15c9"
      },
      "source": [
        "cust_demo_df[cust_demo_df.duplicated()].sum()"
      ],
      "execution_count": 23,
      "outputs": [
        {
          "output_type": "execute_result",
          "data": {
            "text/plain": [
              "customer_id                            0.0\n",
              "first_name                             0.0\n",
              "last_name                              0.0\n",
              "gender                                 0.0\n",
              "past_3_years_bike_related_purchases    0.0\n",
              "DOB                                    0.0\n",
              "job_title                              0.0\n",
              "job_industry_category                  0.0\n",
              "wealth_segment                         0.0\n",
              "deceased_indicator                     0.0\n",
              "default                                0.0\n",
              "owns_car                               0.0\n",
              "tenure                                 0.0\n",
              "dtype: float64"
            ]
          },
          "metadata": {
            "tags": []
          },
          "execution_count": 23
        }
      ]
    },
    {
      "cell_type": "code",
      "metadata": {
        "colab": {
          "base_uri": "https://localhost:8080/"
        },
        "id": "rC4SAvS_CxFq",
        "outputId": "5fd5d2d2-21d3-4a77-cf49-6b30c9952f35"
      },
      "source": [
        "print('customer_id blanks:', pd.isna(cust_demo_df['customer_id']).sum())"
      ],
      "execution_count": 24,
      "outputs": [
        {
          "output_type": "stream",
          "text": [
            "customer_id blanks: 0\n"
          ],
          "name": "stdout"
        }
      ]
    },
    {
      "cell_type": "code",
      "metadata": {
        "colab": {
          "base_uri": "https://localhost:8080/"
        },
        "id": "YKmySBzoEMV9",
        "outputId": "418ab152-c186-4968-c025-5f3bd2b86996"
      },
      "source": [
        "pd.notna(cust_demo_df['customer_id'].unique()).sum()"
      ],
      "execution_count": 25,
      "outputs": [
        {
          "output_type": "execute_result",
          "data": {
            "text/plain": [
              "4000"
            ]
          },
          "metadata": {
            "tags": []
          },
          "execution_count": 25
        }
      ]
    },
    {
      "cell_type": "code",
      "metadata": {
        "colab": {
          "base_uri": "https://localhost:8080/"
        },
        "id": "wDBa7YJhEnJl",
        "outputId": "60584c5c-a4fc-45a0-f4e0-f82ca52699a1"
      },
      "source": [
        "print('first_name blanks:', pd.isna(cust_demo_df['first_name']).sum())\n",
        "pd.notna(cust_demo_df['first_name'].unique()).sum()"
      ],
      "execution_count": 26,
      "outputs": [
        {
          "output_type": "stream",
          "text": [
            "first_name blanks: 0\n"
          ],
          "name": "stdout"
        },
        {
          "output_type": "execute_result",
          "data": {
            "text/plain": [
              "3139"
            ]
          },
          "metadata": {
            "tags": []
          },
          "execution_count": 26
        }
      ]
    },
    {
      "cell_type": "code",
      "metadata": {
        "colab": {
          "base_uri": "https://localhost:8080/"
        },
        "id": "-e7Ng1WmFHyp",
        "outputId": "b0d7efa4-f885-44cb-8279-c6aa4b28eff0"
      },
      "source": [
        "print('last_name blanks:', pd.isna(cust_demo_df['last_name']).sum())\n",
        "pd.notna(cust_demo_df['last_name'].unique()).sum()"
      ],
      "execution_count": 27,
      "outputs": [
        {
          "output_type": "stream",
          "text": [
            "last_name blanks: 125\n"
          ],
          "name": "stdout"
        },
        {
          "output_type": "execute_result",
          "data": {
            "text/plain": [
              "3725"
            ]
          },
          "metadata": {
            "tags": []
          },
          "execution_count": 27
        }
      ]
    },
    {
      "cell_type": "code",
      "metadata": {
        "colab": {
          "base_uri": "https://localhost:8080/"
        },
        "id": "OJLnP4TXHvAX",
        "outputId": "00707b92-a77d-4fff-90b5-b85aafda3478"
      },
      "source": [
        "cust_demo_df['gender'].value_counts()"
      ],
      "execution_count": 38,
      "outputs": [
        {
          "output_type": "execute_result",
          "data": {
            "text/plain": [
              "Female    2037\n",
              "Male      1872\n",
              "U           88\n",
              "F            1\n",
              "Femal        1\n",
              "M            1\n",
              "Name: gender, dtype: int64"
            ]
          },
          "metadata": {
            "tags": []
          },
          "execution_count": 38
        }
      ]
    },
    {
      "cell_type": "markdown",
      "metadata": {
        "id": "qL8KH9q6IC2F"
      },
      "source": [
        "\n",
        "***Gender column has inconsistent values, we need to replace them with their appropriate values.***"
      ]
    },
    {
      "cell_type": "code",
      "metadata": {
        "id": "kfHr0QJ9I3bg"
      },
      "source": [
        "# Replace inconsistent values with appropriate values\n",
        "cust_demo_df['gender'] = cust_demo_df['gender'].replace('F','Female').replace('M','Male').replace('Femal','Female').replace('U','Unspecified')"
      ],
      "execution_count": 39,
      "outputs": []
    },
    {
      "cell_type": "code",
      "metadata": {
        "colab": {
          "base_uri": "https://localhost:8080/"
        },
        "id": "U4ORwAMpJWbA",
        "outputId": "2564bb75-cd24-4437-be18-f59558595efe"
      },
      "source": [
        "cust_demo_df['gender'].value_counts()"
      ],
      "execution_count": 41,
      "outputs": [
        {
          "output_type": "execute_result",
          "data": {
            "text/plain": [
              "Female         2039\n",
              "Male           1873\n",
              "Unspecified      88\n",
              "Name: gender, dtype: int64"
            ]
          },
          "metadata": {
            "tags": []
          },
          "execution_count": 41
        }
      ]
    },
    {
      "cell_type": "code",
      "metadata": {
        "colab": {
          "base_uri": "https://localhost:8080/",
          "height": 367
        },
        "id": "0kfH-q51FmyU",
        "outputId": "90f5900c-6fd9-4a7b-c2e1-45bdf4771f1a"
      },
      "source": [
        "print('gender:', cust_demo_df['gender'].unique())\n",
        "print('blanks:', pd.isna(cust_demo_df['gender']).sum())\n",
        "plt.hist(cust_demo_df['gender'][pd.notna(cust_demo_df['gender'])])"
      ],
      "execution_count": 42,
      "outputs": [
        {
          "output_type": "stream",
          "text": [
            "gender: ['Female' 'Male' 'Unspecified']\n",
            "blanks: 0\n"
          ],
          "name": "stdout"
        },
        {
          "output_type": "execute_result",
          "data": {
            "text/plain": [
              "(array([2039.,    0.,    0.,    0.,    0., 1873.,    0.,    0.,    0.,\n",
              "          88.]),\n",
              " array([0. , 0.2, 0.4, 0.6, 0.8, 1. , 1.2, 1.4, 1.6, 1.8, 2. ]),\n",
              " <a list of 10 Patch objects>)"
            ]
          },
          "metadata": {
            "tags": []
          },
          "execution_count": 42
        },
        {
          "output_type": "display_data",
          "data": {
            "image/png": "[encoded data removed]",
            "text/plain": [
              "<Figure size 432x288 with 1 Axes>"
            ]
          },
          "metadata": {
            "tags": [],
            "needs_background": "light"
          }
        }
      ]
    },
    {
      "cell_type": "code",
      "metadata": {
        "colab": {
          "base_uri": "https://localhost:8080/"
        },
        "id": "P0KGayppF1EQ",
        "outputId": "2b1d39df-a284-4e60-dfca-49e751aadcb4"
      },
      "source": [
        "cust_demo_df['past_3_years_bike_related_purchases'].describe()"
      ],
      "execution_count": 29,
      "outputs": [
        {
          "output_type": "execute_result",
          "data": {
            "text/plain": [
              "count    4000.000000\n",
              "mean       48.890000\n",
              "std        28.715005\n",
              "min         0.000000\n",
              "25%        24.000000\n",
              "50%        48.000000\n",
              "75%        73.000000\n",
              "max        99.000000\n",
              "Name: past_3_years_bike_related_purchases, dtype: float64"
            ]
          },
          "metadata": {
            "tags": []
          },
          "execution_count": 29
        }
      ]
    },
    {
      "cell_type": "code",
      "metadata": {
        "colab": {
          "base_uri": "https://localhost:8080/"
        },
        "id": "ajGRUSn0Gkmo",
        "outputId": "d59c34fe-0d6b-4188-c31a-f6e88c48f444"
      },
      "source": [
        "print('past_3_years_bike_related_purchases blanks:', pd.isna(cust_demo_df['past_3_years_bike_related_purchases']).sum())"
      ],
      "execution_count": 30,
      "outputs": [
        {
          "output_type": "stream",
          "text": [
            "past_3_years_bike_related_purchases blanks: 0\n"
          ],
          "name": "stdout"
        }
      ]
    },
    {
      "cell_type": "code",
      "metadata": {
        "colab": {
          "base_uri": "https://localhost:8080/"
        },
        "id": "PsrwHCdAGpXh",
        "outputId": "214c1154-889c-433e-c202-136bbe4a188f"
      },
      "source": [
        "cust_demo_df['DOB'].describe()"
      ],
      "execution_count": 31,
      "outputs": [
        {
          "output_type": "stream",
          "text": [
            "/usr/local/lib/python3.7/dist-packages/ipykernel_launcher.py:1: FutureWarning: Treating datetime data as categorical rather than numeric in `.describe` is deprecated and will be removed in a future version of pandas. Specify `datetime_is_numeric=True` to silence this warning and adopt the future behavior now.\n",
            "  \"\"\"Entry point for launching an IPython kernel.\n"
          ],
          "name": "stderr"
        },
        {
          "output_type": "execute_result",
          "data": {
            "text/plain": [
              "count                    3913\n",
              "unique                   3448\n",
              "top       1978-01-30 00:00:00\n",
              "freq                        7\n",
              "first     1843-12-21 00:00:00\n",
              "last      2002-03-11 00:00:00\n",
              "Name: DOB, dtype: object"
            ]
          },
          "metadata": {
            "tags": []
          },
          "execution_count": 31
        }
      ]
    },
    {
      "cell_type": "code",
      "metadata": {
        "colab": {
          "base_uri": "https://localhost:8080/"
        },
        "id": "GvK8_IjzGvs7",
        "outputId": "ed94e020-95cd-42c3-b3b1-503f48ede814"
      },
      "source": [
        "print('DOB blanks:', pd.isna(cust_demo_df['DOB']).sum())"
      ],
      "execution_count": 32,
      "outputs": [
        {
          "output_type": "stream",
          "text": [
            "DOB blanks: 87\n"
          ],
          "name": "stdout"
        }
      ]
    },
    {
      "cell_type": "code",
      "metadata": {
        "colab": {
          "base_uri": "https://localhost:8080/",
          "height": 282
        },
        "id": "PPxcjTnSG2Ry",
        "outputId": "33ff4355-39e2-46b0-dbf2-594963304bb7"
      },
      "source": [
        "plt.scatter([d.year for d in cust_demo_df['DOB']], [d.month for d in cust_demo_df['DOB']])"
      ],
      "execution_count": 33,
      "outputs": [
        {
          "output_type": "execute_result",
          "data": {
            "text/plain": [
              "<matplotlib.collections.PathCollection at 0x7fa1980c6190>"
            ]
          },
          "metadata": {
            "tags": []
          },
          "execution_count": 33
        },
        {
          "output_type": "display_data",
          "data": {
            "image/png": "[encoded data removed]",
            "text/plain": [
              "<Figure size 432x288 with 1 Axes>"
            ]
          },
          "metadata": {
            "tags": [],
            "needs_background": "light"
          }
        }
      ]
    },
    {
      "cell_type": "code",
      "metadata": {
        "id": "32NRgrtlG8NH"
      },
      "source": [
        "from datetime import datetime\n",
        "cust_demo_df['age'] = (datetime.now() - cust_demo_df['DOB']) // 365"
      ],
      "execution_count": 43,
      "outputs": []
    },
    {
      "cell_type": "code",
      "metadata": {
        "colab": {
          "base_uri": "https://localhost:8080/"
        },
        "id": "PIlZ55f3KHgX",
        "outputId": "33e2d4c2-d426-46a2-b087-8b2941ba0e93"
      },
      "source": [
        "cust_demo_df['age'].describe()"
      ],
      "execution_count": 44,
      "outputs": [
        {
          "output_type": "execute_result",
          "data": {
            "text/plain": [
              "count                           3913\n",
              "mean      43 days 20:09:08.848324341\n",
              "std       12 days 19:17:57.825070499\n",
              "min       19 days 03:54:40.358674449\n",
              "25%       34 days 04:53:51.043605956\n",
              "50%       43 days 19:33:37.892921024\n",
              "75%       53 days 07:39:32.961414175\n",
              "max      177 days 11:44:09.125797736\n",
              "Name: age, dtype: object"
            ]
          },
          "metadata": {
            "tags": []
          },
          "execution_count": 44
        }
      ]
    },
    {
      "cell_type": "code",
      "metadata": {
        "colab": {
          "base_uri": "https://localhost:8080/",
          "height": 282
        },
        "id": "akfxtQ3uKHjM",
        "outputId": "59f4f1d2-2732-4152-8612-ed75be74afab"
      },
      "source": [
        "plt.scatter([d.year for d in cust_demo_df['DOB']], cust_demo_df['age'].dt.days)"
      ],
      "execution_count": 45,
      "outputs": [
        {
          "output_type": "execute_result",
          "data": {
            "text/plain": [
              "<matplotlib.collections.PathCollection at 0x7fa198566c90>"
            ]
          },
          "metadata": {
            "tags": []
          },
          "execution_count": 45
        },
        {
          "output_type": "display_data",
          "data": {
            "image/png": "[encoded data removed]",
            "text/plain": [
              "<Figure size 432x288 with 1 Axes>"
            ]
          },
          "metadata": {
            "tags": [],
            "needs_background": "light"
          }
        }
      ]
    },
    {
      "cell_type": "code",
      "metadata": {
        "colab": {
          "base_uri": "https://localhost:8080/"
        },
        "id": "7clsrxf8KHpA",
        "outputId": "8f6879ad-2e42-41d1-e968-ad92c861fd3f"
      },
      "source": [
        "print('job_title:', cust_demo_df['job_title'].unique())\n",
        "print('blanks:', pd.isna(cust_demo_df['job_title']).sum())"
      ],
      "execution_count": 48,
      "outputs": [
        {
          "output_type": "stream",
          "text": [
            "job_title: ['Executive Secretary' 'Administrative Officer' 'Recruiting Manager' nan\n",
            " 'Senior Editor' 'Media Manager I' 'Business Systems Development Analyst'\n",
            " 'Senior Quality Engineer' 'Nuclear Power Engineer' 'Developer I'\n",
            " 'Account Executive' 'Junior Executive' 'Media Manager IV'\n",
            " 'Sales Associate' 'Professor' 'Geological Engineer' 'Project Manager'\n",
            " 'Safety Technician I' 'Research Assistant I' 'Accounting Assistant III'\n",
            " 'Editor' 'Research Nurse' 'Safety Technician III' 'Staff Accountant III'\n",
            " 'Legal Assistant' 'Product Engineer' 'Information Systems Manager'\n",
            " 'VP Quality Control' 'Social Worker' 'Senior Cost Accountant'\n",
            " 'Assistant Media Planner' 'Payment Adjustment Coordinator' 'Food Chemist'\n",
            " 'Accountant III' 'Director of Sales' 'Senior Financial Analyst'\n",
            " 'Registered Nurse' 'Biostatistician II' 'Computer Systems Analyst II'\n",
            " 'Software Test Engineer II' 'Paralegal' 'VP Sales'\n",
            " 'Chief Design Engineer' 'Office Assistant III'\n",
            " 'Physical Therapy Assistant' 'Help Desk Operator' 'Web Developer II'\n",
            " 'Research Associate' 'Teacher' 'VP Product Management' 'Statistician II'\n",
            " 'Automation Specialist IV' 'Data Coordiator' 'Software Test Engineer III'\n",
            " 'Internal Auditor' 'Analyst Programmer' 'Occupational Therapist'\n",
            " 'Speech Pathologist' 'Quality Control Specialist' 'Civil Engineer'\n",
            " 'Software Engineer III' 'Community Outreach Specialist'\n",
            " 'Safety Technician IV' 'VP Accounting' 'General Manager'\n",
            " 'Nurse Practicioner' 'Automation Specialist II' 'Marketing Assistant'\n",
            " 'Marketing Manager' 'Staff Scientist' 'Assistant Professor'\n",
            " 'Budget/Accounting Analyst IV' 'Associate Professor' 'Graphic Designer'\n",
            " 'Administrative Assistant II' 'Compensation Analyst'\n",
            " 'Systems Administrator III' 'Financial Advisor' 'Chemical Engineer'\n",
            " 'Web Designer I' 'Senior Developer' 'Office Assistant II' 'Recruiter'\n",
            " 'Operator' 'Programmer Analyst III' 'Quality Engineer'\n",
            " 'Environmental Tech' 'Analog Circuit Design manager' 'Cost Accountant'\n",
            " 'Librarian' 'Structural Analysis Engineer' 'Pharmacist'\n",
            " 'Assistant Manager' 'Accountant I' 'Web Designer III' 'Geologist III'\n",
            " 'Software Test Engineer I' 'Structural Engineer' 'Safety Technician II'\n",
            " 'Web Developer III' 'Programmer Analyst II' 'Design Engineer'\n",
            " 'Statistician I' 'VP Marketing' 'Desktop Support Technician' 'Actuary'\n",
            " 'Database Administrator III' 'Electrical Engineer' 'Tax Accountant'\n",
            " 'Clinical Specialist' 'Database Administrator IV'\n",
            " 'Systems Administrator II' 'Account Coordinator' 'Programmer III'\n",
            " 'Administrative Assistant III' 'Nurse' 'Technical Writer'\n",
            " 'Staff Accountant II' 'Dental Hygienist' 'Sales Representative'\n",
            " 'Budget/Accounting Analyst III' 'Computer Systems Analyst IV'\n",
            " 'Geologist I' 'Financial Analyst' 'Accounting Assistant II'\n",
            " 'Senior Sales Associate' 'Database Administrator II' 'Engineer I'\n",
            " 'Budget/Accounting Analyst I' 'Developer IV' 'Database Administrator I'\n",
            " 'Environmental Specialist' 'Computer Systems Analyst I'\n",
            " 'Account Representative IV' 'Statistician IV' 'Human Resources Manager'\n",
            " 'GIS Technical Architect' 'Programmer IV' 'Accounting Assistant IV'\n",
            " 'Software Engineer IV' 'Programmer II' 'Engineer III'\n",
            " 'Software Consultant' 'Biostatistician IV' 'Help Desk Technician'\n",
            " 'Automation Specialist I' 'Developer III' 'Human Resources Assistant I'\n",
            " 'Geologist IV' 'Media Manager II' 'Statistician III' 'Engineer II'\n",
            " 'Health Coach II' 'Developer II' 'Systems Administrator I'\n",
            " 'Web Developer I' 'Software Engineer II' 'Accounting Assistant I'\n",
            " 'Research Assistant II' 'Programmer Analyst IV' 'Health Coach I'\n",
            " 'Accountant II' 'Automation Specialist III' 'Administrative Assistant I'\n",
            " 'Health Coach IV' 'Media Manager III' 'Account Representative III'\n",
            " 'Web Designer IV' 'Budget/Accounting Analyst II' 'Web Developer IV'\n",
            " 'Programmer I' 'Biostatistician III' 'Software Test Engineer IV'\n",
            " 'Research Assistant IV' 'Account Representative I' 'Accountant IV'\n",
            " 'Biostatistician I' 'Human Resources Assistant IV'\n",
            " 'Administrative Assistant IV' 'Office Assistant I'\n",
            " 'Human Resources Assistant II' 'Mechanical Systems Engineer'\n",
            " 'Engineer IV' 'Health Coach III' 'Office Assistant IV'\n",
            " 'Software Engineer I' 'Human Resources Assistant III'\n",
            " 'Staff Accountant I' 'Computer Systems Analyst III' 'Geologist II'\n",
            " 'Web Designer II' 'Staff Accountant IV' 'Account Representative II'\n",
            " 'Programmer Analyst I' 'Systems Administrator IV'\n",
            " 'Research Assistant III']\n",
            "blanks: 506\n"
          ],
          "name": "stdout"
        }
      ]
    },
    {
      "cell_type": "code",
      "metadata": {
        "colab": {
          "base_uri": "https://localhost:8080/"
        },
        "id": "wWBdl0w9KHrK",
        "outputId": "fccab8ba-4d3b-4cda-ef4b-40dd036c539a"
      },
      "source": [
        "print('job_industry_category:', cust_demo_df['job_industry_category'].unique())\n",
        "print('blanks:', pd.isna(cust_demo_df['job_industry_category']).sum())"
      ],
      "execution_count": 52,
      "outputs": [
        {
          "output_type": "stream",
          "text": [
            "job_industry_category: ['Health' 'Financial Services' 'Property' 'IT' nan 'Retail' 'Argiculture'\n",
            " 'Manufacturing' 'Telecommunications' 'Entertainment']\n",
            "blanks: 656\n"
          ],
          "name": "stdout"
        }
      ]
    },
    {
      "cell_type": "code",
      "metadata": {
        "colab": {
          "base_uri": "https://localhost:8080/",
          "height": 367
        },
        "id": "NO_lcmckKHtX",
        "outputId": "ea55d7d7-77cd-4a41-844c-caaa85449ec8"
      },
      "source": [
        "print('wealth_segment:', cust_demo_df['wealth_segment'].unique())\n",
        "print('blanks:', pd.isna(cust_demo_df['wealth_segment']).sum())\n",
        "plt.hist(cust_demo_df['wealth_segment'][pd.notna(cust_demo_df['wealth_segment'])])"
      ],
      "execution_count": 50,
      "outputs": [
        {
          "output_type": "stream",
          "text": [
            "wealth_segment: ['Mass Customer' 'Affluent Customer' 'High Net Worth']\n",
            "blanks: 0\n"
          ],
          "name": "stdout"
        },
        {
          "output_type": "execute_result",
          "data": {
            "text/plain": [
              "(array([2000.,    0.,    0.,    0.,    0.,  979.,    0.,    0.,    0.,\n",
              "        1021.]),\n",
              " array([0. , 0.2, 0.4, 0.6, 0.8, 1. , 1.2, 1.4, 1.6, 1.8, 2. ]),\n",
              " <a list of 10 Patch objects>)"
            ]
          },
          "metadata": {
            "tags": []
          },
          "execution_count": 50
        },
        {
          "output_type": "display_data",
          "data": {
            "image/png": "[encoded data removed]",
            "text/plain": [
              "<Figure size 432x288 with 1 Axes>"
            ]
          },
          "metadata": {
            "tags": [],
            "needs_background": "light"
          }
        }
      ]
    },
    {
      "cell_type": "code",
      "metadata": {
        "colab": {
          "base_uri": "https://localhost:8080/"
        },
        "id": "c8W_IQLMMbPf",
        "outputId": "5ae3058b-3b99-42e7-93ac-6b9dd53fb95d"
      },
      "source": [
        "cust_demo_df['deceased_indicator'].value_counts()"
      ],
      "execution_count": 54,
      "outputs": [
        {
          "output_type": "execute_result",
          "data": {
            "text/plain": [
              "N    3998\n",
              "Y       2\n",
              "Name: deceased_indicator, dtype: int64"
            ]
          },
          "metadata": {
            "tags": []
          },
          "execution_count": 54
        }
      ]
    },
    {
      "cell_type": "code",
      "metadata": {
        "colab": {
          "base_uri": "https://localhost:8080/",
          "height": 367
        },
        "id": "dDMjDY6vKHvp",
        "outputId": "12acceb4-7fb1-4836-ec87-6f56bc4e92cb"
      },
      "source": [
        "print('deceased_indicator:', cust_demo_df['deceased_indicator'].unique())\n",
        "print('blanks:', pd.isna(cust_demo_df['deceased_indicator']).sum())\n",
        "plt.hist(cust_demo_df['deceased_indicator'][pd.notna(cust_demo_df['deceased_indicator'])])"
      ],
      "execution_count": 55,
      "outputs": [
        {
          "output_type": "stream",
          "text": [
            "deceased_indicator: ['N' 'Y']\n",
            "blanks: 0\n"
          ],
          "name": "stdout"
        },
        {
          "output_type": "execute_result",
          "data": {
            "text/plain": [
              "(array([3.998e+03, 0.000e+00, 0.000e+00, 0.000e+00, 0.000e+00, 0.000e+00,\n",
              "        0.000e+00, 0.000e+00, 0.000e+00, 2.000e+00]),\n",
              " array([0. , 0.1, 0.2, 0.3, 0.4, 0.5, 0.6, 0.7, 0.8, 0.9, 1. ]),\n",
              " <a list of 10 Patch objects>)"
            ]
          },
          "metadata": {
            "tags": []
          },
          "execution_count": 55
        },
        {
          "output_type": "display_data",
          "data": {
            "image/png": "[encoded data removed]",
            "text/plain": [
              "<Figure size 432x288 with 1 Axes>"
            ]
          },
          "metadata": {
            "tags": [],
            "needs_background": "light"
          }
        }
      ]
    },
    {
      "cell_type": "code",
      "metadata": {
        "colab": {
          "base_uri": "https://localhost:8080/"
        },
        "id": "W8sTrUpzMH6Q",
        "outputId": "3e36e14c-049a-4844-d944-e01eaac978c2"
      },
      "source": [
        "cust_demo_df['owns_car'].value_counts()"
      ],
      "execution_count": 56,
      "outputs": [
        {
          "output_type": "execute_result",
          "data": {
            "text/plain": [
              "Yes    2024\n",
              "No     1976\n",
              "Name: owns_car, dtype: int64"
            ]
          },
          "metadata": {
            "tags": []
          },
          "execution_count": 56
        }
      ]
    },
    {
      "cell_type": "code",
      "metadata": {
        "colab": {
          "base_uri": "https://localhost:8080/",
          "height": 367
        },
        "id": "YbPCnh-8MH34",
        "outputId": "66cfdda0-1413-4f30-f994-37ea1e0c57ba"
      },
      "source": [
        "print('owns_car:', cust_demo_df['owns_car'].unique())\n",
        "print('blanks:', pd.isna(cust_demo_df['owns_car']).sum())\n",
        "plt.hist(cust_demo_df['owns_car'][pd.notna(cust_demo_df['owns_car'])])"
      ],
      "execution_count": 57,
      "outputs": [
        {
          "output_type": "stream",
          "text": [
            "owns_car: ['Yes' 'No']\n",
            "blanks: 0\n"
          ],
          "name": "stdout"
        },
        {
          "output_type": "execute_result",
          "data": {
            "text/plain": [
              "(array([2024.,    0.,    0.,    0.,    0.,    0.,    0.,    0.,    0.,\n",
              "        1976.]),\n",
              " array([0. , 0.1, 0.2, 0.3, 0.4, 0.5, 0.6, 0.7, 0.8, 0.9, 1. ]),\n",
              " <a list of 10 Patch objects>)"
            ]
          },
          "metadata": {
            "tags": []
          },
          "execution_count": 57
        },
        {
          "output_type": "display_data",
          "data": {
            "image/png": "[encoded data removed]",
            "text/plain": [
              "<Figure size 432x288 with 1 Axes>"
            ]
          },
          "metadata": {
            "tags": [],
            "needs_background": "light"
          }
        }
      ]
    },
    {
      "cell_type": "code",
      "metadata": {
        "colab": {
          "base_uri": "https://localhost:8080/"
        },
        "id": "3s76t6GRMH1W",
        "outputId": "f5e4fe6f-0b94-4cdb-9081-b8e6fb808a18"
      },
      "source": [
        "cust_demo_df['tenure'].describe()"
      ],
      "execution_count": 58,
      "outputs": [
        {
          "output_type": "execute_result",
          "data": {
            "text/plain": [
              "count    3913.000000\n",
              "mean       10.657041\n",
              "std         5.660146\n",
              "min         1.000000\n",
              "25%         6.000000\n",
              "50%        11.000000\n",
              "75%        15.000000\n",
              "max        22.000000\n",
              "Name: tenure, dtype: float64"
            ]
          },
          "metadata": {
            "tags": []
          },
          "execution_count": 58
        }
      ]
    },
    {
      "cell_type": "code",
      "metadata": {
        "colab": {
          "base_uri": "https://localhost:8080/"
        },
        "id": "cFdcB_y-MHxl",
        "outputId": "20b883d1-a3e1-43d6-d39e-dcf30f2b4154"
      },
      "source": [
        "print('tenure blanks:', pd.isna(cust_demo_df['tenure']).sum())"
      ],
      "execution_count": 59,
      "outputs": [
        {
          "output_type": "stream",
          "text": [
            "tenure blanks: 87\n"
          ],
          "name": "stdout"
        }
      ]
    },
    {
      "cell_type": "code",
      "metadata": {
        "colab": {
          "base_uri": "https://localhost:8080/"
        },
        "id": "X-EKF-SwKHyV",
        "outputId": "c14cfe5e-1074-4e51-eae3-5c5214462d49"
      },
      "source": [
        "cust_demo_df['default'].value_counts()"
      ],
      "execution_count": 65,
      "outputs": [
        {
          "output_type": "execute_result",
          "data": {
            "text/plain": [
              "100                                       113\n",
              "1                                         112\n",
              "-1                                        111\n",
              "-100                                       99\n",
              "â°â´âµâââ                                  53\n",
              "                                         ... \n",
              "'\"''''\"                                    31\n",
              "/dev/null; touch /tmp/blns.fail ; echo     30\n",
              "âªâªtestâª                                 29\n",
              "ì¸ëë°í ë¥´                                 27\n",
              ",ãã»:*:ã»ãâ( â» Ï â» )ãã»:*:ã»ãâ           25\n",
              "Name: default, Length: 90, dtype: int64"
            ]
          },
          "metadata": {
            "tags": []
          },
          "execution_count": 65
        }
      ]
    },
    {
      "cell_type": "markdown",
      "metadata": {
        "id": "oQNK0su7Nwxz"
      },
      "source": [
        "***Values in the default column dont arent correct, we would drop the column.***"
      ]
    },
    {
      "cell_type": "code",
      "metadata": {
        "id": "dGmNlkfxNJtF"
      },
      "source": [
        "cust_demo_df = cust_demo_df.drop('default', axis = 1)"
      ],
      "execution_count": 66,
      "outputs": []
    },
    {
      "cell_type": "code",
      "metadata": {
        "colab": {
          "base_uri": "https://localhost:8080/",
          "height": 309
        },
        "id": "rKWee8rbOLIO",
        "outputId": "84c8383f-6b59-4ebb-91ee-906b2914a36a"
      },
      "source": [
        "cust_demo_df.head()"
      ],
      "execution_count": 67,
      "outputs": [
        {
          "output_type": "execute_result",
          "data": {
            "text/html": [
              "<div>\n",
              "<style scoped>\n",
              "    .dataframe tbody tr th:only-of-type {\n",
              "        vertical-align: middle;\n",
              "    }\n",
              "\n",
              "    .dataframe tbody tr th {\n",
              "        vertical-align: top;\n",
              "    }\n",
              "\n",
              "    .dataframe thead th {\n",
              "        text-align: right;\n",
              "    }\n",
              "</style>\n",
              "<table border=\"1\" class=\"dataframe\">\n",
              "  <thead>\n",
              "    <tr style=\"text-align: right;\">\n",
              "      <th></th>\n",
              "      <th>customer_id</th>\n",
              "      <th>first_name</th>\n",
              "      <th>last_name</th>\n",
              "      <th>gender</th>\n",
              "      <th>past_3_years_bike_related_purchases</th>\n",
              "      <th>DOB</th>\n",
              "      <th>job_title</th>\n",
              "      <th>job_industry_category</th>\n",
              "      <th>wealth_segment</th>\n",
              "      <th>deceased_indicator</th>\n",
              "      <th>owns_car</th>\n",
              "      <th>tenure</th>\n",
              "      <th>age</th>\n",
              "    </tr>\n",
              "  </thead>\n",
              "  <tbody>\n",
              "    <tr>\n",
              "      <th>0</th>\n",
              "      <td>1</td>\n",
              "      <td>Laraine</td>\n",
              "      <td>Medendorp</td>\n",
              "      <td>Female</td>\n",
              "      <td>93</td>\n",
              "      <td>1953-10-12</td>\n",
              "      <td>Executive Secretary</td>\n",
              "      <td>Health</td>\n",
              "      <td>Mass Customer</td>\n",
              "      <td>N</td>\n",
              "      <td>Yes</td>\n",
              "      <td>11.0</td>\n",
              "      <td>67 days 14:33:47.755934723</td>\n",
              "    </tr>\n",
              "    <tr>\n",
              "      <th>1</th>\n",
              "      <td>2</td>\n",
              "      <td>Eli</td>\n",
              "      <td>Bockman</td>\n",
              "      <td>Male</td>\n",
              "      <td>81</td>\n",
              "      <td>1980-12-16</td>\n",
              "      <td>Administrative Officer</td>\n",
              "      <td>Financial Services</td>\n",
              "      <td>Mass Customer</td>\n",
              "      <td>N</td>\n",
              "      <td>Yes</td>\n",
              "      <td>16.0</td>\n",
              "      <td>40 days 09:49:44.468263490</td>\n",
              "    </tr>\n",
              "    <tr>\n",
              "      <th>2</th>\n",
              "      <td>3</td>\n",
              "      <td>Arlin</td>\n",
              "      <td>Dearle</td>\n",
              "      <td>Male</td>\n",
              "      <td>61</td>\n",
              "      <td>1954-01-20</td>\n",
              "      <td>Recruiting Manager</td>\n",
              "      <td>Property</td>\n",
              "      <td>Mass Customer</td>\n",
              "      <td>N</td>\n",
              "      <td>Yes</td>\n",
              "      <td>15.0</td>\n",
              "      <td>67 days 07:59:16.523058010</td>\n",
              "    </tr>\n",
              "    <tr>\n",
              "      <th>3</th>\n",
              "      <td>4</td>\n",
              "      <td>Talbot</td>\n",
              "      <td>NaN</td>\n",
              "      <td>Male</td>\n",
              "      <td>33</td>\n",
              "      <td>1961-10-03</td>\n",
              "      <td>NaN</td>\n",
              "      <td>IT</td>\n",
              "      <td>Mass Customer</td>\n",
              "      <td>N</td>\n",
              "      <td>No</td>\n",
              "      <td>7.0</td>\n",
              "      <td>59 days 15:01:24.742236093</td>\n",
              "    </tr>\n",
              "    <tr>\n",
              "      <th>4</th>\n",
              "      <td>5</td>\n",
              "      <td>Sheila-kathryn</td>\n",
              "      <td>Calton</td>\n",
              "      <td>Female</td>\n",
              "      <td>56</td>\n",
              "      <td>1977-05-13</td>\n",
              "      <td>Senior Editor</td>\n",
              "      <td>NaN</td>\n",
              "      <td>Affluent Customer</td>\n",
              "      <td>N</td>\n",
              "      <td>Yes</td>\n",
              "      <td>8.0</td>\n",
              "      <td>44 days 00:09:47.755934723</td>\n",
              "    </tr>\n",
              "  </tbody>\n",
              "</table>\n",
              "</div>"
            ],
            "text/plain": [
              "   customer_id      first_name  ... tenure                        age\n",
              "0            1         Laraine  ...   11.0 67 days 14:33:47.755934723\n",
              "1            2             Eli  ...   16.0 40 days 09:49:44.468263490\n",
              "2            3           Arlin  ...   15.0 67 days 07:59:16.523058010\n",
              "3            4          Talbot  ...    7.0 59 days 15:01:24.742236093\n",
              "4            5  Sheila-kathryn  ...    8.0 44 days 00:09:47.755934723\n",
              "\n",
              "[5 rows x 13 columns]"
            ]
          },
          "metadata": {
            "tags": []
          },
          "execution_count": 67
        }
      ]
    },
    {
      "cell_type": "code",
      "metadata": {
        "colab": {
          "base_uri": "https://localhost:8080/"
        },
        "id": "Ecp-lFsuOOqu",
        "outputId": "fe911d2e-e09f-41ff-e24b-31d6bd9d8cdd"
      },
      "source": [
        "cust_demo_df.info()"
      ],
      "execution_count": 68,
      "outputs": [
        {
          "output_type": "stream",
          "text": [
            "<class 'pandas.core.frame.DataFrame'>\n",
            "RangeIndex: 4000 entries, 0 to 3999\n",
            "Data columns (total 13 columns):\n",
            " #   Column                               Non-Null Count  Dtype          \n",
            "---  ------                               --------------  -----          \n",
            " 0   customer_id                          4000 non-null   int64          \n",
            " 1   first_name                           4000 non-null   object         \n",
            " 2   last_name                            3875 non-null   object         \n",
            " 3   gender                               4000 non-null   object         \n",
            " 4   past_3_years_bike_related_purchases  4000 non-null   int64          \n",
            " 5   DOB                                  3913 non-null   datetime64[ns] \n",
            " 6   job_title                            3494 non-null   object         \n",
            " 7   job_industry_category                3344 non-null   object         \n",
            " 8   wealth_segment                       4000 non-null   object         \n",
            " 9   deceased_indicator                   4000 non-null   object         \n",
            " 10  owns_car                             4000 non-null   object         \n",
            " 11  tenure                               3913 non-null   float64        \n",
            " 12  age                                  3913 non-null   timedelta64[ns]\n",
            "dtypes: datetime64[ns](1), float64(1), int64(2), object(8), timedelta64[ns](1)\n",
            "memory usage: 406.4+ KB\n"
          ],
          "name": "stdout"
        }
      ]
    },
    {
      "cell_type": "markdown",
      "metadata": {
        "id": "GcjpNa3uPE9j"
      },
      "source": [
        "#***Exploring CustomerAddress***"
      ]
    },
    {
      "cell_type": "code",
      "metadata": {
        "colab": {
          "base_uri": "https://localhost:8080/",
          "height": 204
        },
        "id": "_y669N1jPN0f",
        "outputId": "5329c083-6b4a-40cc-f27f-22653015db0d"
      },
      "source": [
        "cust_addr_df = pd.read_excel(file_name, header=1, sheet_name='CustomerAddress')\n",
        "cust_addr_df.head()"
      ],
      "execution_count": 69,
      "outputs": [
        {
          "output_type": "execute_result",
          "data": {
            "text/html": [
              "<div>\n",
              "<style scoped>\n",
              "    .dataframe tbody tr th:only-of-type {\n",
              "        vertical-align: middle;\n",
              "    }\n",
              "\n",
              "    .dataframe tbody tr th {\n",
              "        vertical-align: top;\n",
              "    }\n",
              "\n",
              "    .dataframe thead th {\n",
              "        text-align: right;\n",
              "    }\n",
              "</style>\n",
              "<table border=\"1\" class=\"dataframe\">\n",
              "  <thead>\n",
              "    <tr style=\"text-align: right;\">\n",
              "      <th></th>\n",
              "      <th>customer_id</th>\n",
              "      <th>address</th>\n",
              "      <th>postcode</th>\n",
              "      <th>state</th>\n",
              "      <th>country</th>\n",
              "      <th>property_valuation</th>\n",
              "    </tr>\n",
              "  </thead>\n",
              "  <tbody>\n",
              "    <tr>\n",
              "      <th>0</th>\n",
              "      <td>1</td>\n",
              "      <td>060 Morning Avenue</td>\n",
              "      <td>2016</td>\n",
              "      <td>New South Wales</td>\n",
              "      <td>Australia</td>\n",
              "      <td>10</td>\n",
              "    </tr>\n",
              "    <tr>\n",
              "      <th>1</th>\n",
              "      <td>2</td>\n",
              "      <td>6 Meadow Vale Court</td>\n",
              "      <td>2153</td>\n",
              "      <td>New South Wales</td>\n",
              "      <td>Australia</td>\n",
              "      <td>10</td>\n",
              "    </tr>\n",
              "    <tr>\n",
              "      <th>2</th>\n",
              "      <td>4</td>\n",
              "      <td>0 Holy Cross Court</td>\n",
              "      <td>4211</td>\n",
              "      <td>QLD</td>\n",
              "      <td>Australia</td>\n",
              "      <td>9</td>\n",
              "    </tr>\n",
              "    <tr>\n",
              "      <th>3</th>\n",
              "      <td>5</td>\n",
              "      <td>17979 Del Mar Point</td>\n",
              "      <td>2448</td>\n",
              "      <td>New South Wales</td>\n",
              "      <td>Australia</td>\n",
              "      <td>4</td>\n",
              "    </tr>\n",
              "    <tr>\n",
              "      <th>4</th>\n",
              "      <td>6</td>\n",
              "      <td>9 Oakridge Court</td>\n",
              "      <td>3216</td>\n",
              "      <td>VIC</td>\n",
              "      <td>Australia</td>\n",
              "      <td>9</td>\n",
              "    </tr>\n",
              "  </tbody>\n",
              "</table>\n",
              "</div>"
            ],
            "text/plain": [
              "   customer_id              address  ...    country property_valuation\n",
              "0            1   060 Morning Avenue  ...  Australia                 10\n",
              "1            2  6 Meadow Vale Court  ...  Australia                 10\n",
              "2            4   0 Holy Cross Court  ...  Australia                  9\n",
              "3            5  17979 Del Mar Point  ...  Australia                  4\n",
              "4            6     9 Oakridge Court  ...  Australia                  9\n",
              "\n",
              "[5 rows x 6 columns]"
            ]
          },
          "metadata": {
            "tags": []
          },
          "execution_count": 69
        }
      ]
    },
    {
      "cell_type": "code",
      "metadata": {
        "colab": {
          "base_uri": "https://localhost:8080/"
        },
        "id": "Dct9_xl_Poi8",
        "outputId": "25008b37-6982-4c31-9002-fd56fbf0bb22"
      },
      "source": [
        "cust_addr_df.shape"
      ],
      "execution_count": 70,
      "outputs": [
        {
          "output_type": "execute_result",
          "data": {
            "text/plain": [
              "(3999, 6)"
            ]
          },
          "metadata": {
            "tags": []
          },
          "execution_count": 70
        }
      ]
    },
    {
      "cell_type": "code",
      "metadata": {
        "colab": {
          "base_uri": "https://localhost:8080/"
        },
        "id": "8OBcl3xHP0Oz",
        "outputId": "abeb26fb-7b64-4332-901d-cb6bae4c1f80"
      },
      "source": [
        "cust_addr_df.info()"
      ],
      "execution_count": 72,
      "outputs": [
        {
          "output_type": "stream",
          "text": [
            "<class 'pandas.core.frame.DataFrame'>\n",
            "RangeIndex: 3999 entries, 0 to 3998\n",
            "Data columns (total 6 columns):\n",
            " #   Column              Non-Null Count  Dtype \n",
            "---  ------              --------------  ----- \n",
            " 0   customer_id         3999 non-null   int64 \n",
            " 1   address             3999 non-null   object\n",
            " 2   postcode            3999 non-null   int64 \n",
            " 3   state               3999 non-null   object\n",
            " 4   country             3999 non-null   object\n",
            " 5   property_valuation  3999 non-null   int64 \n",
            "dtypes: int64(3), object(3)\n",
            "memory usage: 187.6+ KB\n"
          ],
          "name": "stdout"
        }
      ]
    },
    {
      "cell_type": "code",
      "metadata": {
        "colab": {
          "base_uri": "https://localhost:8080/"
        },
        "id": "_mJ5fIXbPsuy",
        "outputId": "1b5289b5-9f9e-429a-a2fc-8dd8ff832ca0"
      },
      "source": [
        "cust_addr_df[cust_addr_df.duplicated()].sum()"
      ],
      "execution_count": 73,
      "outputs": [
        {
          "output_type": "execute_result",
          "data": {
            "text/plain": [
              "customer_id           0.0\n",
              "address               0.0\n",
              "postcode              0.0\n",
              "state                 0.0\n",
              "country               0.0\n",
              "property_valuation    0.0\n",
              "dtype: float64"
            ]
          },
          "metadata": {
            "tags": []
          },
          "execution_count": 73
        }
      ]
    },
    {
      "cell_type": "code",
      "metadata": {
        "colab": {
          "base_uri": "https://localhost:8080/"
        },
        "id": "oxmF8Z5SPu55",
        "outputId": "e6a263ed-5823-40ac-8cd1-67458a85a6a2"
      },
      "source": [
        "print('customer_id blanks:', pd.isna(cust_addr_df['customer_id']).sum())"
      ],
      "execution_count": 74,
      "outputs": [
        {
          "output_type": "stream",
          "text": [
            "customer_id blanks: 0\n"
          ],
          "name": "stdout"
        }
      ]
    },
    {
      "cell_type": "code",
      "metadata": {
        "colab": {
          "base_uri": "https://localhost:8080/"
        },
        "id": "U_ihtZ1kP-BY",
        "outputId": "0a993b0c-d0b3-4eca-f3cb-a9040c9f64f9"
      },
      "source": [
        "pd.notna(cust_addr_df['customer_id'].unique()).sum()"
      ],
      "execution_count": 75,
      "outputs": [
        {
          "output_type": "execute_result",
          "data": {
            "text/plain": [
              "3999"
            ]
          },
          "metadata": {
            "tags": []
          },
          "execution_count": 75
        }
      ]
    },
    {
      "cell_type": "code",
      "metadata": {
        "colab": {
          "base_uri": "https://localhost:8080/"
        },
        "id": "qrrjL_nPQByh",
        "outputId": "568f3768-683f-47a1-b6e6-6a2142baff89"
      },
      "source": [
        "print('customer_ids not in demographics dataset:',\\\n",
        "      sum([(1 if (i not in cust_demo_df['customer_id']) else 0) for i in cust_addr_df['customer_id']]))"
      ],
      "execution_count": 76,
      "outputs": [
        {
          "output_type": "stream",
          "text": [
            "customer_ids not in demographics dataset: 4\n"
          ],
          "name": "stdout"
        }
      ]
    },
    {
      "cell_type": "code",
      "metadata": {
        "colab": {
          "base_uri": "https://localhost:8080/"
        },
        "id": "CWIpIRWRQSf_",
        "outputId": "2a403efe-d095-4292-abcb-715058f6e1ea"
      },
      "source": [
        "print('address blanks:', pd.isna(cust_addr_df['address']).sum())"
      ],
      "execution_count": 77,
      "outputs": [
        {
          "output_type": "stream",
          "text": [
            "address blanks: 0\n"
          ],
          "name": "stdout"
        }
      ]
    },
    {
      "cell_type": "code",
      "metadata": {
        "colab": {
          "base_uri": "https://localhost:8080/"
        },
        "id": "PzQ9zW5KQWNn",
        "outputId": "60264f3d-4363-4f2f-b0d5-9280ba6466e8"
      },
      "source": [
        "print('postcode blanks:', pd.isna(cust_addr_df['postcode']).sum())"
      ],
      "execution_count": 78,
      "outputs": [
        {
          "output_type": "stream",
          "text": [
            "postcode blanks: 0\n"
          ],
          "name": "stdout"
        }
      ]
    },
    {
      "cell_type": "code",
      "metadata": {
        "colab": {
          "base_uri": "https://localhost:8080/",
          "height": 367
        },
        "id": "GyVHNlW3QZJO",
        "outputId": "877ed2e9-6cef-46b1-9511-3932c77c7cda"
      },
      "source": [
        "print('state:', cust_addr_df['state'].unique())\n",
        "print('blanks:', pd.isna(cust_addr_df['state']).sum())\n",
        "plt.hist(cust_addr_df['state'][pd.notna(cust_addr_df['state'])])"
      ],
      "execution_count": 79,
      "outputs": [
        {
          "output_type": "stream",
          "text": [
            "state: ['New South Wales' 'QLD' 'VIC' 'NSW' 'Victoria']\n",
            "blanks: 0\n"
          ],
          "name": "stdout"
        },
        {
          "output_type": "execute_result",
          "data": {
            "text/plain": [
              "(array([  86.,    0.,  838.,    0.,    0.,  939.,    0., 2054.,    0.,\n",
              "          82.]),\n",
              " array([0. , 0.4, 0.8, 1.2, 1.6, 2. , 2.4, 2.8, 3.2, 3.6, 4. ]),\n",
              " <a list of 10 Patch objects>)"
            ]
          },
          "metadata": {
            "tags": []
          },
          "execution_count": 79
        },
        {
          "output_type": "display_data",
          "data": {
            "image/png": "[encoded data removed]",
            "text/plain": [
              "<Figure size 432x288 with 1 Axes>"
            ]
          },
          "metadata": {
            "tags": [],
            "needs_background": "light"
          }
        }
      ]
    },
    {
      "cell_type": "code",
      "metadata": {
        "colab": {
          "base_uri": "https://localhost:8080/"
        },
        "id": "pbQQPrCKQbQM",
        "outputId": "8af2e056-738d-409f-b9df-c983d1aa856e"
      },
      "source": [
        "print('country:', cust_addr_df['country'].unique())\n",
        "print('blanks:', pd.isna(cust_addr_df['country']).sum())"
      ],
      "execution_count": 80,
      "outputs": [
        {
          "output_type": "stream",
          "text": [
            "country: ['Australia']\n",
            "blanks: 0\n"
          ],
          "name": "stdout"
        }
      ]
    },
    {
      "cell_type": "code",
      "metadata": {
        "colab": {
          "base_uri": "https://localhost:8080/"
        },
        "id": "kGDJhcxZQg3Z",
        "outputId": "1eb61b56-54c1-490b-81d4-5591f0c1efed"
      },
      "source": [
        "cust_addr_df['property_valuation'].describe()"
      ],
      "execution_count": 81,
      "outputs": [
        {
          "output_type": "execute_result",
          "data": {
            "text/plain": [
              "count    3999.000000\n",
              "mean        7.514379\n",
              "std         2.824663\n",
              "min         1.000000\n",
              "25%         6.000000\n",
              "50%         8.000000\n",
              "75%        10.000000\n",
              "max        12.000000\n",
              "Name: property_valuation, dtype: float64"
            ]
          },
          "metadata": {
            "tags": []
          },
          "execution_count": 81
        }
      ]
    },
    {
      "cell_type": "code",
      "metadata": {
        "colab": {
          "base_uri": "https://localhost:8080/",
          "height": 333
        },
        "id": "BKr1s4tIQk6t",
        "outputId": "ef319efb-d446-47e2-eb67-9f1ab7fa6cbb"
      },
      "source": [
        "print('property_valuation blanks:', pd.isna(cust_addr_df['property_valuation']).sum())\n",
        "plt.hist(cust_addr_df['property_valuation'], bins=10)"
      ],
      "execution_count": 82,
      "outputs": [
        {
          "output_type": "stream",
          "text": [
            "property_valuation blanks: 0\n"
          ],
          "name": "stdout"
        },
        {
          "output_type": "execute_result",
          "data": {
            "text/plain": [
              "(array([297., 186., 214., 225., 238., 493., 646., 647., 577., 476.]),\n",
              " array([ 1. ,  2.1,  3.2,  4.3,  5.4,  6.5,  7.6,  8.7,  9.8, 10.9, 12. ]),\n",
              " <a list of 10 Patch objects>)"
            ]
          },
          "metadata": {
            "tags": []
          },
          "execution_count": 82
        },
        {
          "output_type": "display_data",
          "data": {
            "image/png": "[encoded data removed]",
            "text/plain": [
              "<Figure size 432x288 with 1 Axes>"
            ]
          },
          "metadata": {
            "tags": [],
            "needs_background": "light"
          }
        }
      ]
    },
    {
      "cell_type": "markdown",
      "metadata": {
        "id": "JLWXlokMROyz"
      },
      "source": [
        "## ***Exploring Transactions***"
      ]
    },
    {
      "cell_type": "code",
      "metadata": {
        "colab": {
          "base_uri": "https://localhost:8080/",
          "height": 292
        },
        "id": "hZD7dEyCQmWz",
        "outputId": "a4e1b5bf-1c70-44c6-819e-b5e55a40354a"
      },
      "source": [
        "txns_df = pd.read_excel(file_name, header=1, sheet_name='Transactions')\n",
        "txns_df.head()"
      ],
      "execution_count": 83,
      "outputs": [
        {
          "output_type": "execute_result",
          "data": {
            "text/html": [
              "<div>\n",
              "<style scoped>\n",
              "    .dataframe tbody tr th:only-of-type {\n",
              "        vertical-align: middle;\n",
              "    }\n",
              "\n",
              "    .dataframe tbody tr th {\n",
              "        vertical-align: top;\n",
              "    }\n",
              "\n",
              "    .dataframe thead th {\n",
              "        text-align: right;\n",
              "    }\n",
              "</style>\n",
              "<table border=\"1\" class=\"dataframe\">\n",
              "  <thead>\n",
              "    <tr style=\"text-align: right;\">\n",
              "      <th></th>\n",
              "      <th>transaction_id</th>\n",
              "      <th>product_id</th>\n",
              "      <th>customer_id</th>\n",
              "      <th>transaction_date</th>\n",
              "      <th>online_order</th>\n",
              "      <th>order_status</th>\n",
              "      <th>brand</th>\n",
              "      <th>product_line</th>\n",
              "      <th>product_class</th>\n",
              "      <th>product_size</th>\n",
              "      <th>list_price</th>\n",
              "      <th>standard_cost</th>\n",
              "      <th>product_first_sold_date</th>\n",
              "    </tr>\n",
              "  </thead>\n",
              "  <tbody>\n",
              "    <tr>\n",
              "      <th>0</th>\n",
              "      <td>1</td>\n",
              "      <td>2</td>\n",
              "      <td>2950</td>\n",
              "      <td>2017-02-25</td>\n",
              "      <td>0.0</td>\n",
              "      <td>Approved</td>\n",
              "      <td>Solex</td>\n",
              "      <td>Standard</td>\n",
              "      <td>medium</td>\n",
              "      <td>medium</td>\n",
              "      <td>71.49</td>\n",
              "      <td>53.62</td>\n",
              "      <td>41245.0</td>\n",
              "    </tr>\n",
              "    <tr>\n",
              "      <th>1</th>\n",
              "      <td>2</td>\n",
              "      <td>3</td>\n",
              "      <td>3120</td>\n",
              "      <td>2017-05-21</td>\n",
              "      <td>1.0</td>\n",
              "      <td>Approved</td>\n",
              "      <td>Trek Bicycles</td>\n",
              "      <td>Standard</td>\n",
              "      <td>medium</td>\n",
              "      <td>large</td>\n",
              "      <td>2091.47</td>\n",
              "      <td>388.92</td>\n",
              "      <td>41701.0</td>\n",
              "    </tr>\n",
              "    <tr>\n",
              "      <th>2</th>\n",
              "      <td>3</td>\n",
              "      <td>37</td>\n",
              "      <td>402</td>\n",
              "      <td>2017-10-16</td>\n",
              "      <td>0.0</td>\n",
              "      <td>Approved</td>\n",
              "      <td>OHM Cycles</td>\n",
              "      <td>Standard</td>\n",
              "      <td>low</td>\n",
              "      <td>medium</td>\n",
              "      <td>1793.43</td>\n",
              "      <td>248.82</td>\n",
              "      <td>36361.0</td>\n",
              "    </tr>\n",
              "    <tr>\n",
              "      <th>3</th>\n",
              "      <td>4</td>\n",
              "      <td>88</td>\n",
              "      <td>3135</td>\n",
              "      <td>2017-08-31</td>\n",
              "      <td>0.0</td>\n",
              "      <td>Approved</td>\n",
              "      <td>Norco Bicycles</td>\n",
              "      <td>Standard</td>\n",
              "      <td>medium</td>\n",
              "      <td>medium</td>\n",
              "      <td>1198.46</td>\n",
              "      <td>381.10</td>\n",
              "      <td>36145.0</td>\n",
              "    </tr>\n",
              "    <tr>\n",
              "      <th>4</th>\n",
              "      <td>5</td>\n",
              "      <td>78</td>\n",
              "      <td>787</td>\n",
              "      <td>2017-10-01</td>\n",
              "      <td>1.0</td>\n",
              "      <td>Approved</td>\n",
              "      <td>Giant Bicycles</td>\n",
              "      <td>Standard</td>\n",
              "      <td>medium</td>\n",
              "      <td>large</td>\n",
              "      <td>1765.30</td>\n",
              "      <td>709.48</td>\n",
              "      <td>42226.0</td>\n",
              "    </tr>\n",
              "  </tbody>\n",
              "</table>\n",
              "</div>"
            ],
            "text/plain": [
              "   transaction_id  product_id  ...  standard_cost product_first_sold_date\n",
              "0               1           2  ...          53.62                 41245.0\n",
              "1               2           3  ...         388.92                 41701.0\n",
              "2               3          37  ...         248.82                 36361.0\n",
              "3               4          88  ...         381.10                 36145.0\n",
              "4               5          78  ...         709.48                 42226.0\n",
              "\n",
              "[5 rows x 13 columns]"
            ]
          },
          "metadata": {
            "tags": []
          },
          "execution_count": 83
        }
      ]
    },
    {
      "cell_type": "code",
      "metadata": {
        "colab": {
          "base_uri": "https://localhost:8080/"
        },
        "id": "iV1fVw_gQmT6",
        "outputId": "1a3a5272-5ef6-4ead-8065-f8d6c0159def"
      },
      "source": [
        "txns_df.shape"
      ],
      "execution_count": 84,
      "outputs": [
        {
          "output_type": "execute_result",
          "data": {
            "text/plain": [
              "(20000, 13)"
            ]
          },
          "metadata": {
            "tags": []
          },
          "execution_count": 84
        }
      ]
    },
    {
      "cell_type": "code",
      "metadata": {
        "colab": {
          "base_uri": "https://localhost:8080/"
        },
        "id": "OUGjGa2nQmQW",
        "outputId": "f401fe98-d9e6-41b2-b936-aa520e140329"
      },
      "source": [
        "txns_df.info()"
      ],
      "execution_count": 85,
      "outputs": [
        {
          "output_type": "stream",
          "text": [
            "<class 'pandas.core.frame.DataFrame'>\n",
            "RangeIndex: 20000 entries, 0 to 19999\n",
            "Data columns (total 13 columns):\n",
            " #   Column                   Non-Null Count  Dtype         \n",
            "---  ------                   --------------  -----         \n",
            " 0   transaction_id           20000 non-null  int64         \n",
            " 1   product_id               20000 non-null  int64         \n",
            " 2   customer_id              20000 non-null  int64         \n",
            " 3   transaction_date         20000 non-null  datetime64[ns]\n",
            " 4   online_order             19640 non-null  float64       \n",
            " 5   order_status             20000 non-null  object        \n",
            " 6   brand                    19803 non-null  object        \n",
            " 7   product_line             19803 non-null  object        \n",
            " 8   product_class            19803 non-null  object        \n",
            " 9   product_size             19803 non-null  object        \n",
            " 10  list_price               20000 non-null  float64       \n",
            " 11  standard_cost            19803 non-null  float64       \n",
            " 12  product_first_sold_date  19803 non-null  float64       \n",
            "dtypes: datetime64[ns](1), float64(4), int64(3), object(5)\n",
            "memory usage: 2.0+ MB\n"
          ],
          "name": "stdout"
        }
      ]
    },
    {
      "cell_type": "code",
      "metadata": {
        "colab": {
          "base_uri": "https://localhost:8080/"
        },
        "id": "PHBB3ePXR-Ie",
        "outputId": "9f097157-10b6-498f-bbd7-7656ab2a8483"
      },
      "source": [
        "txns_df[txns_df.duplicated()].sum()"
      ],
      "execution_count": 86,
      "outputs": [
        {
          "output_type": "execute_result",
          "data": {
            "text/plain": [
              "transaction_id             0.0\n",
              "product_id                 0.0\n",
              "customer_id                0.0\n",
              "transaction_date           0.0\n",
              "online_order               0.0\n",
              "order_status               0.0\n",
              "brand                      0.0\n",
              "product_line               0.0\n",
              "product_class              0.0\n",
              "product_size               0.0\n",
              "list_price                 0.0\n",
              "standard_cost              0.0\n",
              "product_first_sold_date    0.0\n",
              "dtype: float64"
            ]
          },
          "metadata": {
            "tags": []
          },
          "execution_count": 86
        }
      ]
    },
    {
      "cell_type": "code",
      "metadata": {
        "colab": {
          "base_uri": "https://localhost:8080/"
        },
        "id": "R-OoqoZPbArO",
        "outputId": "205d96be-94d0-4aed-873d-facf6fbe59d5"
      },
      "source": [
        "txns_df['transaction_date'].describe()"
      ],
      "execution_count": 105,
      "outputs": [
        {
          "output_type": "stream",
          "text": [
            "/usr/local/lib/python3.7/dist-packages/ipykernel_launcher.py:1: FutureWarning: Treating datetime data as categorical rather than numeric in `.describe` is deprecated and will be removed in a future version of pandas. Specify `datetime_is_numeric=True` to silence this warning and adopt the future behavior now.\n",
            "  \"\"\"Entry point for launching an IPython kernel.\n"
          ],
          "name": "stderr"
        },
        {
          "output_type": "execute_result",
          "data": {
            "text/plain": [
              "count                   20000\n",
              "unique                    364\n",
              "top       2017-02-14 00:00:00\n",
              "freq                       82\n",
              "first     2017-01-01 00:00:00\n",
              "last      2017-12-30 00:00:00\n",
              "Name: transaction_date, dtype: object"
            ]
          },
          "metadata": {
            "tags": []
          },
          "execution_count": 105
        }
      ]
    },
    {
      "cell_type": "code",
      "metadata": {
        "colab": {
          "base_uri": "https://localhost:8080/"
        },
        "id": "7l50PMepQmNo",
        "outputId": "68e81b4d-749d-44ce-85f5-4c51235c95db"
      },
      "source": [
        "#convert date columns from integer to datetime\n",
        "txns_df['transaction_date'] = pd.to_datetime(txns_df['transaction_date'], unit='s')\n",
        "txns_df['transaction_date'].head()"
      ],
      "execution_count": 87,
      "outputs": [
        {
          "output_type": "execute_result",
          "data": {
            "text/plain": [
              "0   2017-02-25\n",
              "1   2017-05-21\n",
              "2   2017-10-16\n",
              "3   2017-08-31\n",
              "4   2017-10-01\n",
              "Name: transaction_date, dtype: datetime64[ns]"
            ]
          },
          "metadata": {
            "tags": []
          },
          "execution_count": 87
        }
      ]
    },
    {
      "cell_type": "code",
      "metadata": {
        "colab": {
          "base_uri": "https://localhost:8080/"
        },
        "id": "eWV2XMt7QmK4",
        "outputId": "6fad61aa-f84f-4989-ac92-64c0371e2906"
      },
      "source": [
        "#convert date columns from integer to datetime\n",
        "txns_df['product_first_sold_date'] = pd.to_datetime(txns_df['product_first_sold_date'], unit='s')\n",
        "txns_df['product_first_sold_date'].head()"
      ],
      "execution_count": 88,
      "outputs": [
        {
          "output_type": "execute_result",
          "data": {
            "text/plain": [
              "0   1970-01-01 11:27:25\n",
              "1   1970-01-01 11:35:01\n",
              "2   1970-01-01 10:06:01\n",
              "3   1970-01-01 10:02:25\n",
              "4   1970-01-01 11:43:46\n",
              "Name: product_first_sold_date, dtype: datetime64[ns]"
            ]
          },
          "metadata": {
            "tags": []
          },
          "execution_count": 88
        }
      ]
    },
    {
      "cell_type": "markdown",
      "metadata": {
        "id": "6NelYKgNXJ7Y"
      },
      "source": [
        "\n",
        "***The integers in the date columns are not correct as it shows everything happening the same day at different times. We would need to refer back to the author of the data to seek more clarification on how the data was collected.***"
      ]
    },
    {
      "cell_type": "code",
      "metadata": {
        "colab": {
          "base_uri": "https://localhost:8080/",
          "height": 297
        },
        "id": "zBA29070QmH_",
        "outputId": "ab7b29d0-8fab-46a3-aa58-e06c5137f975"
      },
      "source": [
        "txns_df.describe()"
      ],
      "execution_count": 89,
      "outputs": [
        {
          "output_type": "execute_result",
          "data": {
            "text/html": [
              "<div>\n",
              "<style scoped>\n",
              "    .dataframe tbody tr th:only-of-type {\n",
              "        vertical-align: middle;\n",
              "    }\n",
              "\n",
              "    .dataframe tbody tr th {\n",
              "        vertical-align: top;\n",
              "    }\n",
              "\n",
              "    .dataframe thead th {\n",
              "        text-align: right;\n",
              "    }\n",
              "</style>\n",
              "<table border=\"1\" class=\"dataframe\">\n",
              "  <thead>\n",
              "    <tr style=\"text-align: right;\">\n",
              "      <th></th>\n",
              "      <th>transaction_id</th>\n",
              "      <th>product_id</th>\n",
              "      <th>customer_id</th>\n",
              "      <th>online_order</th>\n",
              "      <th>list_price</th>\n",
              "      <th>standard_cost</th>\n",
              "    </tr>\n",
              "  </thead>\n",
              "  <tbody>\n",
              "    <tr>\n",
              "      <th>count</th>\n",
              "      <td>20000.000000</td>\n",
              "      <td>20000.00000</td>\n",
              "      <td>20000.000000</td>\n",
              "      <td>19640.000000</td>\n",
              "      <td>20000.000000</td>\n",
              "      <td>19803.000000</td>\n",
              "    </tr>\n",
              "    <tr>\n",
              "      <th>mean</th>\n",
              "      <td>10000.500000</td>\n",
              "      <td>45.36465</td>\n",
              "      <td>1738.246050</td>\n",
              "      <td>0.500458</td>\n",
              "      <td>1107.829449</td>\n",
              "      <td>556.046951</td>\n",
              "    </tr>\n",
              "    <tr>\n",
              "      <th>std</th>\n",
              "      <td>5773.647028</td>\n",
              "      <td>30.75359</td>\n",
              "      <td>1011.951046</td>\n",
              "      <td>0.500013</td>\n",
              "      <td>582.825242</td>\n",
              "      <td>405.955660</td>\n",
              "    </tr>\n",
              "    <tr>\n",
              "      <th>min</th>\n",
              "      <td>1.000000</td>\n",
              "      <td>0.00000</td>\n",
              "      <td>1.000000</td>\n",
              "      <td>0.000000</td>\n",
              "      <td>12.010000</td>\n",
              "      <td>7.210000</td>\n",
              "    </tr>\n",
              "    <tr>\n",
              "      <th>25%</th>\n",
              "      <td>5000.750000</td>\n",
              "      <td>18.00000</td>\n",
              "      <td>857.750000</td>\n",
              "      <td>0.000000</td>\n",
              "      <td>575.270000</td>\n",
              "      <td>215.140000</td>\n",
              "    </tr>\n",
              "    <tr>\n",
              "      <th>50%</th>\n",
              "      <td>10000.500000</td>\n",
              "      <td>44.00000</td>\n",
              "      <td>1736.000000</td>\n",
              "      <td>1.000000</td>\n",
              "      <td>1163.890000</td>\n",
              "      <td>507.580000</td>\n",
              "    </tr>\n",
              "    <tr>\n",
              "      <th>75%</th>\n",
              "      <td>15000.250000</td>\n",
              "      <td>72.00000</td>\n",
              "      <td>2613.000000</td>\n",
              "      <td>1.000000</td>\n",
              "      <td>1635.300000</td>\n",
              "      <td>795.100000</td>\n",
              "    </tr>\n",
              "    <tr>\n",
              "      <th>max</th>\n",
              "      <td>20000.000000</td>\n",
              "      <td>100.00000</td>\n",
              "      <td>5034.000000</td>\n",
              "      <td>1.000000</td>\n",
              "      <td>2091.470000</td>\n",
              "      <td>1759.850000</td>\n",
              "    </tr>\n",
              "  </tbody>\n",
              "</table>\n",
              "</div>"
            ],
            "text/plain": [
              "       transaction_id   product_id  ...    list_price  standard_cost\n",
              "count    20000.000000  20000.00000  ...  20000.000000   19803.000000\n",
              "mean     10000.500000     45.36465  ...   1107.829449     556.046951\n",
              "std       5773.647028     30.75359  ...    582.825242     405.955660\n",
              "min          1.000000      0.00000  ...     12.010000       7.210000\n",
              "25%       5000.750000     18.00000  ...    575.270000     215.140000\n",
              "50%      10000.500000     44.00000  ...   1163.890000     507.580000\n",
              "75%      15000.250000     72.00000  ...   1635.300000     795.100000\n",
              "max      20000.000000    100.00000  ...   2091.470000    1759.850000\n",
              "\n",
              "[8 rows x 6 columns]"
            ]
          },
          "metadata": {
            "tags": []
          },
          "execution_count": 89
        }
      ]
    },
    {
      "cell_type": "code",
      "metadata": {
        "colab": {
          "base_uri": "https://localhost:8080/"
        },
        "id": "7yFX6UDJQmE7",
        "outputId": "910e74bc-f4dd-4dd7-f68f-7a44a489bb02"
      },
      "source": [
        "#identify missing values\n",
        "txns_df.isnull().sum()"
      ],
      "execution_count": 90,
      "outputs": [
        {
          "output_type": "execute_result",
          "data": {
            "text/plain": [
              "transaction_id               0\n",
              "product_id                   0\n",
              "customer_id                  0\n",
              "transaction_date             0\n",
              "online_order               360\n",
              "order_status                 0\n",
              "brand                      197\n",
              "product_line               197\n",
              "product_class              197\n",
              "product_size               197\n",
              "list_price                   0\n",
              "standard_cost              197\n",
              "product_first_sold_date    197\n",
              "dtype: int64"
            ]
          },
          "metadata": {
            "tags": []
          },
          "execution_count": 90
        }
      ]
    },
    {
      "cell_type": "markdown",
      "metadata": {
        "id": "8hi4XmR9YLcd"
      },
      "source": [
        "\n",
        "*We can decide to drop missing values depending on the objective of our analysis*"
      ]
    },
    {
      "cell_type": "code",
      "metadata": {
        "colab": {
          "base_uri": "https://localhost:8080/"
        },
        "id": "_KDdLJ-tQmBz",
        "outputId": "8230b418-f6e3-4ab7-f02c-cb585ba51ac7"
      },
      "source": [
        "txns_df.columns"
      ],
      "execution_count": 91,
      "outputs": [
        {
          "output_type": "execute_result",
          "data": {
            "text/plain": [
              "Index(['transaction_id', 'product_id', 'customer_id', 'transaction_date',\n",
              "       'online_order', 'order_status', 'brand', 'product_line',\n",
              "       'product_class', 'product_size', 'list_price', 'standard_cost',\n",
              "       'product_first_sold_date'],\n",
              "      dtype='object')"
            ]
          },
          "metadata": {
            "tags": []
          },
          "execution_count": 91
        }
      ]
    },
    {
      "cell_type": "code",
      "metadata": {
        "colab": {
          "base_uri": "https://localhost:8080/"
        },
        "id": "nPt36gjHZEJ8",
        "outputId": "d62f186b-23d6-46a9-9a30-92c4c6a905cb"
      },
      "source": [
        "txns_df['list_price'].describe()"
      ],
      "execution_count": 95,
      "outputs": [
        {
          "output_type": "execute_result",
          "data": {
            "text/plain": [
              "count    20000.000000\n",
              "mean      1107.829449\n",
              "std        582.825242\n",
              "min         12.010000\n",
              "25%        575.270000\n",
              "50%       1163.890000\n",
              "75%       1635.300000\n",
              "max       2091.470000\n",
              "Name: list_price, dtype: float64"
            ]
          },
          "metadata": {
            "tags": []
          },
          "execution_count": 95
        }
      ]
    },
    {
      "cell_type": "code",
      "metadata": {
        "colab": {
          "base_uri": "https://localhost:8080/"
        },
        "id": "sjlAGyFjZETy",
        "outputId": "4578d1a3-1287-4884-ad34-212b8de16811"
      },
      "source": [
        "print('list_price blanks:', pd.isna(txns_df['list_price']).sum())"
      ],
      "execution_count": 96,
      "outputs": [
        {
          "output_type": "stream",
          "text": [
            "list_price blanks: 0\n"
          ],
          "name": "stdout"
        }
      ]
    },
    {
      "cell_type": "code",
      "metadata": {
        "colab": {
          "base_uri": "https://localhost:8080/"
        },
        "id": "06Hcil6QZEZ6",
        "outputId": "7a363ed6-25a5-4210-d5bb-0062e23605df"
      },
      "source": [
        "txns_df['standard_cost'].describe()"
      ],
      "execution_count": 97,
      "outputs": [
        {
          "output_type": "execute_result",
          "data": {
            "text/plain": [
              "count    19803.000000\n",
              "mean       556.046951\n",
              "std        405.955660\n",
              "min          7.210000\n",
              "25%        215.140000\n",
              "50%        507.580000\n",
              "75%        795.100000\n",
              "max       1759.850000\n",
              "Name: standard_cost, dtype: float64"
            ]
          },
          "metadata": {
            "tags": []
          },
          "execution_count": 97
        }
      ]
    },
    {
      "cell_type": "code",
      "metadata": {
        "colab": {
          "base_uri": "https://localhost:8080/"
        },
        "id": "FXpyBiSXZEdi",
        "outputId": "cacb458a-44b0-4166-f749-d3b4374c5a88"
      },
      "source": [
        "print('standard_cost blanks:', pd.isna(txns_df['standard_cost']).sum())"
      ],
      "execution_count": 98,
      "outputs": [
        {
          "output_type": "stream",
          "text": [
            "standard_cost blanks: 197\n"
          ],
          "name": "stdout"
        }
      ]
    },
    {
      "cell_type": "code",
      "metadata": {
        "colab": {
          "base_uri": "https://localhost:8080/"
        },
        "id": "lJguV8VrZEim",
        "outputId": "96920892-0e2c-4f19-a6f2-b714b21d2c41"
      },
      "source": [
        "txns_df['profit'] = txns_df['list_price'] - txns_df['standard_cost']\n",
        "txns_df['profit'].describe()"
      ],
      "execution_count": 99,
      "outputs": [
        {
          "output_type": "execute_result",
          "data": {
            "text/plain": [
              "count    19803.000000\n",
              "mean       551.950915\n",
              "std        493.412849\n",
              "min          4.800000\n",
              "25%        133.780000\n",
              "50%        445.210000\n",
              "75%        830.240000\n",
              "max       1702.550000\n",
              "Name: profit, dtype: float64"
            ]
          },
          "metadata": {
            "tags": []
          },
          "execution_count": 99
        }
      ]
    },
    {
      "cell_type": "code",
      "metadata": {
        "colab": {
          "base_uri": "https://localhost:8080/"
        },
        "id": "aVC3AvAsZEmw",
        "outputId": "f81f81cb-b161-437d-f87e-07267a26a66d"
      },
      "source": [
        "print('transaction_id blanks:', pd.isna(txns_df['transaction_id']).sum())"
      ],
      "execution_count": 100,
      "outputs": [
        {
          "output_type": "stream",
          "text": [
            "transaction_id blanks: 0\n"
          ],
          "name": "stdout"
        }
      ]
    },
    {
      "cell_type": "code",
      "metadata": {
        "colab": {
          "base_uri": "https://localhost:8080/"
        },
        "id": "rw1wH2MBZEqi",
        "outputId": "698fc90a-7648-44a1-b417-a14e9aff652f"
      },
      "source": [
        "print('product_id blanks:', pd.isna(txns_df['product_id']).sum())"
      ],
      "execution_count": 101,
      "outputs": [
        {
          "output_type": "stream",
          "text": [
            "product_id blanks: 0\n"
          ],
          "name": "stdout"
        }
      ]
    },
    {
      "cell_type": "code",
      "metadata": {
        "colab": {
          "base_uri": "https://localhost:8080/"
        },
        "id": "1ySdtF2yZEvW",
        "outputId": "6cce1a5b-4f31-4d92-a8eb-cd0aeaabe407"
      },
      "source": [
        "print('customer_id blanks:', pd.isna(txns_df['customer_id']).sum())"
      ],
      "execution_count": 102,
      "outputs": [
        {
          "output_type": "stream",
          "text": [
            "customer_id blanks: 0\n"
          ],
          "name": "stdout"
        }
      ]
    },
    {
      "cell_type": "code",
      "metadata": {
        "colab": {
          "base_uri": "https://localhost:8080/"
        },
        "id": "pvWHorb2ZudS",
        "outputId": "3965962e-55b3-404b-f75d-a52f2feb7b52"
      },
      "source": [
        "pd.notna(txns_df['customer_id'].unique()).sum()"
      ],
      "execution_count": 103,
      "outputs": [
        {
          "output_type": "execute_result",
          "data": {
            "text/plain": [
              "3494"
            ]
          },
          "metadata": {
            "tags": []
          },
          "execution_count": 103
        }
      ]
    },
    {
      "cell_type": "code",
      "metadata": {
        "colab": {
          "base_uri": "https://localhost:8080/"
        },
        "id": "uOD6e6NCZuZl",
        "outputId": "43c22b3e-78af-4375-c424-4c63649e2120"
      },
      "source": [
        "print('customer_ids not in demographics dataset:', \\\n",
        "      sum([(1 if (i not in cust_demo_df['customer_id']) else 0) for i in cust_addr_df['customer_id']]))\n",
        "print('customer_ids not in addresses dataset:', \\\n",
        "      sum([(1 if (i not in cust_demo_df['customer_id']) else 0) for i in txns_df['customer_id']]))"
      ],
      "execution_count": 104,
      "outputs": [
        {
          "output_type": "stream",
          "text": [
            "customer_ids not in demographics dataset: 4\n",
            "customer_ids not in addresses dataset: 3\n"
          ],
          "name": "stdout"
        }
      ]
    },
    {
      "cell_type": "code",
      "metadata": {
        "id": "I8MRpYXMZuWd"
      },
      "source": [
        ""
      ],
      "execution_count": null,
      "outputs": []
    },
    {
      "cell_type": "code",
      "metadata": {
        "id": "3G39PkcKZuGI"
      },
      "source": [
        ""
      ],
      "execution_count": null,
      "outputs": []
    },
    {
      "cell_type": "code",
      "metadata": {
        "colab": {
          "base_uri": "https://localhost:8080/"
        },
        "id": "rNyN4AaaQlw7",
        "outputId": "ded655e2-f00c-4d4a-929a-ed4ef816abdc"
      },
      "source": [
        "txns_df['order_status'].value_counts()"
      ],
      "execution_count": 93,
      "outputs": [
        {
          "output_type": "execute_result",
          "data": {
            "text/plain": [
              "Approved     19821\n",
              "Cancelled      179\n",
              "Name: order_status, dtype: int64"
            ]
          },
          "metadata": {
            "tags": []
          },
          "execution_count": 93
        }
      ]
    },
    {
      "cell_type": "code",
      "metadata": {
        "colab": {
          "base_uri": "https://localhost:8080/",
          "height": 367
        },
        "id": "Xa5z-DYJQlr5",
        "outputId": "fc7b1849-ad93-42ab-afdd-c66b0658a1b3"
      },
      "source": [
        "print('blanks:', pd.isna(txns_df['order_status']).sum())\n",
        "plt.hist(txns_df['order_status'][pd.notna(txns_df['order_status'])])"
      ],
      "execution_count": 94,
      "outputs": [
        {
          "output_type": "stream",
          "text": [
            "order_status: ['Approved' 'Cancelled']\n",
            "blanks: 0\n"
          ],
          "name": "stdout"
        },
        {
          "output_type": "execute_result",
          "data": {
            "text/plain": [
              "(array([19821.,     0.,     0.,     0.,     0.,     0.,     0.,     0.,\n",
              "            0.,   179.]),\n",
              " array([0. , 0.1, 0.2, 0.3, 0.4, 0.5, 0.6, 0.7, 0.8, 0.9, 1. ]),\n",
              " <a list of 10 Patch objects>)"
            ]
          },
          "metadata": {
            "tags": []
          },
          "execution_count": 94
        },
        {
          "output_type": "display_data",
          "data": {
            "image/png": "[encoded data removed]",
            "text/plain": [
              "<Figure size 432x288 with 1 Axes>"
            ]
          },
          "metadata": {
            "tags": [],
            "needs_background": "light"
          }
        }
      ]
    },
    {
      "cell_type": "code",
      "metadata": {
        "colab": {
          "base_uri": "https://localhost:8080/"
        },
        "id": "P_MkMaPGbQpx",
        "outputId": "21460353-8303-4cf2-b3d7-adba3a68ab20"
      },
      "source": [
        "txns_df['online_order'].value_counts()"
      ],
      "execution_count": 107,
      "outputs": [
        {
          "output_type": "execute_result",
          "data": {
            "text/plain": [
              "1.0    9829\n",
              "0.0    9811\n",
              "Name: online_order, dtype: int64"
            ]
          },
          "metadata": {
            "tags": []
          },
          "execution_count": 107
        }
      ]
    },
    {
      "cell_type": "code",
      "metadata": {
        "colab": {
          "base_uri": "https://localhost:8080/",
          "height": 367
        },
        "id": "5nwA9QhcQlos",
        "outputId": "aa36db6a-abd1-4f54-fd7b-e7bed12b7908"
      },
      "source": [
        "print('blanks:', pd.isna(txns_df['online_order']).sum())\n",
        "plt.hist(txns_df['online_order'][pd.notna(txns_df['online_order'])])"
      ],
      "execution_count": 108,
      "outputs": [
        {
          "output_type": "stream",
          "text": [
            "online_order: [ 0.  1. nan]\n",
            "blanks: 360\n"
          ],
          "name": "stdout"
        },
        {
          "output_type": "execute_result",
          "data": {
            "text/plain": [
              "(array([9811.,    0.,    0.,    0.,    0.,    0.,    0.,    0.,    0.,\n",
              "        9829.]),\n",
              " array([0. , 0.1, 0.2, 0.3, 0.4, 0.5, 0.6, 0.7, 0.8, 0.9, 1. ]),\n",
              " <a list of 10 Patch objects>)"
            ]
          },
          "metadata": {
            "tags": []
          },
          "execution_count": 108
        },
        {
          "output_type": "display_data",
          "data": {
            "image/png": "[encoded data removed]",
            "text/plain": [
              "<Figure size 432x288 with 1 Axes>"
            ]
          },
          "metadata": {
            "tags": [],
            "needs_background": "light"
          }
        }
      ]
    },
    {
      "cell_type": "code",
      "metadata": {
        "colab": {
          "base_uri": "https://localhost:8080/"
        },
        "id": "vl4XJdUcbgwz",
        "outputId": "9252eaad-bc73-418b-ba79-32867fcff784"
      },
      "source": [
        "txns_df['brand'].value_counts()"
      ],
      "execution_count": 112,
      "outputs": [
        {
          "output_type": "execute_result",
          "data": {
            "text/plain": [
              "Solex             4253\n",
              "Giant Bicycles    3312\n",
              "WeareA2B          3295\n",
              "OHM Cycles        3043\n",
              "Trek Bicycles     2990\n",
              "Norco Bicycles    2910\n",
              "Name: brand, dtype: int64"
            ]
          },
          "metadata": {
            "tags": []
          },
          "execution_count": 112
        }
      ]
    },
    {
      "cell_type": "code",
      "metadata": {
        "colab": {
          "base_uri": "https://localhost:8080/",
          "height": 350
        },
        "id": "Dp6pL_jDbl9Z",
        "outputId": "d662d35d-a7f1-48be-e678-230db548b705"
      },
      "source": [
        "print('blanks:', pd.isna(txns_df['brand']).sum())\n",
        "plt.hist(txns_df['brand'][pd.notna(txns_df['brand'])])"
      ],
      "execution_count": 114,
      "outputs": [
        {
          "output_type": "stream",
          "text": [
            "blanks: 197\n"
          ],
          "name": "stdout"
        },
        {
          "output_type": "execute_result",
          "data": {
            "text/plain": [
              "(array([4253.,    0., 2990.,    0., 3043.,    0., 2910.,    0., 3312.,\n",
              "        3295.]),\n",
              " array([0. , 0.5, 1. , 1.5, 2. , 2.5, 3. , 3.5, 4. , 4.5, 5. ]),\n",
              " <a list of 10 Patch objects>)"
            ]
          },
          "metadata": {
            "tags": []
          },
          "execution_count": 114
        },
        {
          "output_type": "display_data",
          "data": {
            "image/png": "[encoded data removed]",
            "text/plain": [
              "<Figure size 432x288 with 1 Axes>"
            ]
          },
          "metadata": {
            "tags": [],
            "needs_background": "light"
          }
        }
      ]
    },
    {
      "cell_type": "code",
      "metadata": {
        "colab": {
          "base_uri": "https://localhost:8080/"
        },
        "id": "r_-ii94hbmgE",
        "outputId": "bfa9723a-e33f-4e0f-f7fd-48dd6101ed88"
      },
      "source": [
        "txns_df['product_line'].value_counts()"
      ],
      "execution_count": 116,
      "outputs": [
        {
          "output_type": "execute_result",
          "data": {
            "text/plain": [
              "Standard    14176\n",
              "Road         3970\n",
              "Touring      1234\n",
              "Mountain      423\n",
              "Name: product_line, dtype: int64"
            ]
          },
          "metadata": {
            "tags": []
          },
          "execution_count": 116
        }
      ]
    },
    {
      "cell_type": "code",
      "metadata": {
        "colab": {
          "base_uri": "https://localhost:8080/",
          "height": 350
        },
        "id": "E3kH6Uj_bnNI",
        "outputId": "81a85648-e503-4d7b-b077-1eefd9560cd8"
      },
      "source": [
        "print('blanks:', pd.isna(txns_df['product_line']).sum())\n",
        "plt.hist(txns_df['product_line'][pd.notna(txns_df['product_line'])])"
      ],
      "execution_count": 117,
      "outputs": [
        {
          "output_type": "stream",
          "text": [
            "blanks: 197\n"
          ],
          "name": "stdout"
        },
        {
          "output_type": "execute_result",
          "data": {
            "text/plain": [
              "(array([14176.,     0.,     0.,  3970.,     0.,     0.,   423.,     0.,\n",
              "            0.,  1234.]),\n",
              " array([0. , 0.3, 0.6, 0.9, 1.2, 1.5, 1.8, 2.1, 2.4, 2.7, 3. ]),\n",
              " <a list of 10 Patch objects>)"
            ]
          },
          "metadata": {
            "tags": []
          },
          "execution_count": 117
        },
        {
          "output_type": "display_data",
          "data": {
            "image/png": "[encoded data removed]",
            "text/plain": [
              "<Figure size 432x288 with 1 Axes>"
            ]
          },
          "metadata": {
            "tags": [],
            "needs_background": "light"
          }
        }
      ]
    },
    {
      "cell_type": "code",
      "metadata": {
        "colab": {
          "base_uri": "https://localhost:8080/"
        },
        "id": "5ltbvyJfbnQt",
        "outputId": "b76006c9-dff8-4b68-8b35-c177214d197e"
      },
      "source": [
        "txns_df['product_class'].value_counts()"
      ],
      "execution_count": 119,
      "outputs": [
        {
          "output_type": "execute_result",
          "data": {
            "text/plain": [
              "medium    13826\n",
              "high       3013\n",
              "low        2964\n",
              "Name: product_class, dtype: int64"
            ]
          },
          "metadata": {
            "tags": []
          },
          "execution_count": 119
        }
      ]
    },
    {
      "cell_type": "code",
      "metadata": {
        "colab": {
          "base_uri": "https://localhost:8080/",
          "height": 350
        },
        "id": "OGuZJL2xbnUm",
        "outputId": "699db221-25a5-4b25-c4ee-e90b491d69f1"
      },
      "source": [
        "print('blanks:', pd.isna(txns_df['product_class']).sum())\n",
        "plt.hist(txns_df['product_class'][pd.notna(txns_df['product_class'])])"
      ],
      "execution_count": 120,
      "outputs": [
        {
          "output_type": "stream",
          "text": [
            "blanks: 197\n"
          ],
          "name": "stdout"
        },
        {
          "output_type": "execute_result",
          "data": {
            "text/plain": [
              "(array([13826.,     0.,     0.,     0.,     0.,  2964.,     0.,     0.,\n",
              "            0.,  3013.]),\n",
              " array([0. , 0.2, 0.4, 0.6, 0.8, 1. , 1.2, 1.4, 1.6, 1.8, 2. ]),\n",
              " <a list of 10 Patch objects>)"
            ]
          },
          "metadata": {
            "tags": []
          },
          "execution_count": 120
        },
        {
          "output_type": "display_data",
          "data": {
            "image/png": "[encoded data removed]",
            "text/plain": [
              "<Figure size 432x288 with 1 Axes>"
            ]
          },
          "metadata": {
            "tags": [],
            "needs_background": "light"
          }
        }
      ]
    },
    {
      "cell_type": "code",
      "metadata": {
        "colab": {
          "base_uri": "https://localhost:8080/"
        },
        "id": "MUr47RjtbnaK",
        "outputId": "65dd5177-4d8e-4eed-e31b-e4c6ac2ede52"
      },
      "source": [
        "txns_df['product_size'].value_counts()"
      ],
      "execution_count": 122,
      "outputs": [
        {
          "output_type": "execute_result",
          "data": {
            "text/plain": [
              "medium    12990\n",
              "large      3976\n",
              "small      2837\n",
              "Name: product_size, dtype: int64"
            ]
          },
          "metadata": {
            "tags": []
          },
          "execution_count": 122
        }
      ]
    },
    {
      "cell_type": "code",
      "metadata": {
        "colab": {
          "base_uri": "https://localhost:8080/",
          "height": 350
        },
        "id": "BQPqzeskbneJ",
        "outputId": "5de8da5d-df03-4734-ded8-26ca694ae4d0"
      },
      "source": [
        "print('blanks:', pd.isna(txns_df['product_size']).sum())\n",
        "plt.hist(txns_df['product_size'][pd.notna(txns_df['product_size'])])"
      ],
      "execution_count": 123,
      "outputs": [
        {
          "output_type": "stream",
          "text": [
            "blanks: 197\n"
          ],
          "name": "stdout"
        },
        {
          "output_type": "execute_result",
          "data": {
            "text/plain": [
              "(array([12990.,     0.,     0.,     0.,     0.,  3976.,     0.,     0.,\n",
              "            0.,  2837.]),\n",
              " array([0. , 0.2, 0.4, 0.6, 0.8, 1. , 1.2, 1.4, 1.6, 1.8, 2. ]),\n",
              " <a list of 10 Patch objects>)"
            ]
          },
          "metadata": {
            "tags": []
          },
          "execution_count": 123
        },
        {
          "output_type": "display_data",
          "data": {
            "image/png": "[encoded data removed]",
            "text/plain": [
              "<Figure size 432x288 with 1 Axes>"
            ]
          },
          "metadata": {
            "tags": [],
            "needs_background": "light"
          }
        }
      ]
    },
    {
      "cell_type": "code",
      "metadata": {
        "colab": {
          "base_uri": "https://localhost:8080/",
          "height": 282
        },
        "id": "AoyrJU3pcyva",
        "outputId": "6875fa75-11e1-4f21-9df3-243ab50ff24d"
      },
      "source": [
        "plt.scatter(txns_df['brand'][pd.notna(txns_df['brand'])], txns_df['profit'][pd.notna(txns_df['brand'])])"
      ],
      "execution_count": 124,
      "outputs": [
        {
          "output_type": "execute_result",
          "data": {
            "text/plain": [
              "<matplotlib.collections.PathCollection at 0x7fa1987d5a50>"
            ]
          },
          "metadata": {
            "tags": []
          },
          "execution_count": 124
        },
        {
          "output_type": "display_data",
          "data": {
            "image/png": "[encoded data removed]",
            "text/plain": [
              "<Figure size 432x288 with 1 Axes>"
            ]
          },
          "metadata": {
            "tags": [],
            "needs_background": "light"
          }
        }
      ]
    },
    {
      "cell_type": "markdown",
      "metadata": {
        "id": "PwnMW4ZCdKEg"
      },
      "source": [
        "\n",
        " ***All the columns appear to have consistent and correct information.***"
      ]
    },
    {
      "cell_type": "markdown",
      "metadata": {
        "id": "ENxtoKp-ebkA"
      },
      "source": [
        "## ***Exploring NewCustomerlist***"
      ]
    },
    {
      "cell_type": "code",
      "metadata": {
        "colab": {
          "base_uri": "https://localhost:8080/",
          "height": 292
        },
        "id": "zyGL93vsc7x1",
        "outputId": "4494f3ea-13f5-4d85-a0ac-de880de9ede1"
      },
      "source": [
        "new_cust_list_df = pd.read_excel(file_name, header=1, sheet_name='Transactions')\n",
        "new_cust_list_df.head()"
      ],
      "execution_count": 125,
      "outputs": [
        {
          "output_type": "execute_result",
          "data": {
            "text/html": [
              "<div>\n",
              "<style scoped>\n",
              "    .dataframe tbody tr th:only-of-type {\n",
              "        vertical-align: middle;\n",
              "    }\n",
              "\n",
              "    .dataframe tbody tr th {\n",
              "        vertical-align: top;\n",
              "    }\n",
              "\n",
              "    .dataframe thead th {\n",
              "        text-align: right;\n",
              "    }\n",
              "</style>\n",
              "<table border=\"1\" class=\"dataframe\">\n",
              "  <thead>\n",
              "    <tr style=\"text-align: right;\">\n",
              "      <th></th>\n",
              "      <th>transaction_id</th>\n",
              "      <th>product_id</th>\n",
              "      <th>customer_id</th>\n",
              "      <th>transaction_date</th>\n",
              "      <th>online_order</th>\n",
              "      <th>order_status</th>\n",
              "      <th>brand</th>\n",
              "      <th>product_line</th>\n",
              "      <th>product_class</th>\n",
              "      <th>product_size</th>\n",
              "      <th>list_price</th>\n",
              "      <th>standard_cost</th>\n",
              "      <th>product_first_sold_date</th>\n",
              "    </tr>\n",
              "  </thead>\n",
              "  <tbody>\n",
              "    <tr>\n",
              "      <th>0</th>\n",
              "      <td>1</td>\n",
              "      <td>2</td>\n",
              "      <td>2950</td>\n",
              "      <td>2017-02-25</td>\n",
              "      <td>0.0</td>\n",
              "      <td>Approved</td>\n",
              "      <td>Solex</td>\n",
              "      <td>Standard</td>\n",
              "      <td>medium</td>\n",
              "      <td>medium</td>\n",
              "      <td>71.49</td>\n",
              "      <td>53.62</td>\n",
              "      <td>41245.0</td>\n",
              "    </tr>\n",
              "    <tr>\n",
              "      <th>1</th>\n",
              "      <td>2</td>\n",
              "      <td>3</td>\n",
              "      <td>3120</td>\n",
              "      <td>2017-05-21</td>\n",
              "      <td>1.0</td>\n",
              "      <td>Approved</td>\n",
              "      <td>Trek Bicycles</td>\n",
              "      <td>Standard</td>\n",
              "      <td>medium</td>\n",
              "      <td>large</td>\n",
              "      <td>2091.47</td>\n",
              "      <td>388.92</td>\n",
              "      <td>41701.0</td>\n",
              "    </tr>\n",
              "    <tr>\n",
              "      <th>2</th>\n",
              "      <td>3</td>\n",
              "      <td>37</td>\n",
              "      <td>402</td>\n",
              "      <td>2017-10-16</td>\n",
              "      <td>0.0</td>\n",
              "      <td>Approved</td>\n",
              "      <td>OHM Cycles</td>\n",
              "      <td>Standard</td>\n",
              "      <td>low</td>\n",
              "      <td>medium</td>\n",
              "      <td>1793.43</td>\n",
              "      <td>248.82</td>\n",
              "      <td>36361.0</td>\n",
              "    </tr>\n",
              "    <tr>\n",
              "      <th>3</th>\n",
              "      <td>4</td>\n",
              "      <td>88</td>\n",
              "      <td>3135</td>\n",
              "      <td>2017-08-31</td>\n",
              "      <td>0.0</td>\n",
              "      <td>Approved</td>\n",
              "      <td>Norco Bicycles</td>\n",
              "      <td>Standard</td>\n",
              "      <td>medium</td>\n",
              "      <td>medium</td>\n",
              "      <td>1198.46</td>\n",
              "      <td>381.10</td>\n",
              "      <td>36145.0</td>\n",
              "    </tr>\n",
              "    <tr>\n",
              "      <th>4</th>\n",
              "      <td>5</td>\n",
              "      <td>78</td>\n",
              "      <td>787</td>\n",
              "      <td>2017-10-01</td>\n",
              "      <td>1.0</td>\n",
              "      <td>Approved</td>\n",
              "      <td>Giant Bicycles</td>\n",
              "      <td>Standard</td>\n",
              "      <td>medium</td>\n",
              "      <td>large</td>\n",
              "      <td>1765.30</td>\n",
              "      <td>709.48</td>\n",
              "      <td>42226.0</td>\n",
              "    </tr>\n",
              "  </tbody>\n",
              "</table>\n",
              "</div>"
            ],
            "text/plain": [
              "   transaction_id  product_id  ...  standard_cost product_first_sold_date\n",
              "0               1           2  ...          53.62                 41245.0\n",
              "1               2           3  ...         388.92                 41701.0\n",
              "2               3          37  ...         248.82                 36361.0\n",
              "3               4          88  ...         381.10                 36145.0\n",
              "4               5          78  ...         709.48                 42226.0\n",
              "\n",
              "[5 rows x 13 columns]"
            ]
          },
          "metadata": {
            "tags": []
          },
          "execution_count": 125
        }
      ]
    },
    {
      "cell_type": "code",
      "metadata": {
        "colab": {
          "base_uri": "https://localhost:8080/"
        },
        "id": "24Jr9sC2ekj5",
        "outputId": "92a7aa6c-293d-423c-dd0a-f52a8a754c25"
      },
      "source": [
        "new_cust_list_df.info()"
      ],
      "execution_count": 126,
      "outputs": [
        {
          "output_type": "stream",
          "text": [
            "<class 'pandas.core.frame.DataFrame'>\n",
            "RangeIndex: 20000 entries, 0 to 19999\n",
            "Data columns (total 13 columns):\n",
            " #   Column                   Non-Null Count  Dtype         \n",
            "---  ------                   --------------  -----         \n",
            " 0   transaction_id           20000 non-null  int64         \n",
            " 1   product_id               20000 non-null  int64         \n",
            " 2   customer_id              20000 non-null  int64         \n",
            " 3   transaction_date         20000 non-null  datetime64[ns]\n",
            " 4   online_order             19640 non-null  float64       \n",
            " 5   order_status             20000 non-null  object        \n",
            " 6   brand                    19803 non-null  object        \n",
            " 7   product_line             19803 non-null  object        \n",
            " 8   product_class            19803 non-null  object        \n",
            " 9   product_size             19803 non-null  object        \n",
            " 10  list_price               20000 non-null  float64       \n",
            " 11  standard_cost            19803 non-null  float64       \n",
            " 12  product_first_sold_date  19803 non-null  float64       \n",
            "dtypes: datetime64[ns](1), float64(4), int64(3), object(5)\n",
            "memory usage: 2.0+ MB\n"
          ],
          "name": "stdout"
        }
      ]
    },
    {
      "cell_type": "code",
      "metadata": {
        "colab": {
          "base_uri": "https://localhost:8080/"
        },
        "id": "DsbHsYooekn7",
        "outputId": "9bafffd5-8346-4009-9c10-680d666a59b7"
      },
      "source": [
        "new_cust_list_df.shape"
      ],
      "execution_count": 127,
      "outputs": [
        {
          "output_type": "execute_result",
          "data": {
            "text/plain": [
              "(20000, 13)"
            ]
          },
          "metadata": {
            "tags": []
          },
          "execution_count": 127
        }
      ]
    },
    {
      "cell_type": "code",
      "metadata": {
        "colab": {
          "base_uri": "https://localhost:8080/"
        },
        "id": "LJjkpbWRekvM",
        "outputId": "7392f171-7bc9-4eda-b81c-eef74078ca3f"
      },
      "source": [
        "# Check for null values\n",
        "new_cust_list_df.isnull().sum()"
      ],
      "execution_count": 129,
      "outputs": [
        {
          "output_type": "execute_result",
          "data": {
            "text/plain": [
              "transaction_id               0\n",
              "product_id                   0\n",
              "customer_id                  0\n",
              "transaction_date             0\n",
              "online_order               360\n",
              "order_status                 0\n",
              "brand                      197\n",
              "product_line               197\n",
              "product_class              197\n",
              "product_size               197\n",
              "list_price                   0\n",
              "standard_cost              197\n",
              "product_first_sold_date    197\n",
              "dtype: int64"
            ]
          },
          "metadata": {
            "tags": []
          },
          "execution_count": 129
        }
      ]
    },
    {
      "cell_type": "code",
      "metadata": {
        "colab": {
          "base_uri": "https://localhost:8080/"
        },
        "id": "21-QhV7Kek0c",
        "outputId": "c0b28210-f9d2-483e-c583-47284f36c7a4"
      },
      "source": [
        "# Checking for duplicate values\n",
        "new_cust_list_df[new_cust_list_df.duplicated()].sum()"
      ],
      "execution_count": 131,
      "outputs": [
        {
          "output_type": "execute_result",
          "data": {
            "text/plain": [
              "transaction_id             0.0\n",
              "product_id                 0.0\n",
              "customer_id                0.0\n",
              "transaction_date           0.0\n",
              "online_order               0.0\n",
              "order_status               0.0\n",
              "brand                      0.0\n",
              "product_line               0.0\n",
              "product_class              0.0\n",
              "product_size               0.0\n",
              "list_price                 0.0\n",
              "standard_cost              0.0\n",
              "product_first_sold_date    0.0\n",
              "dtype: float64"
            ]
          },
          "metadata": {
            "tags": []
          },
          "execution_count": 131
        }
      ]
    },
    {
      "cell_type": "markdown",
      "metadata": {
        "id": "YwhsUkd3fvDf"
      },
      "source": [
        "***There are no duplicate values in the dataset.***"
      ]
    },
    {
      "cell_type": "code",
      "metadata": {
        "colab": {
          "base_uri": "https://localhost:8080/"
        },
        "id": "nzkeSiVWek4a",
        "outputId": "a8bbcd50-8c0f-40a7-8648-2c20b513e825"
      },
      "source": [
        "new_cust_list_df['transaction_date'].describe()"
      ],
      "execution_count": 136,
      "outputs": [
        {
          "output_type": "stream",
          "text": [
            "/usr/local/lib/python3.7/dist-packages/ipykernel_launcher.py:1: FutureWarning: Treating datetime data as categorical rather than numeric in `.describe` is deprecated and will be removed in a future version of pandas. Specify `datetime_is_numeric=True` to silence this warning and adopt the future behavior now.\n",
            "  \"\"\"Entry point for launching an IPython kernel.\n"
          ],
          "name": "stderr"
        },
        {
          "output_type": "execute_result",
          "data": {
            "text/plain": [
              "count                   20000\n",
              "unique                    364\n",
              "top       2017-02-14 00:00:00\n",
              "freq                       82\n",
              "first     2017-01-01 00:00:00\n",
              "last      2017-12-30 00:00:00\n",
              "Name: transaction_date, dtype: object"
            ]
          },
          "metadata": {
            "tags": []
          },
          "execution_count": 136
        }
      ]
    },
    {
      "cell_type": "code",
      "metadata": {
        "colab": {
          "base_uri": "https://localhost:8080/"
        },
        "id": "MSNMUL2qf38L",
        "outputId": "5c308837-4333-431b-c6af-33fd07ab32c8"
      },
      "source": [
        "#convert date columns from integer to datetime\n",
        "new_cust_list_df['transaction_date'] = pd.to_datetime(new_cust_list_df['transaction_date'], unit='s')\n",
        "new_cust_list_df['transaction_date'].head()"
      ],
      "execution_count": 137,
      "outputs": [
        {
          "output_type": "execute_result",
          "data": {
            "text/plain": [
              "0   2017-02-25\n",
              "1   2017-05-21\n",
              "2   2017-10-16\n",
              "3   2017-08-31\n",
              "4   2017-10-01\n",
              "Name: transaction_date, dtype: datetime64[ns]"
            ]
          },
          "metadata": {
            "tags": []
          },
          "execution_count": 137
        }
      ]
    },
    {
      "cell_type": "code",
      "metadata": {
        "colab": {
          "base_uri": "https://localhost:8080/"
        },
        "id": "PducnxzugYh5",
        "outputId": "b1643646-1e7e-46f3-f26e-d653d01be768"
      },
      "source": [
        "#convert date columns from integer to datetime\n",
        "new_cust_list_df['product_first_sold_date'] = pd.to_datetime(new_cust_list_df['product_first_sold_date'], unit='s')\n",
        "new_cust_list_df['product_first_sold_date'].head()"
      ],
      "execution_count": 138,
      "outputs": [
        {
          "output_type": "execute_result",
          "data": {
            "text/plain": [
              "0   1970-01-01 11:27:25\n",
              "1   1970-01-01 11:35:01\n",
              "2   1970-01-01 10:06:01\n",
              "3   1970-01-01 10:02:25\n",
              "4   1970-01-01 11:43:46\n",
              "Name: product_first_sold_date, dtype: datetime64[ns]"
            ]
          },
          "metadata": {
            "tags": []
          },
          "execution_count": 138
        }
      ]
    },
    {
      "cell_type": "markdown",
      "metadata": {
        "id": "JYh2JOd3hIZ1"
      },
      "source": [
        "\n",
        "***The integers in the date columns are not correct as it shows everything happening the same day at different times. We would need to refer back to the author of the data to seek more clarification on how the data was collected.***"
      ]
    },
    {
      "cell_type": "code",
      "metadata": {
        "id": "dhCxGPwIgy6T"
      },
      "source": [
        ""
      ],
      "execution_count": null,
      "outputs": []
    }
  ]
}