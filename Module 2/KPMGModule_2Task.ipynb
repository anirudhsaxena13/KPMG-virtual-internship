{
  "nbformat": 4,
  "nbformat_minor": 0,
  "metadata": {
    "colab": {
      "name": "KPMGModule_2Task.ipynb",
      "provenance": [],
      "collapsed_sections": [],
      "toc_visible": true
    },
    "kernelspec": {
      "name": "python3",
      "display_name": "Python 3"
    },
    "language_info": {
      "name": "python"
    }
  },
  "cells": [
    {
      "cell_type": "markdown",
      "metadata": {
        "id": "7Ikey2BkqVHM"
      },
      "source": [
        "#***FEATURE ENGINEERING OF SPROCKET CENTRAL PTY LTD.***"
      ]
    },
    {
      "cell_type": "code",
      "metadata": {
        "id": "hg9S7kOpl5Ea",
        "colab": {
          "base_uri": "https://localhost:8080/",
          "height": 367
        },
        "outputId": "ba866445-ae5d-43df-e71b-94b0c80c1ecb"
      },
      "source": [
        "import numpy as np\n",
        "import pandas as pd\n",
        "import datetime as dt\n",
        "import seaborn as sns\n",
        "import matplotlib.pyplot as plt\n",
        "import xlrd\n",
        "import xlsxwriter\n",
        "\n",
        "import os\n",
        "for dirname, _, filenames in os.walk('../data/'):\n",
        "    for filename in filenames:\n",
        "        print(os.path.join(dirname, filename))"
      ],
      "execution_count": null,
      "outputs": [
        {
          "output_type": "error",
          "ename": "ModuleNotFoundError",
          "evalue": "ignored",
          "traceback": [
            "\u001b[0;31m---------------------------------------------------------------------------\u001b[0m",
            "\u001b[0;31mModuleNotFoundError\u001b[0m                       Traceback (most recent call last)",
            "\u001b[0;32m<ipython-input-125-da92cb9392f3>\u001b[0m in \u001b[0;36m<module>\u001b[0;34m()\u001b[0m\n\u001b[1;32m      5\u001b[0m \u001b[0;32mimport\u001b[0m \u001b[0mmatplotlib\u001b[0m\u001b[0;34m.\u001b[0m\u001b[0mpyplot\u001b[0m \u001b[0;32mas\u001b[0m \u001b[0mplt\u001b[0m\u001b[0;34m\u001b[0m\u001b[0;34m\u001b[0m\u001b[0m\n\u001b[1;32m      6\u001b[0m \u001b[0;32mimport\u001b[0m \u001b[0mxlrd\u001b[0m\u001b[0;34m\u001b[0m\u001b[0;34m\u001b[0m\u001b[0m\n\u001b[0;32m----> 7\u001b[0;31m \u001b[0;32mimport\u001b[0m \u001b[0mxlsxwriter\u001b[0m\u001b[0;34m\u001b[0m\u001b[0;34m\u001b[0m\u001b[0m\n\u001b[0m\u001b[1;32m      8\u001b[0m \u001b[0;34m\u001b[0m\u001b[0m\n\u001b[1;32m      9\u001b[0m \u001b[0;32mimport\u001b[0m \u001b[0mos\u001b[0m\u001b[0;34m\u001b[0m\u001b[0;34m\u001b[0m\u001b[0m\n",
            "\u001b[0;31mModuleNotFoundError\u001b[0m: No module named 'xlsxwriter'",
            "",
            "\u001b[0;31m---------------------------------------------------------------------------\u001b[0;32m\nNOTE: If your import is failing due to a missing package, you can\nmanually install dependencies using either !pip or !apt.\n\nTo view examples of installing some common dependencies, click the\n\"Open Examples\" button below.\n\u001b[0;31m---------------------------------------------------------------------------\u001b[0m\n"
          ]
        }
      ]
    },
    {
      "cell_type": "code",
      "metadata": {
        "colab": {
          "base_uri": "https://localhost:8080/"
        },
        "id": "lyTHHTR7mae6",
        "outputId": "6425b10c-ba2e-4877-bc07-b76deae185a4"
      },
      "source": [
        "file_name = '../content/KPMG_VI_New_raw_data_update_final.xlsx'\n",
        "print(pd.ExcelFile(file_name).sheet_names)"
      ],
      "execution_count": null,
      "outputs": [
        {
          "output_type": "stream",
          "text": [
            "['Title Sheet', 'Transactions', 'NewCustomerList', 'CustomerDemographic', 'CustomerAddress']\n"
          ],
          "name": "stdout"
        }
      ]
    },
    {
      "cell_type": "markdown",
      "metadata": {
        "id": "9kQ2QU0EqJth"
      },
      "source": [
        "#***Exploring CustomerDemographic***"
      ]
    },
    {
      "cell_type": "code",
      "metadata": {
        "colab": {
          "base_uri": "https://localhost:8080/",
          "height": 357
        },
        "id": "rkagb6CHmaiY",
        "outputId": "21a6c624-1bb0-4934-9db6-7a338d2e619b"
      },
      "source": [
        "demo_df = pd.read_excel(file_name, header=1, sheet_name='CustomerDemographic', index_col=0)\n",
        "demo_df.head()"
      ],
      "execution_count": null,
      "outputs": [
        {
          "output_type": "execute_result",
          "data": {
            "text/html": [
              "<div>\n",
              "<style scoped>\n",
              "    .dataframe tbody tr th:only-of-type {\n",
              "        vertical-align: middle;\n",
              "    }\n",
              "\n",
              "    .dataframe tbody tr th {\n",
              "        vertical-align: top;\n",
              "    }\n",
              "\n",
              "    .dataframe thead th {\n",
              "        text-align: right;\n",
              "    }\n",
              "</style>\n",
              "<table border=\"1\" class=\"dataframe\">\n",
              "  <thead>\n",
              "    <tr style=\"text-align: right;\">\n",
              "      <th></th>\n",
              "      <th>first_name</th>\n",
              "      <th>last_name</th>\n",
              "      <th>gender</th>\n",
              "      <th>past_3_years_bike_related_purchases</th>\n",
              "      <th>DOB</th>\n",
              "      <th>job_title</th>\n",
              "      <th>job_industry_category</th>\n",
              "      <th>wealth_segment</th>\n",
              "      <th>deceased_indicator</th>\n",
              "      <th>default</th>\n",
              "      <th>owns_car</th>\n",
              "      <th>tenure</th>\n",
              "    </tr>\n",
              "    <tr>\n",
              "      <th>customer_id</th>\n",
              "      <th></th>\n",
              "      <th></th>\n",
              "      <th></th>\n",
              "      <th></th>\n",
              "      <th></th>\n",
              "      <th></th>\n",
              "      <th></th>\n",
              "      <th></th>\n",
              "      <th></th>\n",
              "      <th></th>\n",
              "      <th></th>\n",
              "      <th></th>\n",
              "    </tr>\n",
              "  </thead>\n",
              "  <tbody>\n",
              "    <tr>\n",
              "      <th>1</th>\n",
              "      <td>Laraine</td>\n",
              "      <td>Medendorp</td>\n",
              "      <td>F</td>\n",
              "      <td>93</td>\n",
              "      <td>1953-10-12</td>\n",
              "      <td>Executive Secretary</td>\n",
              "      <td>Health</td>\n",
              "      <td>Mass Customer</td>\n",
              "      <td>N</td>\n",
              "      <td>\"'</td>\n",
              "      <td>Yes</td>\n",
              "      <td>11.0</td>\n",
              "    </tr>\n",
              "    <tr>\n",
              "      <th>2</th>\n",
              "      <td>Eli</td>\n",
              "      <td>Bockman</td>\n",
              "      <td>Male</td>\n",
              "      <td>81</td>\n",
              "      <td>1980-12-16</td>\n",
              "      <td>Administrative Officer</td>\n",
              "      <td>Financial Services</td>\n",
              "      <td>Mass Customer</td>\n",
              "      <td>N</td>\n",
              "      <td>&lt;script&gt;alert('hi')&lt;/script&gt;</td>\n",
              "      <td>Yes</td>\n",
              "      <td>16.0</td>\n",
              "    </tr>\n",
              "    <tr>\n",
              "      <th>3</th>\n",
              "      <td>Arlin</td>\n",
              "      <td>Dearle</td>\n",
              "      <td>Male</td>\n",
              "      <td>61</td>\n",
              "      <td>1954-01-20</td>\n",
              "      <td>Recruiting Manager</td>\n",
              "      <td>Property</td>\n",
              "      <td>Mass Customer</td>\n",
              "      <td>N</td>\n",
              "      <td>2018-02-01 00:00:00</td>\n",
              "      <td>Yes</td>\n",
              "      <td>15.0</td>\n",
              "    </tr>\n",
              "    <tr>\n",
              "      <th>4</th>\n",
              "      <td>Talbot</td>\n",
              "      <td>NaN</td>\n",
              "      <td>Male</td>\n",
              "      <td>33</td>\n",
              "      <td>1961-10-03</td>\n",
              "      <td>NaN</td>\n",
              "      <td>IT</td>\n",
              "      <td>Mass Customer</td>\n",
              "      <td>N</td>\n",
              "      <td>() { _; } &gt;_[$($())] { touch /tmp/blns.shellsh...</td>\n",
              "      <td>No</td>\n",
              "      <td>7.0</td>\n",
              "    </tr>\n",
              "    <tr>\n",
              "      <th>5</th>\n",
              "      <td>Sheila-kathryn</td>\n",
              "      <td>Calton</td>\n",
              "      <td>Female</td>\n",
              "      <td>56</td>\n",
              "      <td>1977-05-13</td>\n",
              "      <td>Senior Editor</td>\n",
              "      <td>NaN</td>\n",
              "      <td>Affluent Customer</td>\n",
              "      <td>N</td>\n",
              "      <td>NIL</td>\n",
              "      <td>Yes</td>\n",
              "      <td>8.0</td>\n",
              "    </tr>\n",
              "  </tbody>\n",
              "</table>\n",
              "</div>"
            ],
            "text/plain": [
              "                 first_name  last_name  ... owns_car  tenure\n",
              "customer_id                             ...                 \n",
              "1                   Laraine  Medendorp  ...      Yes    11.0\n",
              "2                       Eli    Bockman  ...      Yes    16.0\n",
              "3                     Arlin     Dearle  ...      Yes    15.0\n",
              "4                    Talbot        NaN  ...       No     7.0\n",
              "5            Sheila-kathryn     Calton  ...      Yes     8.0\n",
              "\n",
              "[5 rows x 12 columns]"
            ]
          },
          "metadata": {
            "tags": []
          },
          "execution_count": 127
        }
      ]
    },
    {
      "cell_type": "code",
      "metadata": {
        "colab": {
          "base_uri": "https://localhost:8080/",
          "height": 320
        },
        "id": "FlFx0slxmaki",
        "outputId": "d6712e34-8c1c-4158-b7e1-e4d8701eeac3"
      },
      "source": [
        "demo_df = demo_df.drop(['first_name', 'last_name', 'default', 'job_title'], axis=1)\n",
        "demo_df['gender'].replace(['F', 'Femal'], 'Female', inplace=True)\n",
        "demo_df['gender'].replace('M', 'Male', inplace=True)\n",
        "demo_df['gender'].replace('U', 'Unspecified', inplace=True)\n",
        "demo_df['deceased_indicator'].replace(['N'], 0, inplace=True)\n",
        "demo_df['deceased_indicator'].replace(['Y'], 1, inplace=True)\n",
        "demo_df['owns_car'].replace('Yes', 1, inplace=True)\n",
        "demo_df['owns_car'].replace('No', 0, inplace=True)\n",
        "demo_df = demo_df[demo_df['DOB'] != demo_df.DOB.min()]\n",
        "demo_df[demo_df['deceased_indicator'] == 0]\n",
        "demo_df = demo_df.drop(['deceased_indicator'], axis=1)\n",
        "demo_df_clean = demo_df.dropna()\n",
        "demo_df_clean.head()"
      ],
      "execution_count": null,
      "outputs": [
        {
          "output_type": "execute_result",
          "data": {
            "text/html": [
              "<div>\n",
              "<style scoped>\n",
              "    .dataframe tbody tr th:only-of-type {\n",
              "        vertical-align: middle;\n",
              "    }\n",
              "\n",
              "    .dataframe tbody tr th {\n",
              "        vertical-align: top;\n",
              "    }\n",
              "\n",
              "    .dataframe thead th {\n",
              "        text-align: right;\n",
              "    }\n",
              "</style>\n",
              "<table border=\"1\" class=\"dataframe\">\n",
              "  <thead>\n",
              "    <tr style=\"text-align: right;\">\n",
              "      <th></th>\n",
              "      <th>gender</th>\n",
              "      <th>past_3_years_bike_related_purchases</th>\n",
              "      <th>DOB</th>\n",
              "      <th>job_industry_category</th>\n",
              "      <th>wealth_segment</th>\n",
              "      <th>owns_car</th>\n",
              "      <th>tenure</th>\n",
              "    </tr>\n",
              "    <tr>\n",
              "      <th>customer_id</th>\n",
              "      <th></th>\n",
              "      <th></th>\n",
              "      <th></th>\n",
              "      <th></th>\n",
              "      <th></th>\n",
              "      <th></th>\n",
              "      <th></th>\n",
              "    </tr>\n",
              "  </thead>\n",
              "  <tbody>\n",
              "    <tr>\n",
              "      <th>1</th>\n",
              "      <td>Female</td>\n",
              "      <td>93</td>\n",
              "      <td>1953-10-12</td>\n",
              "      <td>Health</td>\n",
              "      <td>Mass Customer</td>\n",
              "      <td>1</td>\n",
              "      <td>11.0</td>\n",
              "    </tr>\n",
              "    <tr>\n",
              "      <th>2</th>\n",
              "      <td>Male</td>\n",
              "      <td>81</td>\n",
              "      <td>1980-12-16</td>\n",
              "      <td>Financial Services</td>\n",
              "      <td>Mass Customer</td>\n",
              "      <td>1</td>\n",
              "      <td>16.0</td>\n",
              "    </tr>\n",
              "    <tr>\n",
              "      <th>3</th>\n",
              "      <td>Male</td>\n",
              "      <td>61</td>\n",
              "      <td>1954-01-20</td>\n",
              "      <td>Property</td>\n",
              "      <td>Mass Customer</td>\n",
              "      <td>1</td>\n",
              "      <td>15.0</td>\n",
              "    </tr>\n",
              "    <tr>\n",
              "      <th>4</th>\n",
              "      <td>Male</td>\n",
              "      <td>33</td>\n",
              "      <td>1961-10-03</td>\n",
              "      <td>IT</td>\n",
              "      <td>Mass Customer</td>\n",
              "      <td>0</td>\n",
              "      <td>7.0</td>\n",
              "    </tr>\n",
              "    <tr>\n",
              "      <th>6</th>\n",
              "      <td>Male</td>\n",
              "      <td>35</td>\n",
              "      <td>1966-09-16</td>\n",
              "      <td>Retail</td>\n",
              "      <td>High Net Worth</td>\n",
              "      <td>1</td>\n",
              "      <td>13.0</td>\n",
              "    </tr>\n",
              "  </tbody>\n",
              "</table>\n",
              "</div>"
            ],
            "text/plain": [
              "             gender  past_3_years_bike_related_purchases  ... owns_car tenure\n",
              "customer_id                                               ...                \n",
              "1            Female                                   93  ...        1   11.0\n",
              "2              Male                                   81  ...        1   16.0\n",
              "3              Male                                   61  ...        1   15.0\n",
              "4              Male                                   33  ...        0    7.0\n",
              "6              Male                                   35  ...        1   13.0\n",
              "\n",
              "[5 rows x 7 columns]"
            ]
          },
          "metadata": {
            "tags": []
          },
          "execution_count": 128
        }
      ]
    },
    {
      "cell_type": "code",
      "metadata": {
        "colab": {
          "base_uri": "https://localhost:8080/",
          "height": 544
        },
        "id": "uuSETr7Qmamo",
        "outputId": "a2adf769-0462-4b78-957e-67d757b53c13"
      },
      "source": [
        "demo_df_clean['age'] = (dt.datetime.now() - demo_df_clean['DOB']) / np.timedelta64(1, 'Y')\n",
        "demo_df_clean['age_class'] = ((round(demo_df_clean['age'] / 10)) * 10).astype(int)\n",
        "demo_df_clean.head()"
      ],
      "execution_count": null,
      "outputs": [
        {
          "output_type": "stream",
          "text": [
            "/usr/local/lib/python3.7/dist-packages/ipykernel_launcher.py:1: SettingWithCopyWarning: \n",
            "A value is trying to be set on a copy of a slice from a DataFrame.\n",
            "Try using .loc[row_indexer,col_indexer] = value instead\n",
            "\n",
            "See the caveats in the documentation: https://pandas.pydata.org/pandas-docs/stable/user_guide/indexing.html#returning-a-view-versus-a-copy\n",
            "  \"\"\"Entry point for launching an IPython kernel.\n",
            "/usr/local/lib/python3.7/dist-packages/ipykernel_launcher.py:2: SettingWithCopyWarning: \n",
            "A value is trying to be set on a copy of a slice from a DataFrame.\n",
            "Try using .loc[row_indexer,col_indexer] = value instead\n",
            "\n",
            "See the caveats in the documentation: https://pandas.pydata.org/pandas-docs/stable/user_guide/indexing.html#returning-a-view-versus-a-copy\n",
            "  \n"
          ],
          "name": "stderr"
        },
        {
          "output_type": "execute_result",
          "data": {
            "text/html": [
              "<div>\n",
              "<style scoped>\n",
              "    .dataframe tbody tr th:only-of-type {\n",
              "        vertical-align: middle;\n",
              "    }\n",
              "\n",
              "    .dataframe tbody tr th {\n",
              "        vertical-align: top;\n",
              "    }\n",
              "\n",
              "    .dataframe thead th {\n",
              "        text-align: right;\n",
              "    }\n",
              "</style>\n",
              "<table border=\"1\" class=\"dataframe\">\n",
              "  <thead>\n",
              "    <tr style=\"text-align: right;\">\n",
              "      <th></th>\n",
              "      <th>gender</th>\n",
              "      <th>past_3_years_bike_related_purchases</th>\n",
              "      <th>DOB</th>\n",
              "      <th>job_industry_category</th>\n",
              "      <th>wealth_segment</th>\n",
              "      <th>owns_car</th>\n",
              "      <th>tenure</th>\n",
              "      <th>age</th>\n",
              "      <th>age_class</th>\n",
              "    </tr>\n",
              "    <tr>\n",
              "      <th>customer_id</th>\n",
              "      <th></th>\n",
              "      <th></th>\n",
              "      <th></th>\n",
              "      <th></th>\n",
              "      <th></th>\n",
              "      <th></th>\n",
              "      <th></th>\n",
              "      <th></th>\n",
              "      <th></th>\n",
              "    </tr>\n",
              "  </thead>\n",
              "  <tbody>\n",
              "    <tr>\n",
              "      <th>1</th>\n",
              "      <td>Female</td>\n",
              "      <td>93</td>\n",
              "      <td>1953-10-12</td>\n",
              "      <td>Health</td>\n",
              "      <td>Mass Customer</td>\n",
              "      <td>1</td>\n",
              "      <td>11.0</td>\n",
              "      <td>67.573472</td>\n",
              "      <td>70</td>\n",
              "    </tr>\n",
              "    <tr>\n",
              "      <th>2</th>\n",
              "      <td>Male</td>\n",
              "      <td>81</td>\n",
              "      <td>1980-12-16</td>\n",
              "      <td>Financial Services</td>\n",
              "      <td>Mass Customer</td>\n",
              "      <td>1</td>\n",
              "      <td>16.0</td>\n",
              "      <td>40.394269</td>\n",
              "      <td>40</td>\n",
              "    </tr>\n",
              "    <tr>\n",
              "      <th>3</th>\n",
              "      <td>Male</td>\n",
              "      <td>61</td>\n",
              "      <td>1954-01-20</td>\n",
              "      <td>Property</td>\n",
              "      <td>Mass Customer</td>\n",
              "      <td>1</td>\n",
              "      <td>15.0</td>\n",
              "      <td>67.299681</td>\n",
              "      <td>70</td>\n",
              "    </tr>\n",
              "    <tr>\n",
              "      <th>4</th>\n",
              "      <td>Male</td>\n",
              "      <td>33</td>\n",
              "      <td>1961-10-03</td>\n",
              "      <td>IT</td>\n",
              "      <td>Mass Customer</td>\n",
              "      <td>0</td>\n",
              "      <td>7.0</td>\n",
              "      <td>59.597948</td>\n",
              "      <td>60</td>\n",
              "    </tr>\n",
              "    <tr>\n",
              "      <th>6</th>\n",
              "      <td>Male</td>\n",
              "      <td>35</td>\n",
              "      <td>1966-09-16</td>\n",
              "      <td>Retail</td>\n",
              "      <td>High Net Worth</td>\n",
              "      <td>1</td>\n",
              "      <td>13.0</td>\n",
              "      <td>54.645075</td>\n",
              "      <td>50</td>\n",
              "    </tr>\n",
              "  </tbody>\n",
              "</table>\n",
              "</div>"
            ],
            "text/plain": [
              "             gender  past_3_years_bike_related_purchases  ...        age age_class\n",
              "customer_id                                               ...                     \n",
              "1            Female                                   93  ...  67.573472        70\n",
              "2              Male                                   81  ...  40.394269        40\n",
              "3              Male                                   61  ...  67.299681        70\n",
              "4              Male                                   33  ...  59.597948        60\n",
              "6              Male                                   35  ...  54.645075        50\n",
              "\n",
              "[5 rows x 9 columns]"
            ]
          },
          "metadata": {
            "tags": []
          },
          "execution_count": 129
        }
      ]
    },
    {
      "cell_type": "markdown",
      "metadata": {
        "id": "oOT7Qs3Lq1_m"
      },
      "source": [
        "## ***EXPLORING CUSTOMERADDRESS*** "
      ]
    },
    {
      "cell_type": "code",
      "metadata": {
        "colab": {
          "base_uri": "https://localhost:8080/",
          "height": 235
        },
        "id": "4wvm1N9imaoo",
        "outputId": "be05b95a-4042-41f1-a2cb-84480b8ca97e"
      },
      "source": [
        "addr_df = pd.read_excel(file_name, header=1, sheet_name='CustomerAddress', index_col=0)\n",
        "addr_df.head()"
      ],
      "execution_count": null,
      "outputs": [
        {
          "output_type": "execute_result",
          "data": {
            "text/html": [
              "<div>\n",
              "<style scoped>\n",
              "    .dataframe tbody tr th:only-of-type {\n",
              "        vertical-align: middle;\n",
              "    }\n",
              "\n",
              "    .dataframe tbody tr th {\n",
              "        vertical-align: top;\n",
              "    }\n",
              "\n",
              "    .dataframe thead th {\n",
              "        text-align: right;\n",
              "    }\n",
              "</style>\n",
              "<table border=\"1\" class=\"dataframe\">\n",
              "  <thead>\n",
              "    <tr style=\"text-align: right;\">\n",
              "      <th></th>\n",
              "      <th>address</th>\n",
              "      <th>postcode</th>\n",
              "      <th>state</th>\n",
              "      <th>country</th>\n",
              "      <th>property_valuation</th>\n",
              "    </tr>\n",
              "    <tr>\n",
              "      <th>customer_id</th>\n",
              "      <th></th>\n",
              "      <th></th>\n",
              "      <th></th>\n",
              "      <th></th>\n",
              "      <th></th>\n",
              "    </tr>\n",
              "  </thead>\n",
              "  <tbody>\n",
              "    <tr>\n",
              "      <th>1</th>\n",
              "      <td>060 Morning Avenue</td>\n",
              "      <td>2016</td>\n",
              "      <td>New South Wales</td>\n",
              "      <td>Australia</td>\n",
              "      <td>10</td>\n",
              "    </tr>\n",
              "    <tr>\n",
              "      <th>2</th>\n",
              "      <td>6 Meadow Vale Court</td>\n",
              "      <td>2153</td>\n",
              "      <td>New South Wales</td>\n",
              "      <td>Australia</td>\n",
              "      <td>10</td>\n",
              "    </tr>\n",
              "    <tr>\n",
              "      <th>4</th>\n",
              "      <td>0 Holy Cross Court</td>\n",
              "      <td>4211</td>\n",
              "      <td>QLD</td>\n",
              "      <td>Australia</td>\n",
              "      <td>9</td>\n",
              "    </tr>\n",
              "    <tr>\n",
              "      <th>5</th>\n",
              "      <td>17979 Del Mar Point</td>\n",
              "      <td>2448</td>\n",
              "      <td>New South Wales</td>\n",
              "      <td>Australia</td>\n",
              "      <td>4</td>\n",
              "    </tr>\n",
              "    <tr>\n",
              "      <th>6</th>\n",
              "      <td>9 Oakridge Court</td>\n",
              "      <td>3216</td>\n",
              "      <td>VIC</td>\n",
              "      <td>Australia</td>\n",
              "      <td>9</td>\n",
              "    </tr>\n",
              "  </tbody>\n",
              "</table>\n",
              "</div>"
            ],
            "text/plain": [
              "                         address  postcode  ...    country property_valuation\n",
              "customer_id                                 ...                              \n",
              "1             060 Morning Avenue      2016  ...  Australia                 10\n",
              "2            6 Meadow Vale Court      2153  ...  Australia                 10\n",
              "4             0 Holy Cross Court      4211  ...  Australia                  9\n",
              "5            17979 Del Mar Point      2448  ...  Australia                  4\n",
              "6               9 Oakridge Court      3216  ...  Australia                  9\n",
              "\n",
              "[5 rows x 5 columns]"
            ]
          },
          "metadata": {
            "tags": []
          },
          "execution_count": 130
        }
      ]
    },
    {
      "cell_type": "code",
      "metadata": {
        "colab": {
          "base_uri": "https://localhost:8080/",
          "height": 235
        },
        "id": "wKWI-YXcmaq3",
        "outputId": "a4de1bac-27f8-4ae9-88c4-e69adb4055bd"
      },
      "source": [
        "addr_df['state'].replace('New South Wales', 'NSW', inplace=True)\n",
        "addr_df['state'].replace('Victoria', 'VIC', inplace=True)\n",
        "addr_df_clean = addr_df.dropna()\n",
        "addr_df_clean.head()"
      ],
      "execution_count": null,
      "outputs": [
        {
          "output_type": "execute_result",
          "data": {
            "text/html": [
              "<div>\n",
              "<style scoped>\n",
              "    .dataframe tbody tr th:only-of-type {\n",
              "        vertical-align: middle;\n",
              "    }\n",
              "\n",
              "    .dataframe tbody tr th {\n",
              "        vertical-align: top;\n",
              "    }\n",
              "\n",
              "    .dataframe thead th {\n",
              "        text-align: right;\n",
              "    }\n",
              "</style>\n",
              "<table border=\"1\" class=\"dataframe\">\n",
              "  <thead>\n",
              "    <tr style=\"text-align: right;\">\n",
              "      <th></th>\n",
              "      <th>address</th>\n",
              "      <th>postcode</th>\n",
              "      <th>state</th>\n",
              "      <th>country</th>\n",
              "      <th>property_valuation</th>\n",
              "    </tr>\n",
              "    <tr>\n",
              "      <th>customer_id</th>\n",
              "      <th></th>\n",
              "      <th></th>\n",
              "      <th></th>\n",
              "      <th></th>\n",
              "      <th></th>\n",
              "    </tr>\n",
              "  </thead>\n",
              "  <tbody>\n",
              "    <tr>\n",
              "      <th>1</th>\n",
              "      <td>060 Morning Avenue</td>\n",
              "      <td>2016</td>\n",
              "      <td>NSW</td>\n",
              "      <td>Australia</td>\n",
              "      <td>10</td>\n",
              "    </tr>\n",
              "    <tr>\n",
              "      <th>2</th>\n",
              "      <td>6 Meadow Vale Court</td>\n",
              "      <td>2153</td>\n",
              "      <td>NSW</td>\n",
              "      <td>Australia</td>\n",
              "      <td>10</td>\n",
              "    </tr>\n",
              "    <tr>\n",
              "      <th>4</th>\n",
              "      <td>0 Holy Cross Court</td>\n",
              "      <td>4211</td>\n",
              "      <td>QLD</td>\n",
              "      <td>Australia</td>\n",
              "      <td>9</td>\n",
              "    </tr>\n",
              "    <tr>\n",
              "      <th>5</th>\n",
              "      <td>17979 Del Mar Point</td>\n",
              "      <td>2448</td>\n",
              "      <td>NSW</td>\n",
              "      <td>Australia</td>\n",
              "      <td>4</td>\n",
              "    </tr>\n",
              "    <tr>\n",
              "      <th>6</th>\n",
              "      <td>9 Oakridge Court</td>\n",
              "      <td>3216</td>\n",
              "      <td>VIC</td>\n",
              "      <td>Australia</td>\n",
              "      <td>9</td>\n",
              "    </tr>\n",
              "  </tbody>\n",
              "</table>\n",
              "</div>"
            ],
            "text/plain": [
              "                         address  postcode state    country  property_valuation\n",
              "customer_id                                                                    \n",
              "1             060 Morning Avenue      2016   NSW  Australia                  10\n",
              "2            6 Meadow Vale Court      2153   NSW  Australia                  10\n",
              "4             0 Holy Cross Court      4211   QLD  Australia                   9\n",
              "5            17979 Del Mar Point      2448   NSW  Australia                   4\n",
              "6               9 Oakridge Court      3216   VIC  Australia                   9"
            ]
          },
          "metadata": {
            "tags": []
          },
          "execution_count": 131
        }
      ]
    },
    {
      "cell_type": "code",
      "metadata": {
        "colab": {
          "base_uri": "https://localhost:8080/",
          "height": 442
        },
        "id": "iOoeKrinmauh",
        "outputId": "83ecdf76-5ef8-4c18-c217-b485e7fc1c9c"
      },
      "source": [
        "demo_addr_df = pd.merge(demo_df_clean, addr_df_clean, left_index=True, right_index=True)\n",
        "demo_addr_df= demo_addr_df.dropna()\n",
        "demo_addr_df.head()"
      ],
      "execution_count": null,
      "outputs": [
        {
          "output_type": "execute_result",
          "data": {
            "text/html": [
              "<div>\n",
              "<style scoped>\n",
              "    .dataframe tbody tr th:only-of-type {\n",
              "        vertical-align: middle;\n",
              "    }\n",
              "\n",
              "    .dataframe tbody tr th {\n",
              "        vertical-align: top;\n",
              "    }\n",
              "\n",
              "    .dataframe thead th {\n",
              "        text-align: right;\n",
              "    }\n",
              "</style>\n",
              "<table border=\"1\" class=\"dataframe\">\n",
              "  <thead>\n",
              "    <tr style=\"text-align: right;\">\n",
              "      <th></th>\n",
              "      <th>gender</th>\n",
              "      <th>past_3_years_bike_related_purchases</th>\n",
              "      <th>DOB</th>\n",
              "      <th>job_industry_category</th>\n",
              "      <th>wealth_segment</th>\n",
              "      <th>owns_car</th>\n",
              "      <th>tenure</th>\n",
              "      <th>age</th>\n",
              "      <th>age_class</th>\n",
              "      <th>address</th>\n",
              "      <th>postcode</th>\n",
              "      <th>state</th>\n",
              "      <th>country</th>\n",
              "      <th>property_valuation</th>\n",
              "    </tr>\n",
              "    <tr>\n",
              "      <th>customer_id</th>\n",
              "      <th></th>\n",
              "      <th></th>\n",
              "      <th></th>\n",
              "      <th></th>\n",
              "      <th></th>\n",
              "      <th></th>\n",
              "      <th></th>\n",
              "      <th></th>\n",
              "      <th></th>\n",
              "      <th></th>\n",
              "      <th></th>\n",
              "      <th></th>\n",
              "      <th></th>\n",
              "      <th></th>\n",
              "    </tr>\n",
              "  </thead>\n",
              "  <tbody>\n",
              "    <tr>\n",
              "      <th>1</th>\n",
              "      <td>Female</td>\n",
              "      <td>93</td>\n",
              "      <td>1953-10-12</td>\n",
              "      <td>Health</td>\n",
              "      <td>Mass Customer</td>\n",
              "      <td>1</td>\n",
              "      <td>11.0</td>\n",
              "      <td>67.573472</td>\n",
              "      <td>70</td>\n",
              "      <td>060 Morning Avenue</td>\n",
              "      <td>2016</td>\n",
              "      <td>NSW</td>\n",
              "      <td>Australia</td>\n",
              "      <td>10</td>\n",
              "    </tr>\n",
              "    <tr>\n",
              "      <th>2</th>\n",
              "      <td>Male</td>\n",
              "      <td>81</td>\n",
              "      <td>1980-12-16</td>\n",
              "      <td>Financial Services</td>\n",
              "      <td>Mass Customer</td>\n",
              "      <td>1</td>\n",
              "      <td>16.0</td>\n",
              "      <td>40.394269</td>\n",
              "      <td>40</td>\n",
              "      <td>6 Meadow Vale Court</td>\n",
              "      <td>2153</td>\n",
              "      <td>NSW</td>\n",
              "      <td>Australia</td>\n",
              "      <td>10</td>\n",
              "    </tr>\n",
              "    <tr>\n",
              "      <th>4</th>\n",
              "      <td>Male</td>\n",
              "      <td>33</td>\n",
              "      <td>1961-10-03</td>\n",
              "      <td>IT</td>\n",
              "      <td>Mass Customer</td>\n",
              "      <td>0</td>\n",
              "      <td>7.0</td>\n",
              "      <td>59.597948</td>\n",
              "      <td>60</td>\n",
              "      <td>0 Holy Cross Court</td>\n",
              "      <td>4211</td>\n",
              "      <td>QLD</td>\n",
              "      <td>Australia</td>\n",
              "      <td>9</td>\n",
              "    </tr>\n",
              "    <tr>\n",
              "      <th>6</th>\n",
              "      <td>Male</td>\n",
              "      <td>35</td>\n",
              "      <td>1966-09-16</td>\n",
              "      <td>Retail</td>\n",
              "      <td>High Net Worth</td>\n",
              "      <td>1</td>\n",
              "      <td>13.0</td>\n",
              "      <td>54.645075</td>\n",
              "      <td>50</td>\n",
              "      <td>9 Oakridge Court</td>\n",
              "      <td>3216</td>\n",
              "      <td>VIC</td>\n",
              "      <td>Australia</td>\n",
              "      <td>9</td>\n",
              "    </tr>\n",
              "    <tr>\n",
              "      <th>7</th>\n",
              "      <td>Female</td>\n",
              "      <td>6</td>\n",
              "      <td>1976-02-23</td>\n",
              "      <td>Financial Services</td>\n",
              "      <td>Affluent Customer</td>\n",
              "      <td>1</td>\n",
              "      <td>11.0</td>\n",
              "      <td>45.207509</td>\n",
              "      <td>50</td>\n",
              "      <td>4 Delaware Trail</td>\n",
              "      <td>2210</td>\n",
              "      <td>NSW</td>\n",
              "      <td>Australia</td>\n",
              "      <td>9</td>\n",
              "    </tr>\n",
              "  </tbody>\n",
              "</table>\n",
              "</div>"
            ],
            "text/plain": [
              "             gender  ...  property_valuation\n",
              "customer_id          ...                    \n",
              "1            Female  ...                  10\n",
              "2              Male  ...                  10\n",
              "4              Male  ...                   9\n",
              "6              Male  ...                   9\n",
              "7            Female  ...                   9\n",
              "\n",
              "[5 rows x 14 columns]"
            ]
          },
          "metadata": {
            "tags": []
          },
          "execution_count": 132
        }
      ]
    },
    {
      "cell_type": "markdown",
      "metadata": {
        "id": "DYKc7pKPrv1q"
      },
      "source": [
        "## ***EXPLORING TRANSACTIONS***"
      ]
    },
    {
      "cell_type": "code",
      "metadata": {
        "colab": {
          "base_uri": "https://localhost:8080/",
          "height": 323
        },
        "id": "hYDShEdbmaxR",
        "outputId": "0f20c499-945b-4e7b-b678-5c02f57bc30e"
      },
      "source": [
        "txns_df = pd.read_excel(file_name, header=1, sheet_name='Transactions', index_col=0)\n",
        "txns_df = txns_df.sort_values('customer_id')\n",
        "txns_df.head()"
      ],
      "execution_count": null,
      "outputs": [
        {
          "output_type": "execute_result",
          "data": {
            "text/html": [
              "<div>\n",
              "<style scoped>\n",
              "    .dataframe tbody tr th:only-of-type {\n",
              "        vertical-align: middle;\n",
              "    }\n",
              "\n",
              "    .dataframe tbody tr th {\n",
              "        vertical-align: top;\n",
              "    }\n",
              "\n",
              "    .dataframe thead th {\n",
              "        text-align: right;\n",
              "    }\n",
              "</style>\n",
              "<table border=\"1\" class=\"dataframe\">\n",
              "  <thead>\n",
              "    <tr style=\"text-align: right;\">\n",
              "      <th></th>\n",
              "      <th>product_id</th>\n",
              "      <th>customer_id</th>\n",
              "      <th>transaction_date</th>\n",
              "      <th>online_order</th>\n",
              "      <th>order_status</th>\n",
              "      <th>brand</th>\n",
              "      <th>product_line</th>\n",
              "      <th>product_class</th>\n",
              "      <th>product_size</th>\n",
              "      <th>list_price</th>\n",
              "      <th>standard_cost</th>\n",
              "      <th>product_first_sold_date</th>\n",
              "    </tr>\n",
              "    <tr>\n",
              "      <th>transaction_id</th>\n",
              "      <th></th>\n",
              "      <th></th>\n",
              "      <th></th>\n",
              "      <th></th>\n",
              "      <th></th>\n",
              "      <th></th>\n",
              "      <th></th>\n",
              "      <th></th>\n",
              "      <th></th>\n",
              "      <th></th>\n",
              "      <th></th>\n",
              "      <th></th>\n",
              "    </tr>\n",
              "  </thead>\n",
              "  <tbody>\n",
              "    <tr>\n",
              "      <th>14486</th>\n",
              "      <td>23</td>\n",
              "      <td>1</td>\n",
              "      <td>2017-03-27</td>\n",
              "      <td>0.0</td>\n",
              "      <td>Approved</td>\n",
              "      <td>Norco Bicycles</td>\n",
              "      <td>Mountain</td>\n",
              "      <td>low</td>\n",
              "      <td>small</td>\n",
              "      <td>688.63</td>\n",
              "      <td>612.88</td>\n",
              "      <td>33455.0</td>\n",
              "    </tr>\n",
              "    <tr>\n",
              "      <th>18970</th>\n",
              "      <td>11</td>\n",
              "      <td>1</td>\n",
              "      <td>2017-03-29</td>\n",
              "      <td>1.0</td>\n",
              "      <td>Approved</td>\n",
              "      <td>Giant Bicycles</td>\n",
              "      <td>Standard</td>\n",
              "      <td>high</td>\n",
              "      <td>medium</td>\n",
              "      <td>1274.93</td>\n",
              "      <td>764.96</td>\n",
              "      <td>35378.0</td>\n",
              "    </tr>\n",
              "    <tr>\n",
              "      <th>16423</th>\n",
              "      <td>9</td>\n",
              "      <td>1</td>\n",
              "      <td>2017-12-09</td>\n",
              "      <td>1.0</td>\n",
              "      <td>Approved</td>\n",
              "      <td>OHM Cycles</td>\n",
              "      <td>Road</td>\n",
              "      <td>medium</td>\n",
              "      <td>medium</td>\n",
              "      <td>742.54</td>\n",
              "      <td>667.40</td>\n",
              "      <td>37838.0</td>\n",
              "    </tr>\n",
              "    <tr>\n",
              "      <th>5157</th>\n",
              "      <td>47</td>\n",
              "      <td>1</td>\n",
              "      <td>2017-05-11</td>\n",
              "      <td>1.0</td>\n",
              "      <td>Approved</td>\n",
              "      <td>Trek Bicycles</td>\n",
              "      <td>Road</td>\n",
              "      <td>low</td>\n",
              "      <td>small</td>\n",
              "      <td>1720.70</td>\n",
              "      <td>1531.42</td>\n",
              "      <td>37823.0</td>\n",
              "    </tr>\n",
              "    <tr>\n",
              "      <th>13424</th>\n",
              "      <td>2</td>\n",
              "      <td>1</td>\n",
              "      <td>2017-02-21</td>\n",
              "      <td>0.0</td>\n",
              "      <td>Approved</td>\n",
              "      <td>Solex</td>\n",
              "      <td>Standard</td>\n",
              "      <td>medium</td>\n",
              "      <td>medium</td>\n",
              "      <td>71.49</td>\n",
              "      <td>53.62</td>\n",
              "      <td>38573.0</td>\n",
              "    </tr>\n",
              "  </tbody>\n",
              "</table>\n",
              "</div>"
            ],
            "text/plain": [
              "                product_id  customer_id  ... standard_cost  product_first_sold_date\n",
              "transaction_id                           ...                                       \n",
              "14486                   23            1  ...        612.88                  33455.0\n",
              "18970                   11            1  ...        764.96                  35378.0\n",
              "16423                    9            1  ...        667.40                  37838.0\n",
              "5157                    47            1  ...       1531.42                  37823.0\n",
              "13424                    2            1  ...         53.62                  38573.0\n",
              "\n",
              "[5 rows x 12 columns]"
            ]
          },
          "metadata": {
            "tags": []
          },
          "execution_count": 133
        }
      ]
    },
    {
      "cell_type": "code",
      "metadata": {
        "colab": {
          "base_uri": "https://localhost:8080/"
        },
        "id": "tcxxcUAGmazj",
        "outputId": "caab6217-d0fc-4071-81c9-8b619b116a69"
      },
      "source": [
        "txns_df.isna().sum()"
      ],
      "execution_count": null,
      "outputs": [
        {
          "output_type": "execute_result",
          "data": {
            "text/plain": [
              "product_id                   0\n",
              "customer_id                  0\n",
              "transaction_date             0\n",
              "online_order               360\n",
              "order_status                 0\n",
              "brand                      197\n",
              "product_line               197\n",
              "product_class              197\n",
              "product_size               197\n",
              "list_price                   0\n",
              "standard_cost              197\n",
              "product_first_sold_date    197\n",
              "dtype: int64"
            ]
          },
          "metadata": {
            "tags": []
          },
          "execution_count": 134
        }
      ]
    },
    {
      "cell_type": "code",
      "metadata": {
        "colab": {
          "base_uri": "https://localhost:8080/"
        },
        "id": "UNyVxEPSma1m",
        "outputId": "b6de9b68-4aa6-48f3-99bf-e1697cca734e"
      },
      "source": [
        "txns_df.duplicated().sum()"
      ],
      "execution_count": null,
      "outputs": [
        {
          "output_type": "execute_result",
          "data": {
            "text/plain": [
              "0"
            ]
          },
          "metadata": {
            "tags": []
          },
          "execution_count": 135
        }
      ]
    },
    {
      "cell_type": "code",
      "metadata": {
        "colab": {
          "base_uri": "https://localhost:8080/"
        },
        "id": "YEZaPCfYma36",
        "outputId": "7a3a5ec9-7b36-4a6c-fa06-74fde54452be"
      },
      "source": [
        "txns_df.shape"
      ],
      "execution_count": null,
      "outputs": [
        {
          "output_type": "execute_result",
          "data": {
            "text/plain": [
              "(20000, 12)"
            ]
          },
          "metadata": {
            "tags": []
          },
          "execution_count": 136
        }
      ]
    },
    {
      "cell_type": "code",
      "metadata": {
        "colab": {
          "base_uri": "https://localhost:8080/",
          "height": 323
        },
        "id": "b2M1RY_5ma6C",
        "outputId": "d234e71f-992f-4878-c2e9-d46adb97d8f6"
      },
      "source": [
        "txns_df['product_first_sold_date'] = pd.TimedeltaIndex(txns_df['product_first_sold_date'], unit='d') + dt.datetime(1900,1,1)\n",
        "txns_df.head()"
      ],
      "execution_count": null,
      "outputs": [
        {
          "output_type": "execute_result",
          "data": {
            "text/html": [
              "<div>\n",
              "<style scoped>\n",
              "    .dataframe tbody tr th:only-of-type {\n",
              "        vertical-align: middle;\n",
              "    }\n",
              "\n",
              "    .dataframe tbody tr th {\n",
              "        vertical-align: top;\n",
              "    }\n",
              "\n",
              "    .dataframe thead th {\n",
              "        text-align: right;\n",
              "    }\n",
              "</style>\n",
              "<table border=\"1\" class=\"dataframe\">\n",
              "  <thead>\n",
              "    <tr style=\"text-align: right;\">\n",
              "      <th></th>\n",
              "      <th>product_id</th>\n",
              "      <th>customer_id</th>\n",
              "      <th>transaction_date</th>\n",
              "      <th>online_order</th>\n",
              "      <th>order_status</th>\n",
              "      <th>brand</th>\n",
              "      <th>product_line</th>\n",
              "      <th>product_class</th>\n",
              "      <th>product_size</th>\n",
              "      <th>list_price</th>\n",
              "      <th>standard_cost</th>\n",
              "      <th>product_first_sold_date</th>\n",
              "    </tr>\n",
              "    <tr>\n",
              "      <th>transaction_id</th>\n",
              "      <th></th>\n",
              "      <th></th>\n",
              "      <th></th>\n",
              "      <th></th>\n",
              "      <th></th>\n",
              "      <th></th>\n",
              "      <th></th>\n",
              "      <th></th>\n",
              "      <th></th>\n",
              "      <th></th>\n",
              "      <th></th>\n",
              "      <th></th>\n",
              "    </tr>\n",
              "  </thead>\n",
              "  <tbody>\n",
              "    <tr>\n",
              "      <th>14486</th>\n",
              "      <td>23</td>\n",
              "      <td>1</td>\n",
              "      <td>2017-03-27</td>\n",
              "      <td>0.0</td>\n",
              "      <td>Approved</td>\n",
              "      <td>Norco Bicycles</td>\n",
              "      <td>Mountain</td>\n",
              "      <td>low</td>\n",
              "      <td>small</td>\n",
              "      <td>688.63</td>\n",
              "      <td>612.88</td>\n",
              "      <td>1991-08-07</td>\n",
              "    </tr>\n",
              "    <tr>\n",
              "      <th>18970</th>\n",
              "      <td>11</td>\n",
              "      <td>1</td>\n",
              "      <td>2017-03-29</td>\n",
              "      <td>1.0</td>\n",
              "      <td>Approved</td>\n",
              "      <td>Giant Bicycles</td>\n",
              "      <td>Standard</td>\n",
              "      <td>high</td>\n",
              "      <td>medium</td>\n",
              "      <td>1274.93</td>\n",
              "      <td>764.96</td>\n",
              "      <td>1996-11-11</td>\n",
              "    </tr>\n",
              "    <tr>\n",
              "      <th>16423</th>\n",
              "      <td>9</td>\n",
              "      <td>1</td>\n",
              "      <td>2017-12-09</td>\n",
              "      <td>1.0</td>\n",
              "      <td>Approved</td>\n",
              "      <td>OHM Cycles</td>\n",
              "      <td>Road</td>\n",
              "      <td>medium</td>\n",
              "      <td>medium</td>\n",
              "      <td>742.54</td>\n",
              "      <td>667.40</td>\n",
              "      <td>2003-08-07</td>\n",
              "    </tr>\n",
              "    <tr>\n",
              "      <th>5157</th>\n",
              "      <td>47</td>\n",
              "      <td>1</td>\n",
              "      <td>2017-05-11</td>\n",
              "      <td>1.0</td>\n",
              "      <td>Approved</td>\n",
              "      <td>Trek Bicycles</td>\n",
              "      <td>Road</td>\n",
              "      <td>low</td>\n",
              "      <td>small</td>\n",
              "      <td>1720.70</td>\n",
              "      <td>1531.42</td>\n",
              "      <td>2003-07-23</td>\n",
              "    </tr>\n",
              "    <tr>\n",
              "      <th>13424</th>\n",
              "      <td>2</td>\n",
              "      <td>1</td>\n",
              "      <td>2017-02-21</td>\n",
              "      <td>0.0</td>\n",
              "      <td>Approved</td>\n",
              "      <td>Solex</td>\n",
              "      <td>Standard</td>\n",
              "      <td>medium</td>\n",
              "      <td>medium</td>\n",
              "      <td>71.49</td>\n",
              "      <td>53.62</td>\n",
              "      <td>2005-08-11</td>\n",
              "    </tr>\n",
              "  </tbody>\n",
              "</table>\n",
              "</div>"
            ],
            "text/plain": [
              "                product_id  customer_id  ... standard_cost  product_first_sold_date\n",
              "transaction_id                           ...                                       \n",
              "14486                   23            1  ...        612.88               1991-08-07\n",
              "18970                   11            1  ...        764.96               1996-11-11\n",
              "16423                    9            1  ...        667.40               2003-08-07\n",
              "5157                    47            1  ...       1531.42               2003-07-23\n",
              "13424                    2            1  ...         53.62               2005-08-11\n",
              "\n",
              "[5 rows x 12 columns]"
            ]
          },
          "metadata": {
            "tags": []
          },
          "execution_count": 137
        }
      ]
    },
    {
      "cell_type": "code",
      "metadata": {
        "colab": {
          "base_uri": "https://localhost:8080/"
        },
        "id": "9YcpvmtNma8c",
        "outputId": "da86b5ae-0489-48b2-9e6e-fc3bec5f1b57"
      },
      "source": [
        "txns_df_clean = txns_df.dropna()\n",
        "txns_df_clean.shape"
      ],
      "execution_count": null,
      "outputs": [
        {
          "output_type": "execute_result",
          "data": {
            "text/plain": [
              "(19445, 12)"
            ]
          },
          "metadata": {
            "tags": []
          },
          "execution_count": 138
        }
      ]
    },
    {
      "cell_type": "code",
      "metadata": {
        "colab": {
          "base_uri": "https://localhost:8080/"
        },
        "id": "782jICdRma_b",
        "outputId": "9ecdf876-ca80-4818-a6e3-8413b534ecfe"
      },
      "source": [
        "txns_df_clean['transaction_date'].describe()"
      ],
      "execution_count": null,
      "outputs": [
        {
          "output_type": "stream",
          "text": [
            "/usr/local/lib/python3.7/dist-packages/ipykernel_launcher.py:1: FutureWarning: Treating datetime data as categorical rather than numeric in `.describe` is deprecated and will be removed in a future version of pandas. Specify `datetime_is_numeric=True` to silence this warning and adopt the future behavior now.\n",
            "  \"\"\"Entry point for launching an IPython kernel.\n"
          ],
          "name": "stderr"
        },
        {
          "output_type": "execute_result",
          "data": {
            "text/plain": [
              "count                   19445\n",
              "unique                    364\n",
              "top       2017-02-14 00:00:00\n",
              "freq                       81\n",
              "first     2017-01-01 00:00:00\n",
              "last      2017-12-30 00:00:00\n",
              "Name: transaction_date, dtype: object"
            ]
          },
          "metadata": {
            "tags": []
          },
          "execution_count": 139
        }
      ]
    },
    {
      "cell_type": "code",
      "metadata": {
        "colab": {
          "base_uri": "https://localhost:8080/",
          "height": 629
        },
        "id": "m_IRrJMqmbCL",
        "outputId": "b535da11-ed22-4a9f-bfc5-89b0399e4380"
      },
      "source": [
        "most_recent_purchase = txns_df_clean['transaction_date'].max()\n",
        "txns_df_clean['last_purchase_days_ago'] = most_recent_purchase - txns_df_clean['transaction_date']\n",
        "txns_df_clean['last_purchase_days_ago'] /= np.timedelta64(1, 'D')\n",
        "txns_df_clean['profit'] = txns_df_clean['list_price'] - txns_df_clean['standard_cost']\n",
        "txns_df_clean.head()"
      ],
      "execution_count": null,
      "outputs": [
        {
          "output_type": "stream",
          "text": [
            "/usr/local/lib/python3.7/dist-packages/ipykernel_launcher.py:2: SettingWithCopyWarning: \n",
            "A value is trying to be set on a copy of a slice from a DataFrame.\n",
            "Try using .loc[row_indexer,col_indexer] = value instead\n",
            "\n",
            "See the caveats in the documentation: https://pandas.pydata.org/pandas-docs/stable/user_guide/indexing.html#returning-a-view-versus-a-copy\n",
            "  \n",
            "/usr/local/lib/python3.7/dist-packages/ipykernel_launcher.py:3: SettingWithCopyWarning: \n",
            "A value is trying to be set on a copy of a slice from a DataFrame.\n",
            "Try using .loc[row_indexer,col_indexer] = value instead\n",
            "\n",
            "See the caveats in the documentation: https://pandas.pydata.org/pandas-docs/stable/user_guide/indexing.html#returning-a-view-versus-a-copy\n",
            "  This is separate from the ipykernel package so we can avoid doing imports until\n",
            "/usr/local/lib/python3.7/dist-packages/ipykernel_launcher.py:4: SettingWithCopyWarning: \n",
            "A value is trying to be set on a copy of a slice from a DataFrame.\n",
            "Try using .loc[row_indexer,col_indexer] = value instead\n",
            "\n",
            "See the caveats in the documentation: https://pandas.pydata.org/pandas-docs/stable/user_guide/indexing.html#returning-a-view-versus-a-copy\n",
            "  after removing the cwd from sys.path.\n"
          ],
          "name": "stderr"
        },
        {
          "output_type": "execute_result",
          "data": {
            "text/html": [
              "<div>\n",
              "<style scoped>\n",
              "    .dataframe tbody tr th:only-of-type {\n",
              "        vertical-align: middle;\n",
              "    }\n",
              "\n",
              "    .dataframe tbody tr th {\n",
              "        vertical-align: top;\n",
              "    }\n",
              "\n",
              "    .dataframe thead th {\n",
              "        text-align: right;\n",
              "    }\n",
              "</style>\n",
              "<table border=\"1\" class=\"dataframe\">\n",
              "  <thead>\n",
              "    <tr style=\"text-align: right;\">\n",
              "      <th></th>\n",
              "      <th>product_id</th>\n",
              "      <th>customer_id</th>\n",
              "      <th>transaction_date</th>\n",
              "      <th>online_order</th>\n",
              "      <th>order_status</th>\n",
              "      <th>brand</th>\n",
              "      <th>product_line</th>\n",
              "      <th>product_class</th>\n",
              "      <th>product_size</th>\n",
              "      <th>list_price</th>\n",
              "      <th>standard_cost</th>\n",
              "      <th>product_first_sold_date</th>\n",
              "      <th>last_purchase_days_ago</th>\n",
              "      <th>profit</th>\n",
              "    </tr>\n",
              "    <tr>\n",
              "      <th>transaction_id</th>\n",
              "      <th></th>\n",
              "      <th></th>\n",
              "      <th></th>\n",
              "      <th></th>\n",
              "      <th></th>\n",
              "      <th></th>\n",
              "      <th></th>\n",
              "      <th></th>\n",
              "      <th></th>\n",
              "      <th></th>\n",
              "      <th></th>\n",
              "      <th></th>\n",
              "      <th></th>\n",
              "      <th></th>\n",
              "    </tr>\n",
              "  </thead>\n",
              "  <tbody>\n",
              "    <tr>\n",
              "      <th>14486</th>\n",
              "      <td>23</td>\n",
              "      <td>1</td>\n",
              "      <td>2017-03-27</td>\n",
              "      <td>0.0</td>\n",
              "      <td>Approved</td>\n",
              "      <td>Norco Bicycles</td>\n",
              "      <td>Mountain</td>\n",
              "      <td>low</td>\n",
              "      <td>small</td>\n",
              "      <td>688.63</td>\n",
              "      <td>612.88</td>\n",
              "      <td>1991-08-07</td>\n",
              "      <td>278.0</td>\n",
              "      <td>75.75</td>\n",
              "    </tr>\n",
              "    <tr>\n",
              "      <th>18970</th>\n",
              "      <td>11</td>\n",
              "      <td>1</td>\n",
              "      <td>2017-03-29</td>\n",
              "      <td>1.0</td>\n",
              "      <td>Approved</td>\n",
              "      <td>Giant Bicycles</td>\n",
              "      <td>Standard</td>\n",
              "      <td>high</td>\n",
              "      <td>medium</td>\n",
              "      <td>1274.93</td>\n",
              "      <td>764.96</td>\n",
              "      <td>1996-11-11</td>\n",
              "      <td>276.0</td>\n",
              "      <td>509.97</td>\n",
              "    </tr>\n",
              "    <tr>\n",
              "      <th>16423</th>\n",
              "      <td>9</td>\n",
              "      <td>1</td>\n",
              "      <td>2017-12-09</td>\n",
              "      <td>1.0</td>\n",
              "      <td>Approved</td>\n",
              "      <td>OHM Cycles</td>\n",
              "      <td>Road</td>\n",
              "      <td>medium</td>\n",
              "      <td>medium</td>\n",
              "      <td>742.54</td>\n",
              "      <td>667.40</td>\n",
              "      <td>2003-08-07</td>\n",
              "      <td>21.0</td>\n",
              "      <td>75.14</td>\n",
              "    </tr>\n",
              "    <tr>\n",
              "      <th>5157</th>\n",
              "      <td>47</td>\n",
              "      <td>1</td>\n",
              "      <td>2017-05-11</td>\n",
              "      <td>1.0</td>\n",
              "      <td>Approved</td>\n",
              "      <td>Trek Bicycles</td>\n",
              "      <td>Road</td>\n",
              "      <td>low</td>\n",
              "      <td>small</td>\n",
              "      <td>1720.70</td>\n",
              "      <td>1531.42</td>\n",
              "      <td>2003-07-23</td>\n",
              "      <td>233.0</td>\n",
              "      <td>189.28</td>\n",
              "    </tr>\n",
              "    <tr>\n",
              "      <th>13424</th>\n",
              "      <td>2</td>\n",
              "      <td>1</td>\n",
              "      <td>2017-02-21</td>\n",
              "      <td>0.0</td>\n",
              "      <td>Approved</td>\n",
              "      <td>Solex</td>\n",
              "      <td>Standard</td>\n",
              "      <td>medium</td>\n",
              "      <td>medium</td>\n",
              "      <td>71.49</td>\n",
              "      <td>53.62</td>\n",
              "      <td>2005-08-11</td>\n",
              "      <td>312.0</td>\n",
              "      <td>17.87</td>\n",
              "    </tr>\n",
              "  </tbody>\n",
              "</table>\n",
              "</div>"
            ],
            "text/plain": [
              "                product_id  customer_id  ... last_purchase_days_ago  profit\n",
              "transaction_id                           ...                               \n",
              "14486                   23            1  ...                  278.0   75.75\n",
              "18970                   11            1  ...                  276.0  509.97\n",
              "16423                    9            1  ...                   21.0   75.14\n",
              "5157                    47            1  ...                  233.0  189.28\n",
              "13424                    2            1  ...                  312.0   17.87\n",
              "\n",
              "[5 rows x 14 columns]"
            ]
          },
          "metadata": {
            "tags": []
          },
          "execution_count": 140
        }
      ]
    },
    {
      "cell_type": "code",
      "metadata": {
        "colab": {
          "base_uri": "https://localhost:8080/"
        },
        "id": "_3t0F5GEmbGx",
        "outputId": "16c46d96-78d4-45bf-d887-5e7a298c6f33"
      },
      "source": [
        "txns_df_clean[txns_df_clean['last_purchase_days_ago'] > 365].shape"
      ],
      "execution_count": null,
      "outputs": [
        {
          "output_type": "execute_result",
          "data": {
            "text/plain": [
              "(0, 14)"
            ]
          },
          "metadata": {
            "tags": []
          },
          "execution_count": 141
        }
      ]
    },
    {
      "cell_type": "markdown",
      "metadata": {
        "id": "iapTnlki-H_g"
      },
      "source": [
        "***RFM Table***"
      ]
    },
    {
      "cell_type": "code",
      "metadata": {
        "id": "sBFTAf0ymbJf"
      },
      "source": [
        "rfmTable = txns_df_clean.groupby('customer_id').agg({\n",
        "    'last_purchase_days_ago': lambda x: x.min(),\n",
        "    'customer_id': lambda x: len(x),\n",
        "    'profit': lambda x: x.sum()\n",
        "})\n",
        "\n",
        "rfmTable.rename(columns={\n",
        "    'last_purchase_days_ago': 'recency', \n",
        "    'customer_id': 'frequency', \n",
        "    'profit': 'monetary_value'\n",
        "    }, inplace=True\n",
        ")"
      ],
      "execution_count": null,
      "outputs": []
    },
    {
      "cell_type": "code",
      "metadata": {
        "colab": {
          "base_uri": "https://localhost:8080/",
          "height": 235
        },
        "id": "itLHlIGYmbLx",
        "outputId": "15170f9e-d543-4a77-d6f7-9793c684501d"
      },
      "source": [
        "rfmTable.head()"
      ],
      "execution_count": null,
      "outputs": [
        {
          "output_type": "execute_result",
          "data": {
            "text/html": [
              "<div>\n",
              "<style scoped>\n",
              "    .dataframe tbody tr th:only-of-type {\n",
              "        vertical-align: middle;\n",
              "    }\n",
              "\n",
              "    .dataframe tbody tr th {\n",
              "        vertical-align: top;\n",
              "    }\n",
              "\n",
              "    .dataframe thead th {\n",
              "        text-align: right;\n",
              "    }\n",
              "</style>\n",
              "<table border=\"1\" class=\"dataframe\">\n",
              "  <thead>\n",
              "    <tr style=\"text-align: right;\">\n",
              "      <th></th>\n",
              "      <th>recency</th>\n",
              "      <th>frequency</th>\n",
              "      <th>monetary_value</th>\n",
              "    </tr>\n",
              "    <tr>\n",
              "      <th>customer_id</th>\n",
              "      <th></th>\n",
              "      <th></th>\n",
              "      <th></th>\n",
              "    </tr>\n",
              "  </thead>\n",
              "  <tbody>\n",
              "    <tr>\n",
              "      <th>1</th>\n",
              "      <td>7.0</td>\n",
              "      <td>11</td>\n",
              "      <td>3018.09</td>\n",
              "    </tr>\n",
              "    <tr>\n",
              "      <th>2</th>\n",
              "      <td>128.0</td>\n",
              "      <td>3</td>\n",
              "      <td>2226.26</td>\n",
              "    </tr>\n",
              "    <tr>\n",
              "      <th>3</th>\n",
              "      <td>102.0</td>\n",
              "      <td>7</td>\n",
              "      <td>3290.21</td>\n",
              "    </tr>\n",
              "    <tr>\n",
              "      <th>4</th>\n",
              "      <td>195.0</td>\n",
              "      <td>2</td>\n",
              "      <td>220.57</td>\n",
              "    </tr>\n",
              "    <tr>\n",
              "      <th>5</th>\n",
              "      <td>16.0</td>\n",
              "      <td>6</td>\n",
              "      <td>2394.94</td>\n",
              "    </tr>\n",
              "  </tbody>\n",
              "</table>\n",
              "</div>"
            ],
            "text/plain": [
              "             recency  frequency  monetary_value\n",
              "customer_id                                    \n",
              "1                7.0         11         3018.09\n",
              "2              128.0          3         2226.26\n",
              "3              102.0          7         3290.21\n",
              "4              195.0          2          220.57\n",
              "5               16.0          6         2394.94"
            ]
          },
          "metadata": {
            "tags": []
          },
          "execution_count": 143
        }
      ]
    },
    {
      "cell_type": "code",
      "metadata": {
        "colab": {
          "base_uri": "https://localhost:8080/"
        },
        "id": "21oBKItxmbN6",
        "outputId": "ebc81355-c488-4f49-e5d2-13e2b9f3b26e"
      },
      "source": [
        "rfmTable.shape"
      ],
      "execution_count": null,
      "outputs": [
        {
          "output_type": "execute_result",
          "data": {
            "text/plain": [
              "(3492, 3)"
            ]
          },
          "metadata": {
            "tags": []
          },
          "execution_count": 144
        }
      ]
    },
    {
      "cell_type": "code",
      "metadata": {
        "colab": {
          "base_uri": "https://localhost:8080/",
          "height": 142
        },
        "id": "uRdh0RA_mbQG",
        "outputId": "9c5b475b-c8cb-49c3-d8be-a0200f8400e8"
      },
      "source": [
        "quartiles = rfmTable.quantile(q=[0.25,0.50,0.75])\n",
        "quartiles"
      ],
      "execution_count": null,
      "outputs": [
        {
          "output_type": "execute_result",
          "data": {
            "text/html": [
              "<div>\n",
              "<style scoped>\n",
              "    .dataframe tbody tr th:only-of-type {\n",
              "        vertical-align: middle;\n",
              "    }\n",
              "\n",
              "    .dataframe tbody tr th {\n",
              "        vertical-align: top;\n",
              "    }\n",
              "\n",
              "    .dataframe thead th {\n",
              "        text-align: right;\n",
              "    }\n",
              "</style>\n",
              "<table border=\"1\" class=\"dataframe\">\n",
              "  <thead>\n",
              "    <tr style=\"text-align: right;\">\n",
              "      <th></th>\n",
              "      <th>recency</th>\n",
              "      <th>frequency</th>\n",
              "      <th>monetary_value</th>\n",
              "    </tr>\n",
              "  </thead>\n",
              "  <tbody>\n",
              "    <tr>\n",
              "      <th>0.25</th>\n",
              "      <td>18.0</td>\n",
              "      <td>4.0</td>\n",
              "      <td>1797.43</td>\n",
              "    </tr>\n",
              "    <tr>\n",
              "      <th>0.50</th>\n",
              "      <td>45.0</td>\n",
              "      <td>5.0</td>\n",
              "      <td>2798.99</td>\n",
              "    </tr>\n",
              "    <tr>\n",
              "      <th>0.75</th>\n",
              "      <td>88.0</td>\n",
              "      <td>7.0</td>\n",
              "      <td>4122.44</td>\n",
              "    </tr>\n",
              "  </tbody>\n",
              "</table>\n",
              "</div>"
            ],
            "text/plain": [
              "      recency  frequency  monetary_value\n",
              "0.25     18.0        4.0         1797.43\n",
              "0.50     45.0        5.0         2798.99\n",
              "0.75     88.0        7.0         4122.44"
            ]
          },
          "metadata": {
            "tags": []
          },
          "execution_count": 145
        }
      ]
    },
    {
      "cell_type": "markdown",
      "metadata": {
        "id": "zU7svE2b-Otx"
      },
      "source": [
        "***RontHotEncoder for finding Score***"
      ]
    },
    {
      "cell_type": "code",
      "metadata": {
        "id": "UzD2EQbFmbSO"
      },
      "source": [
        "def ROneHotEncoder(x, p, d):\n",
        "    if x <= d[p][0.25]:\n",
        "        return 1\n",
        "    elif x <= d[p][0.5]:\n",
        "        return 2\n",
        "    elif x <= d[p][0.75]: \n",
        "        return 3\n",
        "    else: \n",
        "        return 4\n",
        "    \n",
        "def FMOneHotEncoder(x, p, d):\n",
        "    if x <= d[p][0.25]:\n",
        "        return 4\n",
        "    elif x <= d[p][0.5]:\n",
        "        return 2\n",
        "    elif x <= d[p][0.75]: \n",
        "        return 3\n",
        "    else: \n",
        "        return 1"
      ],
      "execution_count": null,
      "outputs": []
    },
    {
      "cell_type": "code",
      "metadata": {
        "colab": {
          "base_uri": "https://localhost:8080/",
          "height": 235
        },
        "id": "mICCPKGzmbVB",
        "outputId": "d00da5c8-a69b-4677-be75-0d747728fbe6"
      },
      "source": [
        "rfmSeg = rfmTable\n",
        "rfmSeg['r_score'] = rfmSeg['recency'].apply(ROneHotEncoder, args=('recency', quartiles))\n",
        "rfmSeg['f_score'] = rfmSeg['frequency'].apply(FMOneHotEncoder, args=('frequency', quartiles))\n",
        "rfmSeg['m_score'] = rfmSeg['monetary_value'].apply(FMOneHotEncoder, args=('monetary_value', quartiles))\n",
        "rfmSeg.head()"
      ],
      "execution_count": null,
      "outputs": [
        {
          "output_type": "execute_result",
          "data": {
            "text/html": [
              "<div>\n",
              "<style scoped>\n",
              "    .dataframe tbody tr th:only-of-type {\n",
              "        vertical-align: middle;\n",
              "    }\n",
              "\n",
              "    .dataframe tbody tr th {\n",
              "        vertical-align: top;\n",
              "    }\n",
              "\n",
              "    .dataframe thead th {\n",
              "        text-align: right;\n",
              "    }\n",
              "</style>\n",
              "<table border=\"1\" class=\"dataframe\">\n",
              "  <thead>\n",
              "    <tr style=\"text-align: right;\">\n",
              "      <th></th>\n",
              "      <th>recency</th>\n",
              "      <th>frequency</th>\n",
              "      <th>monetary_value</th>\n",
              "      <th>r_score</th>\n",
              "      <th>f_score</th>\n",
              "      <th>m_score</th>\n",
              "    </tr>\n",
              "    <tr>\n",
              "      <th>customer_id</th>\n",
              "      <th></th>\n",
              "      <th></th>\n",
              "      <th></th>\n",
              "      <th></th>\n",
              "      <th></th>\n",
              "      <th></th>\n",
              "    </tr>\n",
              "  </thead>\n",
              "  <tbody>\n",
              "    <tr>\n",
              "      <th>1</th>\n",
              "      <td>7.0</td>\n",
              "      <td>11</td>\n",
              "      <td>3018.09</td>\n",
              "      <td>1</td>\n",
              "      <td>1</td>\n",
              "      <td>3</td>\n",
              "    </tr>\n",
              "    <tr>\n",
              "      <th>2</th>\n",
              "      <td>128.0</td>\n",
              "      <td>3</td>\n",
              "      <td>2226.26</td>\n",
              "      <td>4</td>\n",
              "      <td>4</td>\n",
              "      <td>2</td>\n",
              "    </tr>\n",
              "    <tr>\n",
              "      <th>3</th>\n",
              "      <td>102.0</td>\n",
              "      <td>7</td>\n",
              "      <td>3290.21</td>\n",
              "      <td>4</td>\n",
              "      <td>3</td>\n",
              "      <td>3</td>\n",
              "    </tr>\n",
              "    <tr>\n",
              "      <th>4</th>\n",
              "      <td>195.0</td>\n",
              "      <td>2</td>\n",
              "      <td>220.57</td>\n",
              "      <td>4</td>\n",
              "      <td>4</td>\n",
              "      <td>4</td>\n",
              "    </tr>\n",
              "    <tr>\n",
              "      <th>5</th>\n",
              "      <td>16.0</td>\n",
              "      <td>6</td>\n",
              "      <td>2394.94</td>\n",
              "      <td>1</td>\n",
              "      <td>3</td>\n",
              "      <td>2</td>\n",
              "    </tr>\n",
              "  </tbody>\n",
              "</table>\n",
              "</div>"
            ],
            "text/plain": [
              "             recency  frequency  monetary_value  r_score  f_score  m_score\n",
              "customer_id                                                               \n",
              "1                7.0         11         3018.09        1        1        3\n",
              "2              128.0          3         2226.26        4        4        2\n",
              "3              102.0          7         3290.21        4        3        3\n",
              "4              195.0          2          220.57        4        4        4\n",
              "5               16.0          6         2394.94        1        3        2"
            ]
          },
          "metadata": {
            "tags": []
          },
          "execution_count": 147
        }
      ]
    },
    {
      "cell_type": "code",
      "metadata": {
        "colab": {
          "base_uri": "https://localhost:8080/",
          "height": 235
        },
        "id": "mM2KiWgpmbXa",
        "outputId": "a934b671-3923-4f56-e600-2b100c576d30"
      },
      "source": [
        "rfmSeg['rfm_class'] = 100 * rfmSeg['r_score'] + 10 * rfmSeg['f_score'] + rfmSeg['m_score']\n",
        "rfmSeg['total_score'] = rfmSeg['r_score'] + rfmSeg['f_score'] + rfmSeg['m_score']\n",
        "rfmSeg.head()"
      ],
      "execution_count": null,
      "outputs": [
        {
          "output_type": "execute_result",
          "data": {
            "text/html": [
              "<div>\n",
              "<style scoped>\n",
              "    .dataframe tbody tr th:only-of-type {\n",
              "        vertical-align: middle;\n",
              "    }\n",
              "\n",
              "    .dataframe tbody tr th {\n",
              "        vertical-align: top;\n",
              "    }\n",
              "\n",
              "    .dataframe thead th {\n",
              "        text-align: right;\n",
              "    }\n",
              "</style>\n",
              "<table border=\"1\" class=\"dataframe\">\n",
              "  <thead>\n",
              "    <tr style=\"text-align: right;\">\n",
              "      <th></th>\n",
              "      <th>recency</th>\n",
              "      <th>frequency</th>\n",
              "      <th>monetary_value</th>\n",
              "      <th>r_score</th>\n",
              "      <th>f_score</th>\n",
              "      <th>m_score</th>\n",
              "      <th>rfm_class</th>\n",
              "      <th>total_score</th>\n",
              "    </tr>\n",
              "    <tr>\n",
              "      <th>customer_id</th>\n",
              "      <th></th>\n",
              "      <th></th>\n",
              "      <th></th>\n",
              "      <th></th>\n",
              "      <th></th>\n",
              "      <th></th>\n",
              "      <th></th>\n",
              "      <th></th>\n",
              "    </tr>\n",
              "  </thead>\n",
              "  <tbody>\n",
              "    <tr>\n",
              "      <th>1</th>\n",
              "      <td>7.0</td>\n",
              "      <td>11</td>\n",
              "      <td>3018.09</td>\n",
              "      <td>1</td>\n",
              "      <td>1</td>\n",
              "      <td>3</td>\n",
              "      <td>113</td>\n",
              "      <td>5</td>\n",
              "    </tr>\n",
              "    <tr>\n",
              "      <th>2</th>\n",
              "      <td>128.0</td>\n",
              "      <td>3</td>\n",
              "      <td>2226.26</td>\n",
              "      <td>4</td>\n",
              "      <td>4</td>\n",
              "      <td>2</td>\n",
              "      <td>442</td>\n",
              "      <td>10</td>\n",
              "    </tr>\n",
              "    <tr>\n",
              "      <th>3</th>\n",
              "      <td>102.0</td>\n",
              "      <td>7</td>\n",
              "      <td>3290.21</td>\n",
              "      <td>4</td>\n",
              "      <td>3</td>\n",
              "      <td>3</td>\n",
              "      <td>433</td>\n",
              "      <td>10</td>\n",
              "    </tr>\n",
              "    <tr>\n",
              "      <th>4</th>\n",
              "      <td>195.0</td>\n",
              "      <td>2</td>\n",
              "      <td>220.57</td>\n",
              "      <td>4</td>\n",
              "      <td>4</td>\n",
              "      <td>4</td>\n",
              "      <td>444</td>\n",
              "      <td>12</td>\n",
              "    </tr>\n",
              "    <tr>\n",
              "      <th>5</th>\n",
              "      <td>16.0</td>\n",
              "      <td>6</td>\n",
              "      <td>2394.94</td>\n",
              "      <td>1</td>\n",
              "      <td>3</td>\n",
              "      <td>2</td>\n",
              "      <td>132</td>\n",
              "      <td>6</td>\n",
              "    </tr>\n",
              "  </tbody>\n",
              "</table>\n",
              "</div>"
            ],
            "text/plain": [
              "             recency  frequency  ...  rfm_class  total_score\n",
              "customer_id                      ...                        \n",
              "1                7.0         11  ...        113            5\n",
              "2              128.0          3  ...        442           10\n",
              "3              102.0          7  ...        433           10\n",
              "4              195.0          2  ...        444           12\n",
              "5               16.0          6  ...        132            6\n",
              "\n",
              "[5 rows x 8 columns]"
            ]
          },
          "metadata": {
            "tags": []
          },
          "execution_count": 148
        }
      ]
    },
    {
      "cell_type": "code",
      "metadata": {
        "colab": {
          "base_uri": "https://localhost:8080/"
        },
        "id": "0mlTf8d9mbZt",
        "outputId": "7fc853ce-63ac-41d1-ed50-a5f3e5757ac6"
      },
      "source": [
        "rfm_quartiles = (rfmSeg['rfm_class'].min(), rfmSeg['rfm_class'].quantile(q=0.25),\n",
        "                 rfmSeg['rfm_class'].median(), rfmSeg['rfm_class'].quantile(q=0.75), \n",
        "                 rfmSeg['rfm_class'].max())\n",
        "rfm_quartiles"
      ],
      "execution_count": null,
      "outputs": [
        {
          "output_type": "execute_result",
          "data": {
            "text/plain": [
              "(111, 144.0, 244.0, 344.0, 444)"
            ]
          },
          "metadata": {
            "tags": []
          },
          "execution_count": 149
        }
      ]
    },
    {
      "cell_type": "code",
      "metadata": {
        "colab": {
          "base_uri": "https://localhost:8080/",
          "height": 450
        },
        "id": "IUHq4Qzfmbb4",
        "outputId": "5a41a9d3-a4f9-49be-edb3-a3927adde5ee"
      },
      "source": [
        "def RFMClassOneHotEncoder(x, p, d):\n",
        "    if x <= d[0]:\n",
        "        return 'gold'\n",
        "    elif x <= d[1]:\n",
        "        return 'silver'\n",
        "    elif x <= d[2]: \n",
        "        return 'bronze'\n",
        "    else: \n",
        "        return 'basic'\n",
        "\n",
        "rfmSeg['customer_title'] = rfmSeg['rfm_class'].apply(RFMClassOneHotEncoder, args=('rfm_class', rfm_quartiles))\n",
        "rfmSeg"
      ],
      "execution_count": null,
      "outputs": [
        {
          "output_type": "execute_result",
          "data": {
            "text/html": [
              "<div>\n",
              "<style scoped>\n",
              "    .dataframe tbody tr th:only-of-type {\n",
              "        vertical-align: middle;\n",
              "    }\n",
              "\n",
              "    .dataframe tbody tr th {\n",
              "        vertical-align: top;\n",
              "    }\n",
              "\n",
              "    .dataframe thead th {\n",
              "        text-align: right;\n",
              "    }\n",
              "</style>\n",
              "<table border=\"1\" class=\"dataframe\">\n",
              "  <thead>\n",
              "    <tr style=\"text-align: right;\">\n",
              "      <th></th>\n",
              "      <th>recency</th>\n",
              "      <th>frequency</th>\n",
              "      <th>monetary_value</th>\n",
              "      <th>r_score</th>\n",
              "      <th>f_score</th>\n",
              "      <th>m_score</th>\n",
              "      <th>rfm_class</th>\n",
              "      <th>total_score</th>\n",
              "      <th>customer_title</th>\n",
              "    </tr>\n",
              "    <tr>\n",
              "      <th>customer_id</th>\n",
              "      <th></th>\n",
              "      <th></th>\n",
              "      <th></th>\n",
              "      <th></th>\n",
              "      <th></th>\n",
              "      <th></th>\n",
              "      <th></th>\n",
              "      <th></th>\n",
              "      <th></th>\n",
              "    </tr>\n",
              "  </thead>\n",
              "  <tbody>\n",
              "    <tr>\n",
              "      <th>1</th>\n",
              "      <td>7.0</td>\n",
              "      <td>11</td>\n",
              "      <td>3018.090000</td>\n",
              "      <td>1</td>\n",
              "      <td>1</td>\n",
              "      <td>3</td>\n",
              "      <td>113</td>\n",
              "      <td>5</td>\n",
              "      <td>silver</td>\n",
              "    </tr>\n",
              "    <tr>\n",
              "      <th>2</th>\n",
              "      <td>128.0</td>\n",
              "      <td>3</td>\n",
              "      <td>2226.260000</td>\n",
              "      <td>4</td>\n",
              "      <td>4</td>\n",
              "      <td>2</td>\n",
              "      <td>442</td>\n",
              "      <td>10</td>\n",
              "      <td>basic</td>\n",
              "    </tr>\n",
              "    <tr>\n",
              "      <th>3</th>\n",
              "      <td>102.0</td>\n",
              "      <td>7</td>\n",
              "      <td>3290.210000</td>\n",
              "      <td>4</td>\n",
              "      <td>3</td>\n",
              "      <td>3</td>\n",
              "      <td>433</td>\n",
              "      <td>10</td>\n",
              "      <td>basic</td>\n",
              "    </tr>\n",
              "    <tr>\n",
              "      <th>4</th>\n",
              "      <td>195.0</td>\n",
              "      <td>2</td>\n",
              "      <td>220.570000</td>\n",
              "      <td>4</td>\n",
              "      <td>4</td>\n",
              "      <td>4</td>\n",
              "      <td>444</td>\n",
              "      <td>12</td>\n",
              "      <td>basic</td>\n",
              "    </tr>\n",
              "    <tr>\n",
              "      <th>5</th>\n",
              "      <td>16.0</td>\n",
              "      <td>6</td>\n",
              "      <td>2394.940000</td>\n",
              "      <td>1</td>\n",
              "      <td>3</td>\n",
              "      <td>2</td>\n",
              "      <td>132</td>\n",
              "      <td>6</td>\n",
              "      <td>silver</td>\n",
              "    </tr>\n",
              "    <tr>\n",
              "      <th>...</th>\n",
              "      <td>...</td>\n",
              "      <td>...</td>\n",
              "      <td>...</td>\n",
              "      <td>...</td>\n",
              "      <td>...</td>\n",
              "      <td>...</td>\n",
              "      <td>...</td>\n",
              "      <td>...</td>\n",
              "      <td>...</td>\n",
              "    </tr>\n",
              "    <tr>\n",
              "      <th>3497</th>\n",
              "      <td>52.0</td>\n",
              "      <td>3</td>\n",
              "      <td>1648.320000</td>\n",
              "      <td>3</td>\n",
              "      <td>4</td>\n",
              "      <td>4</td>\n",
              "      <td>344</td>\n",
              "      <td>11</td>\n",
              "      <td>basic</td>\n",
              "    </tr>\n",
              "    <tr>\n",
              "      <th>3498</th>\n",
              "      <td>127.0</td>\n",
              "      <td>6</td>\n",
              "      <td>3147.330000</td>\n",
              "      <td>4</td>\n",
              "      <td>3</td>\n",
              "      <td>3</td>\n",
              "      <td>433</td>\n",
              "      <td>10</td>\n",
              "      <td>basic</td>\n",
              "    </tr>\n",
              "    <tr>\n",
              "      <th>3499</th>\n",
              "      <td>51.0</td>\n",
              "      <td>7</td>\n",
              "      <td>4955.250000</td>\n",
              "      <td>3</td>\n",
              "      <td>3</td>\n",
              "      <td>1</td>\n",
              "      <td>331</td>\n",
              "      <td>7</td>\n",
              "      <td>basic</td>\n",
              "    </tr>\n",
              "    <tr>\n",
              "      <th>3500</th>\n",
              "      <td>144.0</td>\n",
              "      <td>6</td>\n",
              "      <td>1785.860000</td>\n",
              "      <td>4</td>\n",
              "      <td>3</td>\n",
              "      <td>4</td>\n",
              "      <td>434</td>\n",
              "      <td>11</td>\n",
              "      <td>basic</td>\n",
              "    </tr>\n",
              "    <tr>\n",
              "      <th>5034</th>\n",
              "      <td>84.0</td>\n",
              "      <td>3</td>\n",
              "      <td>269.484972</td>\n",
              "      <td>3</td>\n",
              "      <td>4</td>\n",
              "      <td>4</td>\n",
              "      <td>344</td>\n",
              "      <td>11</td>\n",
              "      <td>basic</td>\n",
              "    </tr>\n",
              "  </tbody>\n",
              "</table>\n",
              "<p>3492 rows × 9 columns</p>\n",
              "</div>"
            ],
            "text/plain": [
              "             recency  frequency  ...  total_score  customer_title\n",
              "customer_id                      ...                             \n",
              "1                7.0         11  ...            5          silver\n",
              "2              128.0          3  ...           10           basic\n",
              "3              102.0          7  ...           10           basic\n",
              "4              195.0          2  ...           12           basic\n",
              "5               16.0          6  ...            6          silver\n",
              "...              ...        ...  ...          ...             ...\n",
              "3497            52.0          3  ...           11           basic\n",
              "3498           127.0          6  ...           10           basic\n",
              "3499            51.0          7  ...            7           basic\n",
              "3500           144.0          6  ...           11           basic\n",
              "5034            84.0          3  ...           11           basic\n",
              "\n",
              "[3492 rows x 9 columns]"
            ]
          },
          "metadata": {
            "tags": []
          },
          "execution_count": 150
        }
      ]
    },
    {
      "cell_type": "code",
      "metadata": {
        "colab": {
          "base_uri": "https://localhost:8080/"
        },
        "id": "R5u-uYxemben",
        "outputId": "e7338cbe-c383-4bfd-b7eb-a9abfd5cbd54"
      },
      "source": [
        "addr_demo_txns = pd.merge(rfmSeg, demo_addr_df, left_index=True, right_index=True)\n",
        "addr_demo_txns.columns"
      ],
      "execution_count": null,
      "outputs": [
        {
          "output_type": "execute_result",
          "data": {
            "text/plain": [
              "Index(['recency', 'frequency', 'monetary_value', 'r_score', 'f_score',\n",
              "       'm_score', 'rfm_class', 'total_score', 'customer_title', 'gender',\n",
              "       'past_3_years_bike_related_purchases', 'DOB', 'job_industry_category',\n",
              "       'wealth_segment', 'owns_car', 'tenure', 'age', 'age_class', 'address',\n",
              "       'postcode', 'state', 'country', 'property_valuation'],\n",
              "      dtype='object')"
            ]
          },
          "metadata": {
            "tags": []
          },
          "execution_count": 151
        }
      ]
    },
    {
      "cell_type": "code",
      "metadata": {
        "id": "QT8iGQaFmbiL",
        "colab": {
          "base_uri": "https://localhost:8080/"
        },
        "outputId": "102e3f16-a85d-4898-db83-ad9b9140e47e"
      },
      "source": [
        "addr_demo_txns.shape"
      ],
      "execution_count": null,
      "outputs": [
        {
          "output_type": "execute_result",
          "data": {
            "text/plain": [
              "(2850, 23)"
            ]
          },
          "metadata": {
            "tags": []
          },
          "execution_count": 152
        }
      ]
    },
    {
      "cell_type": "markdown",
      "metadata": {
        "id": "uOC-EVeC-ZH5"
      },
      "source": [
        "***Plot Graph***"
      ]
    },
    {
      "cell_type": "code",
      "metadata": {
        "id": "Y-rc1ktumblN",
        "colab": {
          "base_uri": "https://localhost:8080/",
          "height": 293
        },
        "outputId": "5af691fc-90d8-47a8-caf5-18de72629a23"
      },
      "source": [
        "addr_demo_txns.groupby('r_score').agg('recency').count().to_frame().plot(kind='bar')"
      ],
      "execution_count": null,
      "outputs": [
        {
          "output_type": "execute_result",
          "data": {
            "text/plain": [
              "<matplotlib.axes._subplots.AxesSubplot at 0x7f044451fb90>"
            ]
          },
          "metadata": {
            "tags": []
          },
          "execution_count": 153
        },
        {
          "output_type": "display_data",
          "data": {
            "image/png": "[encoded data removed]",
            "text/plain": [
              "<Figure size 432x288 with 1 Axes>"
            ]
          },
          "metadata": {
            "tags": [],
            "needs_background": "light"
          }
        }
      ]
    },
    {
      "cell_type": "code",
      "metadata": {
        "id": "HX9enMc2mbnc",
        "colab": {
          "base_uri": "https://localhost:8080/",
          "height": 815
        },
        "outputId": "acac0344-872b-408d-b91d-813100079a23"
      },
      "source": [
        "addr_demo_txns.groupby('total_score').agg('recency').mean().to_frame().plot(kind='bar')\n",
        "addr_demo_txns.groupby('total_score').agg('frequency').mean().to_frame().plot(kind='bar')\n",
        "addr_demo_txns.groupby('total_score').agg('monetary_value').mean().to_frame().plot(kind='bar')\n",
        "plt.show()"
      ],
      "execution_count": null,
      "outputs": [
        {
          "output_type": "display_data",
          "data": {
            "image/png": "[encoded data removed]",
            "text/plain": [
              "<Figure size 432x288 with 1 Axes>"
            ]
          },
          "metadata": {
            "tags": [],
            "needs_background": "light"
          }
        },
        {
          "output_type": "display_data",
          "data": {
            "image/png": "[encoded data removed]",
            "text/plain": [
              "<Figure size 432x288 with 1 Axes>"
            ]
          },
          "metadata": {
            "tags": [],
            "needs_background": "light"
          }
        },
        {
          "output_type": "display_data",
          "data": {
            "image/png": "[encoded data removed]",
            "text/plain": [
              "<Figure size 432x288 with 1 Axes>"
            ]
          },
          "metadata": {
            "tags": [],
            "needs_background": "light"
          }
        }
      ]
    },
    {
      "cell_type": "code",
      "metadata": {
        "colab": {
          "base_uri": "https://localhost:8080/",
          "height": 320
        },
        "id": "q_-dpwLH1ziZ",
        "outputId": "a1082fff-dc53-4fa4-d288-8a719ed302e7"
      },
      "source": [
        "customer_titles_df = addr_demo_txns.groupby('customer_title').agg({\n",
        "    'rfm_class': lambda x: len(x)\n",
        "})\n",
        "customer_titles_df.rename(columns={'rfm_class': 'count'}, inplace=True)\n",
        "customer_titles_df.sort_values('count').plot(kind='bar')\n",
        "for i, v in enumerate(customer_titles_df.sort_values('count')['count']):\n",
        "    plt.text(i - .15, v + 50, int(v), color='black')\n",
        "axes = plt.gca()\n",
        "axes.set_ylim([0, 1800])\n",
        "plt.title('Customer Title')\n",
        "plt.show()"
      ],
      "execution_count": null,
      "outputs": [
        {
          "output_type": "display_data",
          "data": {
            "image/png": "[encoded data removed]",
            "text/plain": [
              "<Figure size 432x288 with 1 Axes>"
            ]
          },
          "metadata": {
            "tags": [],
            "needs_background": "light"
          }
        }
      ]
    },
    {
      "cell_type": "code",
      "metadata": {
        "colab": {
          "base_uri": "https://localhost:8080/",
          "height": 281
        },
        "id": "V1cFpcSU1z-j",
        "outputId": "3c88edf6-4568-496a-e9f7-3360fb99b79d"
      },
      "source": [
        "plt.scatter(addr_demo_txns['recency'], addr_demo_txns['monetary_value'])\n",
        "plt.title('Recency v/s Avg Profit')\n",
        "plt.show()"
      ],
      "execution_count": null,
      "outputs": [
        {
          "output_type": "display_data",
          "data": {
            "image/png": "[encoded data removed]",
            "text/plain": [
              "<Figure size 432x288 with 1 Axes>"
            ]
          },
          "metadata": {
            "tags": [],
            "needs_background": "light"
          }
        }
      ]
    },
    {
      "cell_type": "code",
      "metadata": {
        "colab": {
          "base_uri": "https://localhost:8080/",
          "height": 281
        },
        "id": "m6NLMOiJ10CI",
        "outputId": "73176d4f-a702-4d49-e9c9-0f7cc1d46167"
      },
      "source": [
        "plt.scatter(addr_demo_txns['recency'], addr_demo_txns['frequency'])\n",
        "plt.title('Recency v/s Frequency')\n",
        "plt.show()"
      ],
      "execution_count": null,
      "outputs": [
        {
          "output_type": "display_data",
          "data": {
            "image/png": "[encoded data removed]",
            "text/plain": [
              "<Figure size 432x288 with 1 Axes>"
            ]
          },
          "metadata": {
            "tags": [],
            "needs_background": "light"
          }
        }
      ]
    },
    {
      "cell_type": "code",
      "metadata": {
        "colab": {
          "base_uri": "https://localhost:8080/",
          "height": 281
        },
        "id": "8TXjtgYm10Fn",
        "outputId": "742055a5-0a61-4692-d735-ecb18e3508b2"
      },
      "source": [
        "plt.scatter(addr_demo_txns['frequency'], addr_demo_txns['monetary_value'])\n",
        "plt.title('Frequency v/s Avg Profit')\n",
        "plt.show()"
      ],
      "execution_count": null,
      "outputs": [
        {
          "output_type": "display_data",
          "data": {
            "image/png": "[encoded data removed]",
            "text/plain": [
              "<Figure size 432x288 with 1 Axes>"
            ]
          },
          "metadata": {
            "tags": [],
            "needs_background": "light"
          }
        }
      ]
    },
    {
      "cell_type": "code",
      "metadata": {
        "colab": {
          "base_uri": "https://localhost:8080/",
          "height": 299
        },
        "id": "Il-c6ctY10Jd",
        "outputId": "825a235e-4ec6-47e0-aa38-ad65596ac6d2"
      },
      "source": [
        "addr_demo_txns.groupby('age_class')['wealth_segment'] \\\n",
        "    .value_counts() \\\n",
        "    .unstack(level=1) \\\n",
        "    .plot.bar(stacked=True)\n",
        "for i, v in enumerate(addr_demo_txns.groupby('age_class') \\\n",
        "                      .agg({'wealth_segment': lambda x: len(x)})['wealth_segment']):\n",
        "    plt.text(i - .25, v + 50, int(v), color='black')\n",
        "axes = plt.gca()\n",
        "axes.set_ylim([0, 1000])\n",
        "plt.title('Wealth Segment with Age Distribution')\n",
        "plt.show()"
      ],
      "execution_count": null,
      "outputs": [
        {
          "output_type": "display_data",
          "data": {
            "image/png": "[encoded data removed]",
            "text/plain": [
              "<Figure size 432x288 with 1 Axes>"
            ]
          },
          "metadata": {
            "tags": [],
            "needs_background": "light"
          }
        }
      ]
    },
    {
      "cell_type": "code",
      "metadata": {
        "colab": {
          "base_uri": "https://localhost:8080/",
          "height": 299
        },
        "id": "kd2xlafc10Mm",
        "outputId": "daedbd3e-f374-4a6d-c385-83da6f9a3646"
      },
      "source": [
        "addr_demo_txns.groupby('age_class')['gender'] \\\n",
        "    .value_counts() \\\n",
        "    .unstack(level=1) \\\n",
        "    .plot.bar(stacked=True)\n",
        "for i, v in enumerate(addr_demo_txns.groupby('age_class') \\\n",
        "                      .agg({'gender': lambda x: len(x)})['gender']):\n",
        "    plt.text(i - .25, v + 50, int(v), color='black')\n",
        "axes = plt.gca()\n",
        "axes.set_ylim([0, 1000])\n",
        "plt.title('Old Gender with Age Distribution')\n",
        "plt.show()"
      ],
      "execution_count": null,
      "outputs": [
        {
          "output_type": "display_data",
          "data": {
            "image/png": "[encoded data removed]",
            "text/plain": [
              "<Figure size 432x288 with 1 Axes>"
            ]
          },
          "metadata": {
            "tags": [],
            "needs_background": "light"
          }
        }
      ]
    },
    {
      "cell_type": "code",
      "metadata": {
        "colab": {
          "base_uri": "https://localhost:8080/",
          "height": 299
        },
        "id": "pegF9bK910QM",
        "outputId": "90f194ab-c2dd-47da-87b8-23ecb875316b"
      },
      "source": [
        "addr_demo_txns.groupby('age_class')['customer_title'] \\\n",
        "    .value_counts() \\\n",
        "    .unstack(level=1) \\\n",
        "    .plot.bar(stacked=True)\n",
        "for i, v in enumerate(addr_demo_txns.groupby('age_class') \\\n",
        "                      .agg({'customer_title': lambda x: len(x)})['customer_title']):\n",
        "    plt.text(i - .25, v + 50, int(v), color='black')\n",
        "axes = plt.gca()\n",
        "axes.set_ylim([0, 1000])\n",
        "plt.title('Customer Title with Age Distribution')\n",
        "plt.show()"
      ],
      "execution_count": null,
      "outputs": [
        {
          "output_type": "display_data",
          "data": {
            "image/png": "[encoded data removed]",
            "text/plain": [
              "<Figure size 432x288 with 1 Axes>"
            ]
          },
          "metadata": {
            "tags": [],
            "needs_background": "light"
          }
        }
      ]
    },
    {
      "cell_type": "code",
      "metadata": {
        "colab": {
          "base_uri": "https://localhost:8080/",
          "height": 377
        },
        "id": "9zFZhf7f10TL",
        "outputId": "952cdc06-bed3-415b-cd64-40c4e5da104a"
      },
      "source": [
        "addr_demo_txns.groupby('wealth_segment')['gender'] \\\n",
        "    .value_counts() \\\n",
        "    .unstack(level=1) \\\n",
        "    .plot.bar(stacked=False)\n",
        "for i, v in enumerate(addr_demo_txns.groupby('wealth_segment') \\\n",
        "                      .agg({'gender': lambda x: len(x)})['gender']):\n",
        "    plt.text(i - .1, v // 2 + 50, int(v), color='black')\n",
        "axes = plt.gca()\n",
        "axes.set_ylim([0, 900])\n",
        "plt.title('Old Gender by Wealth Segment')\n",
        "plt.legend(['Female', 'Male'], loc='upper left')\n",
        "plt.show()"
      ],
      "execution_count": null,
      "outputs": [
        {
          "output_type": "display_data",
          "data": {
            "image/png": "[encoded data removed]",
            "text/plain": [
              "<Figure size 432x288 with 1 Axes>"
            ]
          },
          "metadata": {
            "tags": [],
            "needs_background": "light"
          }
        }
      ]
    },
    {
      "cell_type": "code",
      "metadata": {
        "colab": {
          "base_uri": "https://localhost:8080/",
          "height": 309
        },
        "id": "U59r2OeJ10V2",
        "outputId": "ec30108b-6a57-45b6-8c1f-1ce43d125836"
      },
      "source": [
        "addr_demo_txns.groupby('state')['owns_car'] \\\n",
        "    .value_counts() \\\n",
        "    .unstack(level=1) \\\n",
        "    .plot.bar(stacked=False)\n",
        "for i, v in enumerate(addr_demo_txns.groupby('state') \\\n",
        "                      .agg({'owns_car': lambda x: len(x)})['owns_car']):\n",
        "    plt.text(i - .1, v // 2 + 50, int(v), color='black')\n",
        "axes = plt.gca()\n",
        "axes.set_ylim([0, 900])\n",
        "plt.title('Old Car Ownership by State')\n",
        "plt.legend(['Does Not Own a Car', 'Owns a Car'], loc='upper right')\n",
        "plt.show()"
      ],
      "execution_count": null,
      "outputs": [
        {
          "output_type": "display_data",
          "data": {
            "image/png": "[encoded data removed]",
            "text/plain": [
              "<Figure size 432x288 with 1 Axes>"
            ]
          },
          "metadata": {
            "tags": [],
            "needs_background": "light"
          }
        }
      ]
    },
    {
      "cell_type": "code",
      "metadata": {
        "colab": {
          "base_uri": "https://localhost:8080/",
          "height": 281
        },
        "id": "KAP1MvMd10ZR",
        "outputId": "d8786c24-0fd2-420f-f15d-8147fd245e03"
      },
      "source": [
        "addr_demo_txns.groupby('job_industry_category')['owns_car'] \\\n",
        "    .value_counts() \\\n",
        "    .unstack(level=1) \\\n",
        "    .plot.barh(stacked=False)\n",
        "for i, v in enumerate(addr_demo_txns.groupby('job_industry_category') \\\n",
        "                      .agg({'owns_car': lambda x: len(x)})['owns_car']):\n",
        "    plt.text(v // 2 + 30, i - .1, int(v), color='black')\n",
        "axes = plt.gca()\n",
        "axes.set_xlim([0,425])\n",
        "plt.title('Old Car Ownership by Job Industry')\n",
        "plt.legend(['Does Not Own a Car', 'Owns a Car'], loc='upper right')\n",
        "plt.show()"
      ],
      "execution_count": null,
      "outputs": [
        {
          "output_type": "display_data",
          "data": {
            "image/png": "[encoded data removed]",
            "text/plain": [
              "<Figure size 432x288 with 1 Axes>"
            ]
          },
          "metadata": {
            "tags": [],
            "needs_background": "light"
          }
        }
      ]
    },
    {
      "cell_type": "code",
      "metadata": {
        "colab": {
          "base_uri": "https://localhost:8080/",
          "height": 320
        },
        "id": "1vZ0EDFs10pq",
        "outputId": "ae144e76-74d0-4df5-bee1-31902591c1f5"
      },
      "source": [
        "addr_demo_txns.groupby('customer_title')['state'] \\\n",
        "    .value_counts() \\\n",
        "    .unstack(level=1) \\\n",
        "    .plot.bar(stacked=True)\n",
        "for i, v in enumerate(addr_demo_txns.groupby('customer_title') \\\n",
        "                      .agg({'state': lambda x: len(x)})['state']):\n",
        "    plt.text(i - .15, v + 25, int(v), color='black')\n",
        "axes = plt.gca()\n",
        "axes.set_ylim([0, 1550])\n",
        "plt.title('Customer Titles with State')\n",
        "plt.show()"
      ],
      "execution_count": null,
      "outputs": [
        {
          "output_type": "display_data",
          "data": {
            "image/png": "[encoded data removed]",
            "text/plain": [
              "<Figure size 432x288 with 1 Axes>"
            ]
          },
          "metadata": {
            "tags": [],
            "needs_background": "light"
          }
        }
      ]
    },
    {
      "cell_type": "code",
      "metadata": {
        "colab": {
          "base_uri": "https://localhost:8080/",
          "height": 388
        },
        "id": "z8iJIiDd10sN",
        "outputId": "1b833569-ce18-47df-f66c-4fb475bf623c"
      },
      "source": [
        "addr_demo_txns.groupby('job_industry_category')['m_score'] \\\n",
        "    .value_counts() \\\n",
        "    .unstack(level=1) \\\n",
        "    .plot.bar(stacked=True)\n",
        "for i, v in enumerate(addr_demo_txns.groupby('job_industry_category') \\\n",
        "                      .agg({'m_score': lambda x: len(x)})['m_score']):\n",
        "    plt.text(i - .25, v + 20, int(v), color='black')\n",
        "axes = plt.gca()\n",
        "axes.set_ylim([0, 1000])\n",
        "plt.title('Job Industries with M Score')\n",
        "plt.show()"
      ],
      "execution_count": null,
      "outputs": [
        {
          "output_type": "display_data",
          "data": {
            "image/png": "[encoded data removed]",
            "text/plain": [
              "<Figure size 432x288 with 1 Axes>"
            ]
          },
          "metadata": {
            "tags": [],
            "needs_background": "light"
          }
        }
      ]
    },
    {
      "cell_type": "code",
      "metadata": {
        "colab": {
          "base_uri": "https://localhost:8080/",
          "height": 299
        },
        "id": "sw25TBl310vy",
        "outputId": "6e0cab0f-c758-4805-def6-eb822f29939d"
      },
      "source": [
        "addr_demo_txns.groupby('age_class')['state'] \\\n",
        "    .value_counts() \\\n",
        "    .unstack(level=1) \\\n",
        "    .plot.bar(stacked=True)\n",
        "for i, v in enumerate(addr_demo_txns.groupby('age_class').agg({'age': lambda x: len(x)})['age']):\n",
        "    plt.text(i - .25, v + 20, int(v), color='black')\n",
        "axes = plt.gca()\n",
        "axes.set_ylim([0, 1000])\n",
        "plt.title('Old Age Distribution with State')\n",
        "plt.show()"
      ],
      "execution_count": null,
      "outputs": [
        {
          "output_type": "display_data",
          "data": {
            "image/png": "[encoded data removed]",
            "text/plain": [
              "<Figure size 432x288 with 1 Axes>"
            ]
          },
          "metadata": {
            "tags": [],
            "needs_background": "light"
          }
        }
      ]
    },
    {
      "cell_type": "code",
      "metadata": {
        "colab": {
          "base_uri": "https://localhost:8080/",
          "height": 142
        },
        "id": "Z625qBvu10zb",
        "outputId": "ecee9b47-8604-47e5-bbf2-3bd62b5edfa3"
      },
      "source": [
        "c = addr_demo_txns.groupby(['gender'])['past_3_years_bike_related_purchases'].sum().rename('count').to_frame()\n",
        "c"
      ],
      "execution_count": null,
      "outputs": [
        {
          "output_type": "execute_result",
          "data": {
            "text/html": [
              "<div>\n",
              "<style scoped>\n",
              "    .dataframe tbody tr th:only-of-type {\n",
              "        vertical-align: middle;\n",
              "    }\n",
              "\n",
              "    .dataframe tbody tr th {\n",
              "        vertical-align: top;\n",
              "    }\n",
              "\n",
              "    .dataframe thead th {\n",
              "        text-align: right;\n",
              "    }\n",
              "</style>\n",
              "<table border=\"1\" class=\"dataframe\">\n",
              "  <thead>\n",
              "    <tr style=\"text-align: right;\">\n",
              "      <th></th>\n",
              "      <th>count</th>\n",
              "    </tr>\n",
              "    <tr>\n",
              "      <th>gender</th>\n",
              "      <th></th>\n",
              "    </tr>\n",
              "  </thead>\n",
              "  <tbody>\n",
              "    <tr>\n",
              "      <th>Female</th>\n",
              "      <td>69844</td>\n",
              "    </tr>\n",
              "    <tr>\n",
              "      <th>Male</th>\n",
              "      <td>69516</td>\n",
              "    </tr>\n",
              "  </tbody>\n",
              "</table>\n",
              "</div>"
            ],
            "text/plain": [
              "        count\n",
              "gender       \n",
              "Female  69844\n",
              "Male    69516"
            ]
          },
          "metadata": {
            "tags": []
          },
          "execution_count": 168
        }
      ]
    },
    {
      "cell_type": "code",
      "metadata": {
        "colab": {
          "base_uri": "https://localhost:8080/",
          "height": 281
        },
        "id": "U_T87bnx102o",
        "outputId": "8c4e7d05-4fb8-4ce0-eb70-9b6c6edf4ecc"
      },
      "source": [
        "\n",
        "labels = ['Female', 'Male']\n",
        "plt.bar(labels, c['count'], color=['red','blue'])\n",
        "for i, v in enumerate(c['count']):\n",
        "    plt.text(i - .1, v - 10e3, v, color='white', fontweight='bold')\n",
        "plt.title('Recent Bike Related Txns by Gender')\n",
        "plt.show()"
      ],
      "execution_count": null,
      "outputs": [
        {
          "output_type": "display_data",
          "data": {
            "image/png": "[encoded data removed]",
            "text/plain": [
              "<Figure size 432x288 with 1 Axes>"
            ]
          },
          "metadata": {
            "tags": [],
            "needs_background": "light"
          }
        }
      ]
    },
    {
      "cell_type": "code",
      "metadata": {
        "colab": {
          "base_uri": "https://localhost:8080/",
          "height": 264
        },
        "id": "EUxqxUnq106l",
        "outputId": "a9a0f9e5-868d-4620-fcda-f663a84d469b"
      },
      "source": [
        "addr_demo_txns.job_industry_category.value_counts().plot.pie(autopct=lambda pct: str(round(pct, 2)) + '%')\n",
        "plt.title('Old Job Industries')\n",
        "plt.ylabel('')\n",
        "plt.show()"
      ],
      "execution_count": null,
      "outputs": [
        {
          "output_type": "display_data",
          "data": {
            "image/png": "[encoded data removed]",
            "text/plain": [
              "<Figure size 432x288 with 1 Axes>"
            ]
          },
          "metadata": {
            "tags": []
          }
        }
      ]
    },
    {
      "cell_type": "code",
      "metadata": {
        "colab": {
          "base_uri": "https://localhost:8080/",
          "height": 204
        },
        "id": "vbwqDjaK11AD",
        "outputId": "49f1c0ee-918e-4e06-9e1f-65cfc14b2ac0"
      },
      "source": [
        "c = addr_demo_txns.groupby('customer_title').agg({'age': lambda x: len(x)})\n",
        "c.rename(columns={'age':'count'},inplace=True)\n",
        "c['count'] = c['count'].astype(int)\n",
        "c"
      ],
      "execution_count": null,
      "outputs": [
        {
          "output_type": "execute_result",
          "data": {
            "text/html": [
              "<div>\n",
              "<style scoped>\n",
              "    .dataframe tbody tr th:only-of-type {\n",
              "        vertical-align: middle;\n",
              "    }\n",
              "\n",
              "    .dataframe tbody tr th {\n",
              "        vertical-align: top;\n",
              "    }\n",
              "\n",
              "    .dataframe thead th {\n",
              "        text-align: right;\n",
              "    }\n",
              "</style>\n",
              "<table border=\"1\" class=\"dataframe\">\n",
              "  <thead>\n",
              "    <tr style=\"text-align: right;\">\n",
              "      <th></th>\n",
              "      <th>count</th>\n",
              "    </tr>\n",
              "    <tr>\n",
              "      <th>customer_title</th>\n",
              "      <th></th>\n",
              "    </tr>\n",
              "  </thead>\n",
              "  <tbody>\n",
              "    <tr>\n",
              "      <th>basic</th>\n",
              "      <td>1416</td>\n",
              "    </tr>\n",
              "    <tr>\n",
              "      <th>bronze</th>\n",
              "      <td>699</td>\n",
              "    </tr>\n",
              "    <tr>\n",
              "      <th>gold</th>\n",
              "      <td>134</td>\n",
              "    </tr>\n",
              "    <tr>\n",
              "      <th>silver</th>\n",
              "      <td>601</td>\n",
              "    </tr>\n",
              "  </tbody>\n",
              "</table>\n",
              "</div>"
            ],
            "text/plain": [
              "                count\n",
              "customer_title       \n",
              "basic            1416\n",
              "bronze            699\n",
              "gold              134\n",
              "silver            601"
            ]
          },
          "metadata": {
            "tags": []
          },
          "execution_count": 171
        }
      ]
    },
    {
      "cell_type": "code",
      "metadata": {
        "colab": {
          "base_uri": "https://localhost:8080/",
          "height": 452
        },
        "id": "HyTEm47q11Da",
        "outputId": "846b55ae-2f24-4179-a375-6da90244f8e6"
      },
      "source": [
        "c = addr_demo_txns.groupby(['state','customer_title']).agg({'age': lambda x: len(x)})\n",
        "c.rename(columns={'age':'count'},inplace=True)\n",
        "c['count'] = c['count'].astype(int)\n",
        "c"
      ],
      "execution_count": null,
      "outputs": [
        {
          "output_type": "execute_result",
          "data": {
            "text/html": [
              "<div>\n",
              "<style scoped>\n",
              "    .dataframe tbody tr th:only-of-type {\n",
              "        vertical-align: middle;\n",
              "    }\n",
              "\n",
              "    .dataframe tbody tr th {\n",
              "        vertical-align: top;\n",
              "    }\n",
              "\n",
              "    .dataframe thead th {\n",
              "        text-align: right;\n",
              "    }\n",
              "</style>\n",
              "<table border=\"1\" class=\"dataframe\">\n",
              "  <thead>\n",
              "    <tr style=\"text-align: right;\">\n",
              "      <th></th>\n",
              "      <th></th>\n",
              "      <th>count</th>\n",
              "    </tr>\n",
              "    <tr>\n",
              "      <th>state</th>\n",
              "      <th>customer_title</th>\n",
              "      <th></th>\n",
              "    </tr>\n",
              "  </thead>\n",
              "  <tbody>\n",
              "    <tr>\n",
              "      <th rowspan=\"4\" valign=\"top\">NSW</th>\n",
              "      <th>basic</th>\n",
              "      <td>738</td>\n",
              "    </tr>\n",
              "    <tr>\n",
              "      <th>bronze</th>\n",
              "      <td>389</td>\n",
              "    </tr>\n",
              "    <tr>\n",
              "      <th>gold</th>\n",
              "      <td>70</td>\n",
              "    </tr>\n",
              "    <tr>\n",
              "      <th>silver</th>\n",
              "      <td>323</td>\n",
              "    </tr>\n",
              "    <tr>\n",
              "      <th rowspan=\"4\" valign=\"top\">QLD</th>\n",
              "      <th>basic</th>\n",
              "      <td>305</td>\n",
              "    </tr>\n",
              "    <tr>\n",
              "      <th>bronze</th>\n",
              "      <td>146</td>\n",
              "    </tr>\n",
              "    <tr>\n",
              "      <th>gold</th>\n",
              "      <td>33</td>\n",
              "    </tr>\n",
              "    <tr>\n",
              "      <th>silver</th>\n",
              "      <td>126</td>\n",
              "    </tr>\n",
              "    <tr>\n",
              "      <th rowspan=\"4\" valign=\"top\">VIC</th>\n",
              "      <th>basic</th>\n",
              "      <td>373</td>\n",
              "    </tr>\n",
              "    <tr>\n",
              "      <th>bronze</th>\n",
              "      <td>164</td>\n",
              "    </tr>\n",
              "    <tr>\n",
              "      <th>gold</th>\n",
              "      <td>31</td>\n",
              "    </tr>\n",
              "    <tr>\n",
              "      <th>silver</th>\n",
              "      <td>152</td>\n",
              "    </tr>\n",
              "  </tbody>\n",
              "</table>\n",
              "</div>"
            ],
            "text/plain": [
              "                      count\n",
              "state customer_title       \n",
              "NSW   basic             738\n",
              "      bronze            389\n",
              "      gold               70\n",
              "      silver            323\n",
              "QLD   basic             305\n",
              "      bronze            146\n",
              "      gold               33\n",
              "      silver            126\n",
              "VIC   basic             373\n",
              "      bronze            164\n",
              "      gold               31\n",
              "      silver            152"
            ]
          },
          "metadata": {
            "tags": []
          },
          "execution_count": 172
        }
      ]
    },
    {
      "cell_type": "code",
      "metadata": {
        "colab": {
          "base_uri": "https://localhost:8080/",
          "height": 390
        },
        "id": "LfH0B3pb11Hu",
        "outputId": "c98eb9f1-2b4a-48bb-ba4e-2fd5380147ef"
      },
      "source": [
        "c = addr_demo_txns.groupby(['total_score']).agg({'age': lambda x: x.count()}).cumsum()\n",
        "c.rename(columns={'age':'count'},inplace=True)\n",
        "c['count'] = c['count'].astype(int)\n",
        "c"
      ],
      "execution_count": null,
      "outputs": [
        {
          "output_type": "execute_result",
          "data": {
            "text/html": [
              "<div>\n",
              "<style scoped>\n",
              "    .dataframe tbody tr th:only-of-type {\n",
              "        vertical-align: middle;\n",
              "    }\n",
              "\n",
              "    .dataframe tbody tr th {\n",
              "        vertical-align: top;\n",
              "    }\n",
              "\n",
              "    .dataframe thead th {\n",
              "        text-align: right;\n",
              "    }\n",
              "</style>\n",
              "<table border=\"1\" class=\"dataframe\">\n",
              "  <thead>\n",
              "    <tr style=\"text-align: right;\">\n",
              "      <th></th>\n",
              "      <th>count</th>\n",
              "    </tr>\n",
              "    <tr>\n",
              "      <th>total_score</th>\n",
              "      <th></th>\n",
              "    </tr>\n",
              "  </thead>\n",
              "  <tbody>\n",
              "    <tr>\n",
              "      <th>3</th>\n",
              "      <td>134</td>\n",
              "    </tr>\n",
              "    <tr>\n",
              "      <th>4</th>\n",
              "      <td>296</td>\n",
              "    </tr>\n",
              "    <tr>\n",
              "      <th>5</th>\n",
              "      <td>558</td>\n",
              "    </tr>\n",
              "    <tr>\n",
              "      <th>6</th>\n",
              "      <td>891</td>\n",
              "    </tr>\n",
              "    <tr>\n",
              "      <th>7</th>\n",
              "      <td>1300</td>\n",
              "    </tr>\n",
              "    <tr>\n",
              "      <th>8</th>\n",
              "      <td>1712</td>\n",
              "    </tr>\n",
              "    <tr>\n",
              "      <th>9</th>\n",
              "      <td>2110</td>\n",
              "    </tr>\n",
              "    <tr>\n",
              "      <th>10</th>\n",
              "      <td>2417</td>\n",
              "    </tr>\n",
              "    <tr>\n",
              "      <th>11</th>\n",
              "      <td>2595</td>\n",
              "    </tr>\n",
              "    <tr>\n",
              "      <th>12</th>\n",
              "      <td>2850</td>\n",
              "    </tr>\n",
              "  </tbody>\n",
              "</table>\n",
              "</div>"
            ],
            "text/plain": [
              "             count\n",
              "total_score       \n",
              "3              134\n",
              "4              296\n",
              "5              558\n",
              "6              891\n",
              "7             1300\n",
              "8             1712\n",
              "9             2110\n",
              "10            2417\n",
              "11            2595\n",
              "12            2850"
            ]
          },
          "metadata": {
            "tags": []
          },
          "execution_count": 173
        }
      ]
    },
    {
      "cell_type": "code",
      "metadata": {
        "colab": {
          "base_uri": "https://localhost:8080/",
          "height": 394
        },
        "id": "63f19bTA11MF",
        "outputId": "f6ddd5c9-8957-449b-dbda-2d9b529fad31"
      },
      "source": [
        "new_cust_list = pd.read_excel(file_name, header=1, sheet_name='NewCustomerList')\n",
        "new_cust_list.head()"
      ],
      "execution_count": null,
      "outputs": [
        {
          "output_type": "execute_result",
          "data": {
            "text/html": [
              "<div>\n",
              "<style scoped>\n",
              "    .dataframe tbody tr th:only-of-type {\n",
              "        vertical-align: middle;\n",
              "    }\n",
              "\n",
              "    .dataframe tbody tr th {\n",
              "        vertical-align: top;\n",
              "    }\n",
              "\n",
              "    .dataframe thead th {\n",
              "        text-align: right;\n",
              "    }\n",
              "</style>\n",
              "<table border=\"1\" class=\"dataframe\">\n",
              "  <thead>\n",
              "    <tr style=\"text-align: right;\">\n",
              "      <th></th>\n",
              "      <th>first_name</th>\n",
              "      <th>last_name</th>\n",
              "      <th>gender</th>\n",
              "      <th>past_3_years_bike_related_purchases</th>\n",
              "      <th>DOB</th>\n",
              "      <th>job_title</th>\n",
              "      <th>job_industry_category</th>\n",
              "      <th>wealth_segment</th>\n",
              "      <th>deceased_indicator</th>\n",
              "      <th>owns_car</th>\n",
              "      <th>tenure</th>\n",
              "      <th>address</th>\n",
              "      <th>postcode</th>\n",
              "      <th>state</th>\n",
              "      <th>country</th>\n",
              "      <th>property_valuation</th>\n",
              "      <th>Unnamed: 16</th>\n",
              "      <th>Unnamed: 17</th>\n",
              "      <th>Unnamed: 18</th>\n",
              "      <th>Unnamed: 19</th>\n",
              "      <th>Unnamed: 20</th>\n",
              "      <th>Rank</th>\n",
              "      <th>Value</th>\n",
              "    </tr>\n",
              "  </thead>\n",
              "  <tbody>\n",
              "    <tr>\n",
              "      <th>0</th>\n",
              "      <td>Chickie</td>\n",
              "      <td>Brister</td>\n",
              "      <td>Male</td>\n",
              "      <td>86</td>\n",
              "      <td>1957-07-12</td>\n",
              "      <td>General Manager</td>\n",
              "      <td>Manufacturing</td>\n",
              "      <td>Mass Customer</td>\n",
              "      <td>N</td>\n",
              "      <td>Yes</td>\n",
              "      <td>14</td>\n",
              "      <td>45 Shopko Center</td>\n",
              "      <td>4500</td>\n",
              "      <td>QLD</td>\n",
              "      <td>Australia</td>\n",
              "      <td>6</td>\n",
              "      <td>1.03</td>\n",
              "      <td>1.2875</td>\n",
              "      <td>1.609375</td>\n",
              "      <td>1.367969</td>\n",
              "      <td>1</td>\n",
              "      <td>1</td>\n",
              "      <td>1.718750</td>\n",
              "    </tr>\n",
              "    <tr>\n",
              "      <th>1</th>\n",
              "      <td>Morly</td>\n",
              "      <td>Genery</td>\n",
              "      <td>Male</td>\n",
              "      <td>69</td>\n",
              "      <td>1970-03-22</td>\n",
              "      <td>Structural Engineer</td>\n",
              "      <td>Property</td>\n",
              "      <td>Mass Customer</td>\n",
              "      <td>N</td>\n",
              "      <td>No</td>\n",
              "      <td>16</td>\n",
              "      <td>14 Mccormick Park</td>\n",
              "      <td>2113</td>\n",
              "      <td>NSW</td>\n",
              "      <td>Australia</td>\n",
              "      <td>11</td>\n",
              "      <td>0.73</td>\n",
              "      <td>0.7300</td>\n",
              "      <td>0.912500</td>\n",
              "      <td>0.775625</td>\n",
              "      <td>1</td>\n",
              "      <td>1</td>\n",
              "      <td>1.718750</td>\n",
              "    </tr>\n",
              "    <tr>\n",
              "      <th>2</th>\n",
              "      <td>Ardelis</td>\n",
              "      <td>Forrester</td>\n",
              "      <td>Female</td>\n",
              "      <td>10</td>\n",
              "      <td>1974-08-28</td>\n",
              "      <td>Senior Cost Accountant</td>\n",
              "      <td>Financial Services</td>\n",
              "      <td>Affluent Customer</td>\n",
              "      <td>N</td>\n",
              "      <td>No</td>\n",
              "      <td>10</td>\n",
              "      <td>5 Colorado Crossing</td>\n",
              "      <td>3505</td>\n",
              "      <td>VIC</td>\n",
              "      <td>Australia</td>\n",
              "      <td>5</td>\n",
              "      <td>0.46</td>\n",
              "      <td>0.4600</td>\n",
              "      <td>0.460000</td>\n",
              "      <td>0.460000</td>\n",
              "      <td>1</td>\n",
              "      <td>1</td>\n",
              "      <td>1.718750</td>\n",
              "    </tr>\n",
              "    <tr>\n",
              "      <th>3</th>\n",
              "      <td>Lucine</td>\n",
              "      <td>Stutt</td>\n",
              "      <td>Female</td>\n",
              "      <td>64</td>\n",
              "      <td>1979-01-28</td>\n",
              "      <td>Account Representative III</td>\n",
              "      <td>Manufacturing</td>\n",
              "      <td>Affluent Customer</td>\n",
              "      <td>N</td>\n",
              "      <td>Yes</td>\n",
              "      <td>5</td>\n",
              "      <td>207 Annamark Plaza</td>\n",
              "      <td>4814</td>\n",
              "      <td>QLD</td>\n",
              "      <td>Australia</td>\n",
              "      <td>1</td>\n",
              "      <td>0.76</td>\n",
              "      <td>0.9500</td>\n",
              "      <td>0.950000</td>\n",
              "      <td>0.950000</td>\n",
              "      <td>4</td>\n",
              "      <td>4</td>\n",
              "      <td>1.703125</td>\n",
              "    </tr>\n",
              "    <tr>\n",
              "      <th>4</th>\n",
              "      <td>Melinda</td>\n",
              "      <td>Hadlee</td>\n",
              "      <td>Female</td>\n",
              "      <td>34</td>\n",
              "      <td>1965-09-21</td>\n",
              "      <td>Financial Analyst</td>\n",
              "      <td>Financial Services</td>\n",
              "      <td>Affluent Customer</td>\n",
              "      <td>N</td>\n",
              "      <td>No</td>\n",
              "      <td>19</td>\n",
              "      <td>115 Montana Place</td>\n",
              "      <td>2093</td>\n",
              "      <td>NSW</td>\n",
              "      <td>Australia</td>\n",
              "      <td>9</td>\n",
              "      <td>0.68</td>\n",
              "      <td>0.6800</td>\n",
              "      <td>0.850000</td>\n",
              "      <td>0.850000</td>\n",
              "      <td>4</td>\n",
              "      <td>4</td>\n",
              "      <td>1.703125</td>\n",
              "    </tr>\n",
              "  </tbody>\n",
              "</table>\n",
              "</div>"
            ],
            "text/plain": [
              "  first_name  last_name  gender  ...  Unnamed: 20 Rank     Value\n",
              "0    Chickie    Brister    Male  ...            1    1  1.718750\n",
              "1      Morly     Genery    Male  ...            1    1  1.718750\n",
              "2    Ardelis  Forrester  Female  ...            1    1  1.718750\n",
              "3     Lucine      Stutt  Female  ...            4    4  1.703125\n",
              "4    Melinda     Hadlee  Female  ...            4    4  1.703125\n",
              "\n",
              "[5 rows x 23 columns]"
            ]
          },
          "metadata": {
            "tags": []
          },
          "execution_count": 174
        }
      ]
    },
    {
      "cell_type": "code",
      "metadata": {
        "colab": {
          "base_uri": "https://localhost:8080/"
        },
        "id": "IIuNzvMm294n",
        "outputId": "5c20c679-e18e-46fc-b4ff-31322337cf54"
      },
      "source": [
        "new_cust_list.isna().sum()"
      ],
      "execution_count": null,
      "outputs": [
        {
          "output_type": "execute_result",
          "data": {
            "text/plain": [
              "first_name                               0\n",
              "last_name                               29\n",
              "gender                                   0\n",
              "past_3_years_bike_related_purchases      0\n",
              "DOB                                     17\n",
              "job_title                              106\n",
              "job_industry_category                  165\n",
              "wealth_segment                           0\n",
              "deceased_indicator                       0\n",
              "owns_car                                 0\n",
              "tenure                                   0\n",
              "address                                  0\n",
              "postcode                                 0\n",
              "state                                    0\n",
              "country                                  0\n",
              "property_valuation                       0\n",
              "Unnamed: 16                              0\n",
              "Unnamed: 17                              0\n",
              "Unnamed: 18                              0\n",
              "Unnamed: 19                              0\n",
              "Unnamed: 20                              0\n",
              "Rank                                     0\n",
              "Value                                    0\n",
              "dtype: int64"
            ]
          },
          "metadata": {
            "tags": []
          },
          "execution_count": 175
        }
      ]
    },
    {
      "cell_type": "code",
      "metadata": {
        "colab": {
          "base_uri": "https://localhost:8080/"
        },
        "id": "WhlJAQ4u2-Ky",
        "outputId": "f800d299-ff48-4af8-f54c-3bcb88c03d4c"
      },
      "source": [
        "new_cust_list.duplicated().sum()"
      ],
      "execution_count": null,
      "outputs": [
        {
          "output_type": "execute_result",
          "data": {
            "text/plain": [
              "0"
            ]
          },
          "metadata": {
            "tags": []
          },
          "execution_count": 176
        }
      ]
    },
    {
      "cell_type": "code",
      "metadata": {
        "colab": {
          "base_uri": "https://localhost:8080/"
        },
        "id": "yBnwjP5e2-OA",
        "outputId": "a70f0150-6d39-41f0-9266-57bc3d5816bd"
      },
      "source": [
        "new_cust_list.shape"
      ],
      "execution_count": null,
      "outputs": [
        {
          "output_type": "execute_result",
          "data": {
            "text/plain": [
              "(1000, 23)"
            ]
          },
          "metadata": {
            "tags": []
          },
          "execution_count": 177
        }
      ]
    },
    {
      "cell_type": "code",
      "metadata": {
        "colab": {
          "base_uri": "https://localhost:8080/",
          "height": 745
        },
        "id": "bZUW-6or2-Xs",
        "outputId": "80667714-9e57-48ef-bdd9-20ca72461fc8"
      },
      "source": [
        "new_cust_list_clean = new_cust_list.dropna()\n",
        "new_cust_list_clean"
      ],
      "execution_count": null,
      "outputs": [
        {
          "output_type": "execute_result",
          "data": {
            "text/html": [
              "<div>\n",
              "<style scoped>\n",
              "    .dataframe tbody tr th:only-of-type {\n",
              "        vertical-align: middle;\n",
              "    }\n",
              "\n",
              "    .dataframe tbody tr th {\n",
              "        vertical-align: top;\n",
              "    }\n",
              "\n",
              "    .dataframe thead th {\n",
              "        text-align: right;\n",
              "    }\n",
              "</style>\n",
              "<table border=\"1\" class=\"dataframe\">\n",
              "  <thead>\n",
              "    <tr style=\"text-align: right;\">\n",
              "      <th></th>\n",
              "      <th>first_name</th>\n",
              "      <th>last_name</th>\n",
              "      <th>gender</th>\n",
              "      <th>past_3_years_bike_related_purchases</th>\n",
              "      <th>DOB</th>\n",
              "      <th>job_title</th>\n",
              "      <th>job_industry_category</th>\n",
              "      <th>wealth_segment</th>\n",
              "      <th>deceased_indicator</th>\n",
              "      <th>owns_car</th>\n",
              "      <th>tenure</th>\n",
              "      <th>address</th>\n",
              "      <th>postcode</th>\n",
              "      <th>state</th>\n",
              "      <th>country</th>\n",
              "      <th>property_valuation</th>\n",
              "      <th>Unnamed: 16</th>\n",
              "      <th>Unnamed: 17</th>\n",
              "      <th>Unnamed: 18</th>\n",
              "      <th>Unnamed: 19</th>\n",
              "      <th>Unnamed: 20</th>\n",
              "      <th>Rank</th>\n",
              "      <th>Value</th>\n",
              "    </tr>\n",
              "  </thead>\n",
              "  <tbody>\n",
              "    <tr>\n",
              "      <th>0</th>\n",
              "      <td>Chickie</td>\n",
              "      <td>Brister</td>\n",
              "      <td>Male</td>\n",
              "      <td>86</td>\n",
              "      <td>1957-07-12</td>\n",
              "      <td>General Manager</td>\n",
              "      <td>Manufacturing</td>\n",
              "      <td>Mass Customer</td>\n",
              "      <td>N</td>\n",
              "      <td>Yes</td>\n",
              "      <td>14</td>\n",
              "      <td>45 Shopko Center</td>\n",
              "      <td>4500</td>\n",
              "      <td>QLD</td>\n",
              "      <td>Australia</td>\n",
              "      <td>6</td>\n",
              "      <td>1.03</td>\n",
              "      <td>1.2875</td>\n",
              "      <td>1.609375</td>\n",
              "      <td>1.367969</td>\n",
              "      <td>1</td>\n",
              "      <td>1</td>\n",
              "      <td>1.718750</td>\n",
              "    </tr>\n",
              "    <tr>\n",
              "      <th>1</th>\n",
              "      <td>Morly</td>\n",
              "      <td>Genery</td>\n",
              "      <td>Male</td>\n",
              "      <td>69</td>\n",
              "      <td>1970-03-22</td>\n",
              "      <td>Structural Engineer</td>\n",
              "      <td>Property</td>\n",
              "      <td>Mass Customer</td>\n",
              "      <td>N</td>\n",
              "      <td>No</td>\n",
              "      <td>16</td>\n",
              "      <td>14 Mccormick Park</td>\n",
              "      <td>2113</td>\n",
              "      <td>NSW</td>\n",
              "      <td>Australia</td>\n",
              "      <td>11</td>\n",
              "      <td>0.73</td>\n",
              "      <td>0.7300</td>\n",
              "      <td>0.912500</td>\n",
              "      <td>0.775625</td>\n",
              "      <td>1</td>\n",
              "      <td>1</td>\n",
              "      <td>1.718750</td>\n",
              "    </tr>\n",
              "    <tr>\n",
              "      <th>2</th>\n",
              "      <td>Ardelis</td>\n",
              "      <td>Forrester</td>\n",
              "      <td>Female</td>\n",
              "      <td>10</td>\n",
              "      <td>1974-08-28</td>\n",
              "      <td>Senior Cost Accountant</td>\n",
              "      <td>Financial Services</td>\n",
              "      <td>Affluent Customer</td>\n",
              "      <td>N</td>\n",
              "      <td>No</td>\n",
              "      <td>10</td>\n",
              "      <td>5 Colorado Crossing</td>\n",
              "      <td>3505</td>\n",
              "      <td>VIC</td>\n",
              "      <td>Australia</td>\n",
              "      <td>5</td>\n",
              "      <td>0.46</td>\n",
              "      <td>0.4600</td>\n",
              "      <td>0.460000</td>\n",
              "      <td>0.460000</td>\n",
              "      <td>1</td>\n",
              "      <td>1</td>\n",
              "      <td>1.718750</td>\n",
              "    </tr>\n",
              "    <tr>\n",
              "      <th>3</th>\n",
              "      <td>Lucine</td>\n",
              "      <td>Stutt</td>\n",
              "      <td>Female</td>\n",
              "      <td>64</td>\n",
              "      <td>1979-01-28</td>\n",
              "      <td>Account Representative III</td>\n",
              "      <td>Manufacturing</td>\n",
              "      <td>Affluent Customer</td>\n",
              "      <td>N</td>\n",
              "      <td>Yes</td>\n",
              "      <td>5</td>\n",
              "      <td>207 Annamark Plaza</td>\n",
              "      <td>4814</td>\n",
              "      <td>QLD</td>\n",
              "      <td>Australia</td>\n",
              "      <td>1</td>\n",
              "      <td>0.76</td>\n",
              "      <td>0.9500</td>\n",
              "      <td>0.950000</td>\n",
              "      <td>0.950000</td>\n",
              "      <td>4</td>\n",
              "      <td>4</td>\n",
              "      <td>1.703125</td>\n",
              "    </tr>\n",
              "    <tr>\n",
              "      <th>4</th>\n",
              "      <td>Melinda</td>\n",
              "      <td>Hadlee</td>\n",
              "      <td>Female</td>\n",
              "      <td>34</td>\n",
              "      <td>1965-09-21</td>\n",
              "      <td>Financial Analyst</td>\n",
              "      <td>Financial Services</td>\n",
              "      <td>Affluent Customer</td>\n",
              "      <td>N</td>\n",
              "      <td>No</td>\n",
              "      <td>19</td>\n",
              "      <td>115 Montana Place</td>\n",
              "      <td>2093</td>\n",
              "      <td>NSW</td>\n",
              "      <td>Australia</td>\n",
              "      <td>9</td>\n",
              "      <td>0.68</td>\n",
              "      <td>0.6800</td>\n",
              "      <td>0.850000</td>\n",
              "      <td>0.850000</td>\n",
              "      <td>4</td>\n",
              "      <td>4</td>\n",
              "      <td>1.703125</td>\n",
              "    </tr>\n",
              "    <tr>\n",
              "      <th>...</th>\n",
              "      <td>...</td>\n",
              "      <td>...</td>\n",
              "      <td>...</td>\n",
              "      <td>...</td>\n",
              "      <td>...</td>\n",
              "      <td>...</td>\n",
              "      <td>...</td>\n",
              "      <td>...</td>\n",
              "      <td>...</td>\n",
              "      <td>...</td>\n",
              "      <td>...</td>\n",
              "      <td>...</td>\n",
              "      <td>...</td>\n",
              "      <td>...</td>\n",
              "      <td>...</td>\n",
              "      <td>...</td>\n",
              "      <td>...</td>\n",
              "      <td>...</td>\n",
              "      <td>...</td>\n",
              "      <td>...</td>\n",
              "      <td>...</td>\n",
              "      <td>...</td>\n",
              "      <td>...</td>\n",
              "    </tr>\n",
              "    <tr>\n",
              "      <th>995</th>\n",
              "      <td>Ferdinand</td>\n",
              "      <td>Romanetti</td>\n",
              "      <td>Male</td>\n",
              "      <td>60</td>\n",
              "      <td>1959-10-07</td>\n",
              "      <td>Paralegal</td>\n",
              "      <td>Financial Services</td>\n",
              "      <td>Affluent Customer</td>\n",
              "      <td>N</td>\n",
              "      <td>No</td>\n",
              "      <td>9</td>\n",
              "      <td>2 Sloan Way</td>\n",
              "      <td>2200</td>\n",
              "      <td>NSW</td>\n",
              "      <td>Australia</td>\n",
              "      <td>7</td>\n",
              "      <td>1.03</td>\n",
              "      <td>1.0300</td>\n",
              "      <td>1.030000</td>\n",
              "      <td>1.030000</td>\n",
              "      <td>996</td>\n",
              "      <td>996</td>\n",
              "      <td>0.374000</td>\n",
              "    </tr>\n",
              "    <tr>\n",
              "      <th>996</th>\n",
              "      <td>Burk</td>\n",
              "      <td>Wortley</td>\n",
              "      <td>Male</td>\n",
              "      <td>22</td>\n",
              "      <td>2001-10-17</td>\n",
              "      <td>Senior Sales Associate</td>\n",
              "      <td>Health</td>\n",
              "      <td>Mass Customer</td>\n",
              "      <td>N</td>\n",
              "      <td>No</td>\n",
              "      <td>6</td>\n",
              "      <td>04 Union Crossing</td>\n",
              "      <td>2196</td>\n",
              "      <td>NSW</td>\n",
              "      <td>Australia</td>\n",
              "      <td>10</td>\n",
              "      <td>1.07</td>\n",
              "      <td>1.0700</td>\n",
              "      <td>1.337500</td>\n",
              "      <td>1.136875</td>\n",
              "      <td>997</td>\n",
              "      <td>997</td>\n",
              "      <td>0.357000</td>\n",
              "    </tr>\n",
              "    <tr>\n",
              "      <th>997</th>\n",
              "      <td>Melloney</td>\n",
              "      <td>Temby</td>\n",
              "      <td>Female</td>\n",
              "      <td>17</td>\n",
              "      <td>1954-10-05</td>\n",
              "      <td>Budget/Accounting Analyst IV</td>\n",
              "      <td>Financial Services</td>\n",
              "      <td>Affluent Customer</td>\n",
              "      <td>N</td>\n",
              "      <td>Yes</td>\n",
              "      <td>15</td>\n",
              "      <td>33475 Fair Oaks Junction</td>\n",
              "      <td>4702</td>\n",
              "      <td>QLD</td>\n",
              "      <td>Australia</td>\n",
              "      <td>2</td>\n",
              "      <td>0.94</td>\n",
              "      <td>1.1750</td>\n",
              "      <td>1.175000</td>\n",
              "      <td>1.175000</td>\n",
              "      <td>997</td>\n",
              "      <td>997</td>\n",
              "      <td>0.357000</td>\n",
              "    </tr>\n",
              "    <tr>\n",
              "      <th>998</th>\n",
              "      <td>Dickie</td>\n",
              "      <td>Cubbini</td>\n",
              "      <td>Male</td>\n",
              "      <td>30</td>\n",
              "      <td>1952-12-17</td>\n",
              "      <td>Financial Advisor</td>\n",
              "      <td>Financial Services</td>\n",
              "      <td>Mass Customer</td>\n",
              "      <td>N</td>\n",
              "      <td>Yes</td>\n",
              "      <td>19</td>\n",
              "      <td>57666 Victoria Way</td>\n",
              "      <td>4215</td>\n",
              "      <td>QLD</td>\n",
              "      <td>Australia</td>\n",
              "      <td>2</td>\n",
              "      <td>0.44</td>\n",
              "      <td>0.5500</td>\n",
              "      <td>0.550000</td>\n",
              "      <td>0.467500</td>\n",
              "      <td>997</td>\n",
              "      <td>997</td>\n",
              "      <td>0.357000</td>\n",
              "    </tr>\n",
              "    <tr>\n",
              "      <th>999</th>\n",
              "      <td>Sylas</td>\n",
              "      <td>Duffill</td>\n",
              "      <td>Male</td>\n",
              "      <td>56</td>\n",
              "      <td>1955-10-02</td>\n",
              "      <td>Staff Accountant IV</td>\n",
              "      <td>Property</td>\n",
              "      <td>Mass Customer</td>\n",
              "      <td>N</td>\n",
              "      <td>Yes</td>\n",
              "      <td>14</td>\n",
              "      <td>21875 Grover Drive</td>\n",
              "      <td>2010</td>\n",
              "      <td>NSW</td>\n",
              "      <td>Australia</td>\n",
              "      <td>9</td>\n",
              "      <td>0.71</td>\n",
              "      <td>0.8875</td>\n",
              "      <td>1.109375</td>\n",
              "      <td>0.942969</td>\n",
              "      <td>1000</td>\n",
              "      <td>1000</td>\n",
              "      <td>0.340000</td>\n",
              "    </tr>\n",
              "  </tbody>\n",
              "</table>\n",
              "<p>715 rows × 23 columns</p>\n",
              "</div>"
            ],
            "text/plain": [
              "    first_name  last_name  gender  ...  Unnamed: 20  Rank     Value\n",
              "0      Chickie    Brister    Male  ...            1     1  1.718750\n",
              "1        Morly     Genery    Male  ...            1     1  1.718750\n",
              "2      Ardelis  Forrester  Female  ...            1     1  1.718750\n",
              "3       Lucine      Stutt  Female  ...            4     4  1.703125\n",
              "4      Melinda     Hadlee  Female  ...            4     4  1.703125\n",
              "..         ...        ...     ...  ...          ...   ...       ...\n",
              "995  Ferdinand  Romanetti    Male  ...          996   996  0.374000\n",
              "996       Burk    Wortley    Male  ...          997   997  0.357000\n",
              "997   Melloney      Temby  Female  ...          997   997  0.357000\n",
              "998     Dickie    Cubbini    Male  ...          997   997  0.357000\n",
              "999      Sylas    Duffill    Male  ...         1000  1000  0.340000\n",
              "\n",
              "[715 rows x 23 columns]"
            ]
          },
          "metadata": {
            "tags": []
          },
          "execution_count": 178
        }
      ]
    },
    {
      "cell_type": "code",
      "metadata": {
        "colab": {
          "base_uri": "https://localhost:8080/",
          "height": 598
        },
        "id": "ZLMuKZ_e33Pr",
        "outputId": "848f96ee-fb1e-4dc7-d5ef-297e5eea1097"
      },
      "source": [
        "new_cust_list_clean['age'] = (dt.datetime.now() - new_cust_list_clean['DOB']) / np.timedelta64(1, 'Y')\n",
        "new_cust_list_clean['age_class'] = ((round(new_cust_list_clean['age'] / 10)) * 10).astype(int)\n",
        "new_cust_list_clean.head()"
      ],
      "execution_count": null,
      "outputs": [
        {
          "output_type": "stream",
          "text": [
            "/usr/local/lib/python3.7/dist-packages/ipykernel_launcher.py:1: SettingWithCopyWarning: \n",
            "A value is trying to be set on a copy of a slice from a DataFrame.\n",
            "Try using .loc[row_indexer,col_indexer] = value instead\n",
            "\n",
            "See the caveats in the documentation: https://pandas.pydata.org/pandas-docs/stable/user_guide/indexing.html#returning-a-view-versus-a-copy\n",
            "  \"\"\"Entry point for launching an IPython kernel.\n",
            "/usr/local/lib/python3.7/dist-packages/ipykernel_launcher.py:2: SettingWithCopyWarning: \n",
            "A value is trying to be set on a copy of a slice from a DataFrame.\n",
            "Try using .loc[row_indexer,col_indexer] = value instead\n",
            "\n",
            "See the caveats in the documentation: https://pandas.pydata.org/pandas-docs/stable/user_guide/indexing.html#returning-a-view-versus-a-copy\n",
            "  \n"
          ],
          "name": "stderr"
        },
        {
          "output_type": "execute_result",
          "data": {
            "text/html": [
              "<div>\n",
              "<style scoped>\n",
              "    .dataframe tbody tr th:only-of-type {\n",
              "        vertical-align: middle;\n",
              "    }\n",
              "\n",
              "    .dataframe tbody tr th {\n",
              "        vertical-align: top;\n",
              "    }\n",
              "\n",
              "    .dataframe thead th {\n",
              "        text-align: right;\n",
              "    }\n",
              "</style>\n",
              "<table border=\"1\" class=\"dataframe\">\n",
              "  <thead>\n",
              "    <tr style=\"text-align: right;\">\n",
              "      <th></th>\n",
              "      <th>first_name</th>\n",
              "      <th>last_name</th>\n",
              "      <th>gender</th>\n",
              "      <th>past_3_years_bike_related_purchases</th>\n",
              "      <th>DOB</th>\n",
              "      <th>job_title</th>\n",
              "      <th>job_industry_category</th>\n",
              "      <th>wealth_segment</th>\n",
              "      <th>deceased_indicator</th>\n",
              "      <th>owns_car</th>\n",
              "      <th>tenure</th>\n",
              "      <th>address</th>\n",
              "      <th>postcode</th>\n",
              "      <th>state</th>\n",
              "      <th>country</th>\n",
              "      <th>property_valuation</th>\n",
              "      <th>Unnamed: 16</th>\n",
              "      <th>Unnamed: 17</th>\n",
              "      <th>Unnamed: 18</th>\n",
              "      <th>Unnamed: 19</th>\n",
              "      <th>Unnamed: 20</th>\n",
              "      <th>Rank</th>\n",
              "      <th>Value</th>\n",
              "      <th>age</th>\n",
              "      <th>age_class</th>\n",
              "    </tr>\n",
              "  </thead>\n",
              "  <tbody>\n",
              "    <tr>\n",
              "      <th>0</th>\n",
              "      <td>Chickie</td>\n",
              "      <td>Brister</td>\n",
              "      <td>Male</td>\n",
              "      <td>86</td>\n",
              "      <td>1957-07-12</td>\n",
              "      <td>General Manager</td>\n",
              "      <td>Manufacturing</td>\n",
              "      <td>Mass Customer</td>\n",
              "      <td>N</td>\n",
              "      <td>Yes</td>\n",
              "      <td>14</td>\n",
              "      <td>45 Shopko Center</td>\n",
              "      <td>4500</td>\n",
              "      <td>QLD</td>\n",
              "      <td>Australia</td>\n",
              "      <td>6</td>\n",
              "      <td>1.03</td>\n",
              "      <td>1.2875</td>\n",
              "      <td>1.609375</td>\n",
              "      <td>1.367969</td>\n",
              "      <td>1</td>\n",
              "      <td>1</td>\n",
              "      <td>1.718750</td>\n",
              "      <td>63.825277</td>\n",
              "      <td>60</td>\n",
              "    </tr>\n",
              "    <tr>\n",
              "      <th>1</th>\n",
              "      <td>Morly</td>\n",
              "      <td>Genery</td>\n",
              "      <td>Male</td>\n",
              "      <td>69</td>\n",
              "      <td>1970-03-22</td>\n",
              "      <td>Structural Engineer</td>\n",
              "      <td>Property</td>\n",
              "      <td>Mass Customer</td>\n",
              "      <td>N</td>\n",
              "      <td>No</td>\n",
              "      <td>16</td>\n",
              "      <td>14 Mccormick Park</td>\n",
              "      <td>2113</td>\n",
              "      <td>NSW</td>\n",
              "      <td>Australia</td>\n",
              "      <td>11</td>\n",
              "      <td>0.73</td>\n",
              "      <td>0.7300</td>\n",
              "      <td>0.912500</td>\n",
              "      <td>0.775625</td>\n",
              "      <td>1</td>\n",
              "      <td>1</td>\n",
              "      <td>1.718750</td>\n",
              "      <td>51.132341</td>\n",
              "      <td>50</td>\n",
              "    </tr>\n",
              "    <tr>\n",
              "      <th>2</th>\n",
              "      <td>Ardelis</td>\n",
              "      <td>Forrester</td>\n",
              "      <td>Female</td>\n",
              "      <td>10</td>\n",
              "      <td>1974-08-28</td>\n",
              "      <td>Senior Cost Accountant</td>\n",
              "      <td>Financial Services</td>\n",
              "      <td>Affluent Customer</td>\n",
              "      <td>N</td>\n",
              "      <td>No</td>\n",
              "      <td>10</td>\n",
              "      <td>5 Colorado Crossing</td>\n",
              "      <td>3505</td>\n",
              "      <td>VIC</td>\n",
              "      <td>Australia</td>\n",
              "      <td>5</td>\n",
              "      <td>0.46</td>\n",
              "      <td>0.4600</td>\n",
              "      <td>0.460000</td>\n",
              "      <td>0.460000</td>\n",
              "      <td>1</td>\n",
              "      <td>1</td>\n",
              "      <td>1.718750</td>\n",
              "      <td>46.696931</td>\n",
              "      <td>50</td>\n",
              "    </tr>\n",
              "    <tr>\n",
              "      <th>3</th>\n",
              "      <td>Lucine</td>\n",
              "      <td>Stutt</td>\n",
              "      <td>Female</td>\n",
              "      <td>64</td>\n",
              "      <td>1979-01-28</td>\n",
              "      <td>Account Representative III</td>\n",
              "      <td>Manufacturing</td>\n",
              "      <td>Affluent Customer</td>\n",
              "      <td>N</td>\n",
              "      <td>Yes</td>\n",
              "      <td>5</td>\n",
              "      <td>207 Annamark Plaza</td>\n",
              "      <td>4814</td>\n",
              "      <td>QLD</td>\n",
              "      <td>Australia</td>\n",
              "      <td>1</td>\n",
              "      <td>0.76</td>\n",
              "      <td>0.9500</td>\n",
              "      <td>0.950000</td>\n",
              "      <td>0.950000</td>\n",
              "      <td>4</td>\n",
              "      <td>4</td>\n",
              "      <td>1.703125</td>\n",
              "      <td>42.277949</td>\n",
              "      <td>40</td>\n",
              "    </tr>\n",
              "    <tr>\n",
              "      <th>4</th>\n",
              "      <td>Melinda</td>\n",
              "      <td>Hadlee</td>\n",
              "      <td>Female</td>\n",
              "      <td>34</td>\n",
              "      <td>1965-09-21</td>\n",
              "      <td>Financial Analyst</td>\n",
              "      <td>Financial Services</td>\n",
              "      <td>Affluent Customer</td>\n",
              "      <td>N</td>\n",
              "      <td>No</td>\n",
              "      <td>19</td>\n",
              "      <td>115 Montana Place</td>\n",
              "      <td>2093</td>\n",
              "      <td>NSW</td>\n",
              "      <td>Australia</td>\n",
              "      <td>9</td>\n",
              "      <td>0.68</td>\n",
              "      <td>0.6800</td>\n",
              "      <td>0.850000</td>\n",
              "      <td>0.850000</td>\n",
              "      <td>4</td>\n",
              "      <td>4</td>\n",
              "      <td>1.703125</td>\n",
              "      <td>55.630722</td>\n",
              "      <td>60</td>\n",
              "    </tr>\n",
              "  </tbody>\n",
              "</table>\n",
              "</div>"
            ],
            "text/plain": [
              "  first_name  last_name  gender  ...     Value        age age_class\n",
              "0    Chickie    Brister    Male  ...  1.718750  63.825277        60\n",
              "1      Morly     Genery    Male  ...  1.718750  51.132341        50\n",
              "2    Ardelis  Forrester  Female  ...  1.718750  46.696931        50\n",
              "3     Lucine      Stutt  Female  ...  1.703125  42.277949        40\n",
              "4    Melinda     Hadlee  Female  ...  1.703125  55.630722        60\n",
              "\n",
              "[5 rows x 25 columns]"
            ]
          },
          "metadata": {
            "tags": []
          },
          "execution_count": 179
        }
      ]
    },
    {
      "cell_type": "code",
      "metadata": {
        "colab": {
          "base_uri": "https://localhost:8080/",
          "height": 264
        },
        "id": "WI08tg_233Uu",
        "outputId": "44de791e-03d9-49ad-8673-0bf7ce704e00"
      },
      "source": [
        "new_cust_list_clean.job_industry_category.value_counts().plot.pie(autopct=lambda pct: str(round(pct, 2)) + '%')\n",
        "plt.title('New Job Industries')\n",
        "plt.ylabel('')\n",
        "plt.show()"
      ],
      "execution_count": null,
      "outputs": [
        {
          "output_type": "display_data",
          "data": {
            "image/png": "[encoded data removed]",
            "text/plain": [
              "<Figure size 432x288 with 1 Axes>"
            ]
          },
          "metadata": {
            "tags": []
          }
        }
      ]
    },
    {
      "cell_type": "code",
      "metadata": {
        "colab": {
          "base_uri": "https://localhost:8080/",
          "height": 299
        },
        "id": "Y-XfILi633Zt",
        "outputId": "b3ea99df-5401-4da1-804c-daeb66eedac2"
      },
      "source": [
        "\n",
        "new_cust_list_clean.groupby('age_class')['state'] \\\n",
        "    .value_counts() \\\n",
        "    .unstack(level=1) \\\n",
        "    .plot.bar(stacked=True)\n",
        "for i, v in enumerate(new_cust_list_clean.groupby('age_class').agg({'age': lambda x: len(x)})['age']):\n",
        "    plt.text(i - .2, v + 10, int(v), color='black')\n",
        "axes = plt.gca()\n",
        "axes.set_ylim([0, 200])\n",
        "plt.title('New Age Distribution with State')\n",
        "plt.show()"
      ],
      "execution_count": null,
      "outputs": [
        {
          "output_type": "display_data",
          "data": {
            "image/png": "[encoded data removed]",
            "text/plain": [
              "<Figure size 432x288 with 1 Axes>"
            ]
          },
          "metadata": {
            "tags": [],
            "needs_background": "light"
          }
        }
      ]
    },
    {
      "cell_type": "code",
      "metadata": {
        "colab": {
          "base_uri": "https://localhost:8080/",
          "height": 309
        },
        "id": "PBE54Imq33gF",
        "outputId": "d87f1c69-792d-4d0f-f16f-3536e711c111"
      },
      "source": [
        "new_cust_list_clean.groupby('state')['owns_car'] \\\n",
        "    .value_counts() \\\n",
        "    .unstack(level=1) \\\n",
        "    .plot.bar(stacked=False)\n",
        "for i, v in enumerate(new_cust_list_clean.groupby('state').agg({'owns_car': lambda x: len(x)})['owns_car']):\n",
        "    plt.text(i - .1, v // 2 + 25, int(v), color='black')\n",
        "axes = plt.gca()\n",
        "axes.set_ylim([0, 225])\n",
        "plt.title('New Car Ownership with State')\n",
        "plt.legend(['Does Not Own a Car', 'Owns a Car'])\n",
        "plt.show()"
      ],
      "execution_count": null,
      "outputs": [
        {
          "output_type": "display_data",
          "data": {
            "image/png": "[encoded data removed]",
            "text/plain": [
              "<Figure size 432x288 with 1 Axes>"
            ]
          },
          "metadata": {
            "tags": [],
            "needs_background": "light"
          }
        }
      ]
    },
    {
      "cell_type": "code",
      "metadata": {
        "colab": {
          "base_uri": "https://localhost:8080/",
          "height": 377
        },
        "id": "g5GDi-5X33yM",
        "outputId": "7a438da0-4c16-41b5-ee05-4aca2aab1931"
      },
      "source": [
        "new_cust_list_clean.groupby('wealth_segment')['gender'] \\\n",
        "    .value_counts() \\\n",
        "    .unstack(level=1) \\\n",
        "    .plot.bar(stacked=False)\n",
        "for i, v in enumerate(new_cust_list_clean.groupby('wealth_segment') \\\n",
        "                      .agg({'gender': lambda x: len(x)})['gender']):\n",
        "    plt.text(i - .1, v // 2 + 15, int(v), color='black')\n",
        "axes = plt.gca()\n",
        "axes.set_ylim([0, 225])\n",
        "plt.title('New Gender by Wealth Segment')\n",
        "plt.legend(['Female', 'Male'], loc='upper left')\n",
        "plt.show()"
      ],
      "execution_count": null,
      "outputs": [
        {
          "output_type": "display_data",
          "data": {
            "image/png": "[encoded data removed]",
            "text/plain": [
              "<Figure size 432x288 with 1 Axes>"
            ]
          },
          "metadata": {
            "tags": [],
            "needs_background": "light"
          }
        }
      ]
    },
    {
      "cell_type": "code",
      "metadata": {
        "colab": {
          "base_uri": "https://localhost:8080/",
          "height": 281
        },
        "id": "kDv04ZIW330-",
        "outputId": "dbe7f1d1-8a6c-48dc-d8a9-fb8c03f84295"
      },
      "source": [
        "new_cust_list_clean.groupby('job_industry_category')['owns_car'] \\\n",
        "    .value_counts() \\\n",
        "    .unstack(level=1) \\\n",
        "    .plot.barh(stacked=False)\n",
        "for i, v in enumerate(new_cust_list_clean.groupby('job_industry_category') \\\n",
        "                      .agg({'owns_car': lambda x: len(x)})['owns_car']):\n",
        "    plt.text(v // 2 + 6, i - .1, int(v), color='black')\n",
        "axes = plt.gca()\n",
        "axes.set_xlim([0,105])\n",
        "plt.title('New Car Ownership by Job Industry')\n",
        "plt.legend(['Does Not Own a Car', 'Owns a Car'], loc='upper right')\n",
        "plt.show()"
      ],
      "execution_count": null,
      "outputs": [
        {
          "output_type": "display_data",
          "data": {
            "image/png": "[encoded data removed]",
            "text/plain": [
              "<Figure size 432x288 with 1 Axes>"
            ]
          },
          "metadata": {
            "tags": [],
            "needs_background": "light"
          }
        }
      ]
    },
    {
      "cell_type": "code",
      "metadata": {
        "colab": {
          "base_uri": "https://localhost:8080/",
          "height": 299
        },
        "id": "9cvp_bBh335T",
        "outputId": "4060a470-83d2-45f9-a1cf-b400af081712"
      },
      "source": [
        "new_cust_list_clean.groupby('age_class')['gender'] \\\n",
        "    .value_counts() \\\n",
        "    .unstack(level=1) \\\n",
        "    .plot.bar(stacked=True)\n",
        "for i, v in enumerate(new_cust_list_clean.groupby('age_class') \\\n",
        "                      .agg({'gender': lambda x: len(x)})['gender']):\n",
        "    plt.text(i - .1, v + 10, int(v), color='black')\n",
        "axes = plt.gca()\n",
        "axes.set_ylim([0, 175])\n",
        "plt.title('New Gender with Age Distribution')\n",
        "plt.show()"
      ],
      "execution_count": null,
      "outputs": [
        {
          "output_type": "display_data",
          "data": {
            "image/png": "[encoded data removed]",
            "text/plain": [
              "<Figure size 432x288 with 1 Axes>"
            ]
          },
          "metadata": {
            "tags": [],
            "needs_background": "light"
          }
        }
      ]
    },
    {
      "cell_type": "code",
      "metadata": {
        "colab": {
          "base_uri": "https://localhost:8080/",
          "height": 759
        },
        "id": "GXVwpsNT339a",
        "outputId": "da2a30e0-68f9-4dca-a79c-0f9d0523bf21"
      },
      "source": [
        "addr_demo_txns['customer_segment'] = addr_demo_txns['total_score'].map({\n",
        "    3: 'Platinum',\n",
        "    4: 'Very Loyal',\n",
        "    5: 'Becoming Loyal',\n",
        "    6: 'Recent',\n",
        "    7: 'Average',\n",
        "    8: 'High Risk',\n",
        "    9: 'Evasive',\n",
        "    10: 'Losing',\n",
        "    11: 'Inactive',\n",
        "    12: 'Lost'\n",
        "})\n",
        "addr_demo_txns"
      ],
      "execution_count": null,
      "outputs": [
        {
          "output_type": "execute_result",
          "data": {
            "text/html": [
              "<div>\n",
              "<style scoped>\n",
              "    .dataframe tbody tr th:only-of-type {\n",
              "        vertical-align: middle;\n",
              "    }\n",
              "\n",
              "    .dataframe tbody tr th {\n",
              "        vertical-align: top;\n",
              "    }\n",
              "\n",
              "    .dataframe thead th {\n",
              "        text-align: right;\n",
              "    }\n",
              "</style>\n",
              "<table border=\"1\" class=\"dataframe\">\n",
              "  <thead>\n",
              "    <tr style=\"text-align: right;\">\n",
              "      <th></th>\n",
              "      <th>recency</th>\n",
              "      <th>frequency</th>\n",
              "      <th>monetary_value</th>\n",
              "      <th>r_score</th>\n",
              "      <th>f_score</th>\n",
              "      <th>m_score</th>\n",
              "      <th>rfm_class</th>\n",
              "      <th>total_score</th>\n",
              "      <th>customer_title</th>\n",
              "      <th>gender</th>\n",
              "      <th>past_3_years_bike_related_purchases</th>\n",
              "      <th>DOB</th>\n",
              "      <th>job_industry_category</th>\n",
              "      <th>wealth_segment</th>\n",
              "      <th>owns_car</th>\n",
              "      <th>tenure</th>\n",
              "      <th>age</th>\n",
              "      <th>age_class</th>\n",
              "      <th>address</th>\n",
              "      <th>postcode</th>\n",
              "      <th>state</th>\n",
              "      <th>country</th>\n",
              "      <th>property_valuation</th>\n",
              "      <th>customer_segment</th>\n",
              "    </tr>\n",
              "    <tr>\n",
              "      <th>customer_id</th>\n",
              "      <th></th>\n",
              "      <th></th>\n",
              "      <th></th>\n",
              "      <th></th>\n",
              "      <th></th>\n",
              "      <th></th>\n",
              "      <th></th>\n",
              "      <th></th>\n",
              "      <th></th>\n",
              "      <th></th>\n",
              "      <th></th>\n",
              "      <th></th>\n",
              "      <th></th>\n",
              "      <th></th>\n",
              "      <th></th>\n",
              "      <th></th>\n",
              "      <th></th>\n",
              "      <th></th>\n",
              "      <th></th>\n",
              "      <th></th>\n",
              "      <th></th>\n",
              "      <th></th>\n",
              "      <th></th>\n",
              "      <th></th>\n",
              "    </tr>\n",
              "  </thead>\n",
              "  <tbody>\n",
              "    <tr>\n",
              "      <th>1</th>\n",
              "      <td>7.0</td>\n",
              "      <td>11</td>\n",
              "      <td>3018.09</td>\n",
              "      <td>1</td>\n",
              "      <td>1</td>\n",
              "      <td>3</td>\n",
              "      <td>113</td>\n",
              "      <td>5</td>\n",
              "      <td>silver</td>\n",
              "      <td>Female</td>\n",
              "      <td>93</td>\n",
              "      <td>1953-10-12</td>\n",
              "      <td>Health</td>\n",
              "      <td>Mass Customer</td>\n",
              "      <td>1</td>\n",
              "      <td>11.0</td>\n",
              "      <td>67.573472</td>\n",
              "      <td>70</td>\n",
              "      <td>060 Morning Avenue</td>\n",
              "      <td>2016</td>\n",
              "      <td>NSW</td>\n",
              "      <td>Australia</td>\n",
              "      <td>10</td>\n",
              "      <td>Becoming Loyal</td>\n",
              "    </tr>\n",
              "    <tr>\n",
              "      <th>2</th>\n",
              "      <td>128.0</td>\n",
              "      <td>3</td>\n",
              "      <td>2226.26</td>\n",
              "      <td>4</td>\n",
              "      <td>4</td>\n",
              "      <td>2</td>\n",
              "      <td>442</td>\n",
              "      <td>10</td>\n",
              "      <td>basic</td>\n",
              "      <td>Male</td>\n",
              "      <td>81</td>\n",
              "      <td>1980-12-16</td>\n",
              "      <td>Financial Services</td>\n",
              "      <td>Mass Customer</td>\n",
              "      <td>1</td>\n",
              "      <td>16.0</td>\n",
              "      <td>40.394269</td>\n",
              "      <td>40</td>\n",
              "      <td>6 Meadow Vale Court</td>\n",
              "      <td>2153</td>\n",
              "      <td>NSW</td>\n",
              "      <td>Australia</td>\n",
              "      <td>10</td>\n",
              "      <td>Losing</td>\n",
              "    </tr>\n",
              "    <tr>\n",
              "      <th>4</th>\n",
              "      <td>195.0</td>\n",
              "      <td>2</td>\n",
              "      <td>220.57</td>\n",
              "      <td>4</td>\n",
              "      <td>4</td>\n",
              "      <td>4</td>\n",
              "      <td>444</td>\n",
              "      <td>12</td>\n",
              "      <td>basic</td>\n",
              "      <td>Male</td>\n",
              "      <td>33</td>\n",
              "      <td>1961-10-03</td>\n",
              "      <td>IT</td>\n",
              "      <td>Mass Customer</td>\n",
              "      <td>0</td>\n",
              "      <td>7.0</td>\n",
              "      <td>59.597948</td>\n",
              "      <td>60</td>\n",
              "      <td>0 Holy Cross Court</td>\n",
              "      <td>4211</td>\n",
              "      <td>QLD</td>\n",
              "      <td>Australia</td>\n",
              "      <td>9</td>\n",
              "      <td>Lost</td>\n",
              "    </tr>\n",
              "    <tr>\n",
              "      <th>6</th>\n",
              "      <td>64.0</td>\n",
              "      <td>5</td>\n",
              "      <td>3946.55</td>\n",
              "      <td>3</td>\n",
              "      <td>2</td>\n",
              "      <td>3</td>\n",
              "      <td>323</td>\n",
              "      <td>8</td>\n",
              "      <td>basic</td>\n",
              "      <td>Male</td>\n",
              "      <td>35</td>\n",
              "      <td>1966-09-16</td>\n",
              "      <td>Retail</td>\n",
              "      <td>High Net Worth</td>\n",
              "      <td>1</td>\n",
              "      <td>13.0</td>\n",
              "      <td>54.645075</td>\n",
              "      <td>50</td>\n",
              "      <td>9 Oakridge Court</td>\n",
              "      <td>3216</td>\n",
              "      <td>VIC</td>\n",
              "      <td>Australia</td>\n",
              "      <td>9</td>\n",
              "      <td>High Risk</td>\n",
              "    </tr>\n",
              "    <tr>\n",
              "      <th>7</th>\n",
              "      <td>253.0</td>\n",
              "      <td>3</td>\n",
              "      <td>220.11</td>\n",
              "      <td>4</td>\n",
              "      <td>4</td>\n",
              "      <td>4</td>\n",
              "      <td>444</td>\n",
              "      <td>12</td>\n",
              "      <td>basic</td>\n",
              "      <td>Female</td>\n",
              "      <td>6</td>\n",
              "      <td>1976-02-23</td>\n",
              "      <td>Financial Services</td>\n",
              "      <td>Affluent Customer</td>\n",
              "      <td>1</td>\n",
              "      <td>11.0</td>\n",
              "      <td>45.207509</td>\n",
              "      <td>50</td>\n",
              "      <td>4 Delaware Trail</td>\n",
              "      <td>2210</td>\n",
              "      <td>NSW</td>\n",
              "      <td>Australia</td>\n",
              "      <td>9</td>\n",
              "      <td>Lost</td>\n",
              "    </tr>\n",
              "    <tr>\n",
              "      <th>...</th>\n",
              "      <td>...</td>\n",
              "      <td>...</td>\n",
              "      <td>...</td>\n",
              "      <td>...</td>\n",
              "      <td>...</td>\n",
              "      <td>...</td>\n",
              "      <td>...</td>\n",
              "      <td>...</td>\n",
              "      <td>...</td>\n",
              "      <td>...</td>\n",
              "      <td>...</td>\n",
              "      <td>...</td>\n",
              "      <td>...</td>\n",
              "      <td>...</td>\n",
              "      <td>...</td>\n",
              "      <td>...</td>\n",
              "      <td>...</td>\n",
              "      <td>...</td>\n",
              "      <td>...</td>\n",
              "      <td>...</td>\n",
              "      <td>...</td>\n",
              "      <td>...</td>\n",
              "      <td>...</td>\n",
              "      <td>...</td>\n",
              "    </tr>\n",
              "    <tr>\n",
              "      <th>3496</th>\n",
              "      <td>256.0</td>\n",
              "      <td>4</td>\n",
              "      <td>2045.84</td>\n",
              "      <td>4</td>\n",
              "      <td>4</td>\n",
              "      <td>2</td>\n",
              "      <td>442</td>\n",
              "      <td>10</td>\n",
              "      <td>basic</td>\n",
              "      <td>Male</td>\n",
              "      <td>99</td>\n",
              "      <td>1986-04-25</td>\n",
              "      <td>Manufacturing</td>\n",
              "      <td>Mass Customer</td>\n",
              "      <td>1</td>\n",
              "      <td>19.0</td>\n",
              "      <td>35.038923</td>\n",
              "      <td>40</td>\n",
              "      <td>2565 Caliangt Point</td>\n",
              "      <td>2171</td>\n",
              "      <td>NSW</td>\n",
              "      <td>Australia</td>\n",
              "      <td>9</td>\n",
              "      <td>Losing</td>\n",
              "    </tr>\n",
              "    <tr>\n",
              "      <th>3497</th>\n",
              "      <td>52.0</td>\n",
              "      <td>3</td>\n",
              "      <td>1648.32</td>\n",
              "      <td>3</td>\n",
              "      <td>4</td>\n",
              "      <td>4</td>\n",
              "      <td>344</td>\n",
              "      <td>11</td>\n",
              "      <td>basic</td>\n",
              "      <td>Female</td>\n",
              "      <td>73</td>\n",
              "      <td>1986-05-03</td>\n",
              "      <td>Manufacturing</td>\n",
              "      <td>Affluent Customer</td>\n",
              "      <td>1</td>\n",
              "      <td>18.0</td>\n",
              "      <td>35.017019</td>\n",
              "      <td>40</td>\n",
              "      <td>96 Delladonna Trail</td>\n",
              "      <td>3976</td>\n",
              "      <td>VIC</td>\n",
              "      <td>Australia</td>\n",
              "      <td>5</td>\n",
              "      <td>Inactive</td>\n",
              "    </tr>\n",
              "    <tr>\n",
              "      <th>3498</th>\n",
              "      <td>127.0</td>\n",
              "      <td>6</td>\n",
              "      <td>3147.33</td>\n",
              "      <td>4</td>\n",
              "      <td>3</td>\n",
              "      <td>3</td>\n",
              "      <td>433</td>\n",
              "      <td>10</td>\n",
              "      <td>basic</td>\n",
              "      <td>Female</td>\n",
              "      <td>28</td>\n",
              "      <td>1995-11-02</td>\n",
              "      <td>Manufacturing</td>\n",
              "      <td>Mass Customer</td>\n",
              "      <td>0</td>\n",
              "      <td>5.0</td>\n",
              "      <td>25.516482</td>\n",
              "      <td>30</td>\n",
              "      <td>3 Nova Point</td>\n",
              "      <td>3012</td>\n",
              "      <td>VIC</td>\n",
              "      <td>Australia</td>\n",
              "      <td>4</td>\n",
              "      <td>Losing</td>\n",
              "    </tr>\n",
              "    <tr>\n",
              "      <th>3499</th>\n",
              "      <td>51.0</td>\n",
              "      <td>7</td>\n",
              "      <td>4955.25</td>\n",
              "      <td>3</td>\n",
              "      <td>3</td>\n",
              "      <td>1</td>\n",
              "      <td>331</td>\n",
              "      <td>7</td>\n",
              "      <td>basic</td>\n",
              "      <td>Male</td>\n",
              "      <td>29</td>\n",
              "      <td>1979-06-17</td>\n",
              "      <td>Manufacturing</td>\n",
              "      <td>Mass Customer</td>\n",
              "      <td>1</td>\n",
              "      <td>7.0</td>\n",
              "      <td>41.894642</td>\n",
              "      <td>40</td>\n",
              "      <td>310 Stephen Terrace</td>\n",
              "      <td>4073</td>\n",
              "      <td>QLD</td>\n",
              "      <td>Australia</td>\n",
              "      <td>9</td>\n",
              "      <td>Average</td>\n",
              "    </tr>\n",
              "    <tr>\n",
              "      <th>3500</th>\n",
              "      <td>144.0</td>\n",
              "      <td>6</td>\n",
              "      <td>1785.86</td>\n",
              "      <td>4</td>\n",
              "      <td>3</td>\n",
              "      <td>4</td>\n",
              "      <td>434</td>\n",
              "      <td>11</td>\n",
              "      <td>basic</td>\n",
              "      <td>Female</td>\n",
              "      <td>71</td>\n",
              "      <td>1967-07-21</td>\n",
              "      <td>Entertainment</td>\n",
              "      <td>Affluent Customer</td>\n",
              "      <td>0</td>\n",
              "      <td>17.0</td>\n",
              "      <td>53.801799</td>\n",
              "      <td>50</td>\n",
              "      <td>9491 Green Ridge Terrace</td>\n",
              "      <td>2100</td>\n",
              "      <td>NSW</td>\n",
              "      <td>Australia</td>\n",
              "      <td>10</td>\n",
              "      <td>Inactive</td>\n",
              "    </tr>\n",
              "  </tbody>\n",
              "</table>\n",
              "<p>2850 rows × 24 columns</p>\n",
              "</div>"
            ],
            "text/plain": [
              "             recency  frequency  ...  property_valuation  customer_segment\n",
              "customer_id                      ...                                      \n",
              "1                7.0         11  ...                  10    Becoming Loyal\n",
              "2              128.0          3  ...                  10            Losing\n",
              "4              195.0          2  ...                   9              Lost\n",
              "6               64.0          5  ...                   9         High Risk\n",
              "7              253.0          3  ...                   9              Lost\n",
              "...              ...        ...  ...                 ...               ...\n",
              "3496           256.0          4  ...                   9            Losing\n",
              "3497            52.0          3  ...                   5          Inactive\n",
              "3498           127.0          6  ...                   4            Losing\n",
              "3499            51.0          7  ...                   9           Average\n",
              "3500           144.0          6  ...                  10          Inactive\n",
              "\n",
              "[2850 rows x 24 columns]"
            ]
          },
          "metadata": {
            "tags": []
          },
          "execution_count": 186
        }
      ]
    },
    {
      "cell_type": "code",
      "metadata": {
        "colab": {
          "base_uri": "https://localhost:8080/",
          "height": 793
        },
        "id": "DhGI8rGI11O6",
        "outputId": "4ef4748f-31c4-44fb-eced-91719ff9930a"
      },
      "source": [
        "top_1000 = addr_demo_txns.sort_values('rfm_class').head(1000)\n",
        "top_1000"
      ],
      "execution_count": null,
      "outputs": [
        {
          "output_type": "execute_result",
          "data": {
            "text/html": [
              "<div>\n",
              "<style scoped>\n",
              "    .dataframe tbody tr th:only-of-type {\n",
              "        vertical-align: middle;\n",
              "    }\n",
              "\n",
              "    .dataframe tbody tr th {\n",
              "        vertical-align: top;\n",
              "    }\n",
              "\n",
              "    .dataframe thead th {\n",
              "        text-align: right;\n",
              "    }\n",
              "</style>\n",
              "<table border=\"1\" class=\"dataframe\">\n",
              "  <thead>\n",
              "    <tr style=\"text-align: right;\">\n",
              "      <th></th>\n",
              "      <th>recency</th>\n",
              "      <th>frequency</th>\n",
              "      <th>monetary_value</th>\n",
              "      <th>r_score</th>\n",
              "      <th>f_score</th>\n",
              "      <th>m_score</th>\n",
              "      <th>rfm_class</th>\n",
              "      <th>total_score</th>\n",
              "      <th>customer_title</th>\n",
              "      <th>gender</th>\n",
              "      <th>past_3_years_bike_related_purchases</th>\n",
              "      <th>DOB</th>\n",
              "      <th>job_industry_category</th>\n",
              "      <th>wealth_segment</th>\n",
              "      <th>owns_car</th>\n",
              "      <th>tenure</th>\n",
              "      <th>age</th>\n",
              "      <th>age_class</th>\n",
              "      <th>address</th>\n",
              "      <th>postcode</th>\n",
              "      <th>state</th>\n",
              "      <th>country</th>\n",
              "      <th>property_valuation</th>\n",
              "      <th>customer_segment</th>\n",
              "    </tr>\n",
              "    <tr>\n",
              "      <th>customer_id</th>\n",
              "      <th></th>\n",
              "      <th></th>\n",
              "      <th></th>\n",
              "      <th></th>\n",
              "      <th></th>\n",
              "      <th></th>\n",
              "      <th></th>\n",
              "      <th></th>\n",
              "      <th></th>\n",
              "      <th></th>\n",
              "      <th></th>\n",
              "      <th></th>\n",
              "      <th></th>\n",
              "      <th></th>\n",
              "      <th></th>\n",
              "      <th></th>\n",
              "      <th></th>\n",
              "      <th></th>\n",
              "      <th></th>\n",
              "      <th></th>\n",
              "      <th></th>\n",
              "      <th></th>\n",
              "      <th></th>\n",
              "      <th></th>\n",
              "    </tr>\n",
              "  </thead>\n",
              "  <tbody>\n",
              "    <tr>\n",
              "      <th>973</th>\n",
              "      <td>8.0</td>\n",
              "      <td>8</td>\n",
              "      <td>6639.85</td>\n",
              "      <td>1</td>\n",
              "      <td>1</td>\n",
              "      <td>1</td>\n",
              "      <td>111</td>\n",
              "      <td>3</td>\n",
              "      <td>gold</td>\n",
              "      <td>Female</td>\n",
              "      <td>46</td>\n",
              "      <td>1979-08-02</td>\n",
              "      <td>Health</td>\n",
              "      <td>High Net Worth</td>\n",
              "      <td>0</td>\n",
              "      <td>15.0</td>\n",
              "      <td>41.768698</td>\n",
              "      <td>40</td>\n",
              "      <td>42 Dahle Parkway</td>\n",
              "      <td>3806</td>\n",
              "      <td>VIC</td>\n",
              "      <td>Australia</td>\n",
              "      <td>7</td>\n",
              "      <td>Platinum</td>\n",
              "    </tr>\n",
              "    <tr>\n",
              "      <th>2391</th>\n",
              "      <td>12.0</td>\n",
              "      <td>10</td>\n",
              "      <td>5862.45</td>\n",
              "      <td>1</td>\n",
              "      <td>1</td>\n",
              "      <td>1</td>\n",
              "      <td>111</td>\n",
              "      <td>3</td>\n",
              "      <td>gold</td>\n",
              "      <td>Female</td>\n",
              "      <td>72</td>\n",
              "      <td>1961-04-22</td>\n",
              "      <td>Health</td>\n",
              "      <td>Mass Customer</td>\n",
              "      <td>0</td>\n",
              "      <td>14.0</td>\n",
              "      <td>60.046965</td>\n",
              "      <td>60</td>\n",
              "      <td>9501 Melby Avenue</td>\n",
              "      <td>4178</td>\n",
              "      <td>QLD</td>\n",
              "      <td>Australia</td>\n",
              "      <td>7</td>\n",
              "      <td>Platinum</td>\n",
              "    </tr>\n",
              "    <tr>\n",
              "      <th>1000</th>\n",
              "      <td>0.0</td>\n",
              "      <td>9</td>\n",
              "      <td>5383.48</td>\n",
              "      <td>1</td>\n",
              "      <td>1</td>\n",
              "      <td>1</td>\n",
              "      <td>111</td>\n",
              "      <td>3</td>\n",
              "      <td>gold</td>\n",
              "      <td>Female</td>\n",
              "      <td>44</td>\n",
              "      <td>1978-08-07</td>\n",
              "      <td>Financial Services</td>\n",
              "      <td>Mass Customer</td>\n",
              "      <td>0</td>\n",
              "      <td>11.0</td>\n",
              "      <td>42.754345</td>\n",
              "      <td>40</td>\n",
              "      <td>4757 Texas Trail</td>\n",
              "      <td>3136</td>\n",
              "      <td>VIC</td>\n",
              "      <td>Australia</td>\n",
              "      <td>9</td>\n",
              "      <td>Platinum</td>\n",
              "    </tr>\n",
              "    <tr>\n",
              "      <th>2464</th>\n",
              "      <td>2.0</td>\n",
              "      <td>13</td>\n",
              "      <td>7817.10</td>\n",
              "      <td>1</td>\n",
              "      <td>1</td>\n",
              "      <td>1</td>\n",
              "      <td>111</td>\n",
              "      <td>3</td>\n",
              "      <td>gold</td>\n",
              "      <td>Male</td>\n",
              "      <td>78</td>\n",
              "      <td>1983-04-06</td>\n",
              "      <td>Retail</td>\n",
              "      <td>Mass Customer</td>\n",
              "      <td>0</td>\n",
              "      <td>6.0</td>\n",
              "      <td>38.091689</td>\n",
              "      <td>40</td>\n",
              "      <td>3126 Butterfield Pass</td>\n",
              "      <td>2573</td>\n",
              "      <td>NSW</td>\n",
              "      <td>Australia</td>\n",
              "      <td>8</td>\n",
              "      <td>Platinum</td>\n",
              "    </tr>\n",
              "    <tr>\n",
              "      <th>2476</th>\n",
              "      <td>14.0</td>\n",
              "      <td>14</td>\n",
              "      <td>7493.23</td>\n",
              "      <td>1</td>\n",
              "      <td>1</td>\n",
              "      <td>1</td>\n",
              "      <td>111</td>\n",
              "      <td>3</td>\n",
              "      <td>gold</td>\n",
              "      <td>Male</td>\n",
              "      <td>13</td>\n",
              "      <td>1956-09-25</td>\n",
              "      <td>Property</td>\n",
              "      <td>High Net Worth</td>\n",
              "      <td>0</td>\n",
              "      <td>17.0</td>\n",
              "      <td>64.619270</td>\n",
              "      <td>60</td>\n",
              "      <td>567 Scott Park</td>\n",
              "      <td>4118</td>\n",
              "      <td>QLD</td>\n",
              "      <td>Australia</td>\n",
              "      <td>5</td>\n",
              "      <td>Platinum</td>\n",
              "    </tr>\n",
              "    <tr>\n",
              "      <th>...</th>\n",
              "      <td>...</td>\n",
              "      <td>...</td>\n",
              "      <td>...</td>\n",
              "      <td>...</td>\n",
              "      <td>...</td>\n",
              "      <td>...</td>\n",
              "      <td>...</td>\n",
              "      <td>...</td>\n",
              "      <td>...</td>\n",
              "      <td>...</td>\n",
              "      <td>...</td>\n",
              "      <td>...</td>\n",
              "      <td>...</td>\n",
              "      <td>...</td>\n",
              "      <td>...</td>\n",
              "      <td>...</td>\n",
              "      <td>...</td>\n",
              "      <td>...</td>\n",
              "      <td>...</td>\n",
              "      <td>...</td>\n",
              "      <td>...</td>\n",
              "      <td>...</td>\n",
              "      <td>...</td>\n",
              "      <td>...</td>\n",
              "    </tr>\n",
              "    <tr>\n",
              "      <th>3047</th>\n",
              "      <td>34.0</td>\n",
              "      <td>5</td>\n",
              "      <td>3909.14</td>\n",
              "      <td>2</td>\n",
              "      <td>2</td>\n",
              "      <td>3</td>\n",
              "      <td>223</td>\n",
              "      <td>7</td>\n",
              "      <td>bronze</td>\n",
              "      <td>Male</td>\n",
              "      <td>20</td>\n",
              "      <td>1962-01-14</td>\n",
              "      <td>Retail</td>\n",
              "      <td>Mass Customer</td>\n",
              "      <td>1</td>\n",
              "      <td>19.0</td>\n",
              "      <td>59.315944</td>\n",
              "      <td>60</td>\n",
              "      <td>85 Northland Circle</td>\n",
              "      <td>2077</td>\n",
              "      <td>NSW</td>\n",
              "      <td>Australia</td>\n",
              "      <td>10</td>\n",
              "      <td>Average</td>\n",
              "    </tr>\n",
              "    <tr>\n",
              "      <th>208</th>\n",
              "      <td>27.0</td>\n",
              "      <td>5</td>\n",
              "      <td>3342.02</td>\n",
              "      <td>2</td>\n",
              "      <td>2</td>\n",
              "      <td>3</td>\n",
              "      <td>223</td>\n",
              "      <td>7</td>\n",
              "      <td>bronze</td>\n",
              "      <td>Male</td>\n",
              "      <td>57</td>\n",
              "      <td>1994-10-31</td>\n",
              "      <td>Property</td>\n",
              "      <td>High Net Worth</td>\n",
              "      <td>0</td>\n",
              "      <td>5.0</td>\n",
              "      <td>26.521294</td>\n",
              "      <td>30</td>\n",
              "      <td>056 Stone Corner Alley</td>\n",
              "      <td>4078</td>\n",
              "      <td>QLD</td>\n",
              "      <td>Australia</td>\n",
              "      <td>7</td>\n",
              "      <td>Average</td>\n",
              "    </tr>\n",
              "    <tr>\n",
              "      <th>1697</th>\n",
              "      <td>24.0</td>\n",
              "      <td>5</td>\n",
              "      <td>3042.48</td>\n",
              "      <td>2</td>\n",
              "      <td>2</td>\n",
              "      <td>3</td>\n",
              "      <td>223</td>\n",
              "      <td>7</td>\n",
              "      <td>bronze</td>\n",
              "      <td>Female</td>\n",
              "      <td>44</td>\n",
              "      <td>1969-03-29</td>\n",
              "      <td>Health</td>\n",
              "      <td>Mass Customer</td>\n",
              "      <td>1</td>\n",
              "      <td>12.0</td>\n",
              "      <td>52.112511</td>\n",
              "      <td>50</td>\n",
              "      <td>9037 Norway Maple Junction</td>\n",
              "      <td>2087</td>\n",
              "      <td>NSW</td>\n",
              "      <td>Australia</td>\n",
              "      <td>11</td>\n",
              "      <td>Average</td>\n",
              "    </tr>\n",
              "    <tr>\n",
              "      <th>477</th>\n",
              "      <td>35.0</td>\n",
              "      <td>5</td>\n",
              "      <td>3375.06</td>\n",
              "      <td>2</td>\n",
              "      <td>2</td>\n",
              "      <td>3</td>\n",
              "      <td>223</td>\n",
              "      <td>7</td>\n",
              "      <td>bronze</td>\n",
              "      <td>Female</td>\n",
              "      <td>32</td>\n",
              "      <td>1960-11-26</td>\n",
              "      <td>Financial Services</td>\n",
              "      <td>High Net Worth</td>\n",
              "      <td>1</td>\n",
              "      <td>13.0</td>\n",
              "      <td>60.449438</td>\n",
              "      <td>60</td>\n",
              "      <td>6674 Russell Center</td>\n",
              "      <td>2197</td>\n",
              "      <td>NSW</td>\n",
              "      <td>Australia</td>\n",
              "      <td>9</td>\n",
              "      <td>Average</td>\n",
              "    </tr>\n",
              "    <tr>\n",
              "      <th>3132</th>\n",
              "      <td>23.0</td>\n",
              "      <td>5</td>\n",
              "      <td>3426.54</td>\n",
              "      <td>2</td>\n",
              "      <td>2</td>\n",
              "      <td>3</td>\n",
              "      <td>223</td>\n",
              "      <td>7</td>\n",
              "      <td>bronze</td>\n",
              "      <td>Male</td>\n",
              "      <td>33</td>\n",
              "      <td>1975-04-15</td>\n",
              "      <td>Retail</td>\n",
              "      <td>Mass Customer</td>\n",
              "      <td>1</td>\n",
              "      <td>7.0</td>\n",
              "      <td>46.067212</td>\n",
              "      <td>50</td>\n",
              "      <td>33794 Sommers Crossing</td>\n",
              "      <td>2502</td>\n",
              "      <td>NSW</td>\n",
              "      <td>Australia</td>\n",
              "      <td>6</td>\n",
              "      <td>Average</td>\n",
              "    </tr>\n",
              "  </tbody>\n",
              "</table>\n",
              "<p>1000 rows × 24 columns</p>\n",
              "</div>"
            ],
            "text/plain": [
              "             recency  frequency  ...  property_valuation  customer_segment\n",
              "customer_id                      ...                                      \n",
              "973              8.0          8  ...                   7          Platinum\n",
              "2391            12.0         10  ...                   7          Platinum\n",
              "1000             0.0          9  ...                   9          Platinum\n",
              "2464             2.0         13  ...                   8          Platinum\n",
              "2476            14.0         14  ...                   5          Platinum\n",
              "...              ...        ...  ...                 ...               ...\n",
              "3047            34.0          5  ...                  10           Average\n",
              "208             27.0          5  ...                   7           Average\n",
              "1697            24.0          5  ...                  11           Average\n",
              "477             35.0          5  ...                   9           Average\n",
              "3132            23.0          5  ...                   6           Average\n",
              "\n",
              "[1000 rows x 24 columns]"
            ]
          },
          "metadata": {
            "tags": []
          },
          "execution_count": 187
        }
      ]
    },
    {
      "cell_type": "code",
      "metadata": {
        "colab": {
          "base_uri": "https://localhost:8080/"
        },
        "id": "GG-xHm4t5q1e",
        "outputId": "07740da8-7bff-42d5-8859-61dd24d0feb5"
      },
      "source": [
        "!pip install Xlsxwriter"
      ],
      "execution_count": null,
      "outputs": [
        {
          "output_type": "stream",
          "text": [
            "Collecting Xlsxwriter\n",
            "\u001b[?25l  Downloading https://files.pythonhosted.org/packages/3c/55/21c0d585ff982db07d809ded31528651df77e4ab61ec52683f57609f201f/XlsxWriter-1.4.2-py2.py3-none-any.whl (149kB)\n",
            "\r\u001b[K     |██▏                             | 10kB 17.3MB/s eta 0:00:01\r\u001b[K     |████▍                           | 20kB 22.8MB/s eta 0:00:01\r\u001b[K     |██████▋                         | 30kB 17.8MB/s eta 0:00:01\r\u001b[K     |████████▉                       | 40kB 15.4MB/s eta 0:00:01\r\u001b[K     |███████████                     | 51kB 9.6MB/s eta 0:00:01\r\u001b[K     |█████████████▏                  | 61kB 8.3MB/s eta 0:00:01\r\u001b[K     |███████████████▍                | 71kB 9.3MB/s eta 0:00:01\r\u001b[K     |█████████████████▋              | 81kB 9.9MB/s eta 0:00:01\r\u001b[K     |███████████████████▉            | 92kB 9.5MB/s eta 0:00:01\r\u001b[K     |██████████████████████          | 102kB 8.7MB/s eta 0:00:01\r\u001b[K     |████████████████████████▏       | 112kB 8.7MB/s eta 0:00:01\r\u001b[K     |██████████████████████████▍     | 122kB 8.7MB/s eta 0:00:01\r\u001b[K     |████████████████████████████▋   | 133kB 8.7MB/s eta 0:00:01\r\u001b[K     |██████████████████████████████▉ | 143kB 8.7MB/s eta 0:00:01\r\u001b[K     |████████████████████████████████| 153kB 8.7MB/s \n",
            "\u001b[?25hInstalling collected packages: Xlsxwriter\n",
            "Successfully installed Xlsxwriter-1.4.2\n"
          ],
          "name": "stdout"
        }
      ]
    },
    {
      "cell_type": "code",
      "metadata": {
        "colab": {
          "base_uri": "https://localhost:8080/"
        },
        "id": "tuVmUIsH1zfW",
        "outputId": "b368c4d6-c764-450c-f2e6-1c3bd4cc98e0"
      },
      "source": [
        "writer = pd.ExcelWriter('/content/KPMG_Cleaned_1000_New_Dataset.xlsx',\n",
        "                        engine = 'xlsxwriter')\n",
        "addr_demo_txns.to_excel(writer, sheet_name = 'Dataset')\n",
        "top_1000.to_excel(writer, sheet_name = 'Top 1000')\n",
        "writer.save()\n",
        "writer.close()"
      ],
      "execution_count": null,
      "outputs": [
        {
          "output_type": "stream",
          "text": [
            "/usr/local/lib/python3.7/dist-packages/xlsxwriter/workbook.py:338: UserWarning: Calling close() on already closed file.\n",
            "  warn(\"Calling close() on already closed file.\")\n"
          ],
          "name": "stderr"
        }
      ]
    },
    {
      "cell_type": "code",
      "metadata": {
        "id": "RNuz5N_K5xCK"
      },
      "source": [
        ""
      ],
      "execution_count": null,
      "outputs": []
    }
  ]
}